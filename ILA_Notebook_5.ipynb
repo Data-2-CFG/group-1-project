{
  "nbformat": 4,
  "nbformat_minor": 0,
  "metadata": {
    "colab": {
      "name": "ILA_Notebook_5.ipynb",
      "provenance": []
    },
    "kernelspec": {
      "name": "python3",
      "display_name": "Python 3"
    },
    "language_info": {
      "name": "python"
    }
  },
  "cells": [
    {
      "cell_type": "code",
      "source": [
        "# Loading libraries\n",
        "import pandas as pd\n",
        "\n",
        "import numpy as np\n",
        "from numpy import mean\n",
        "from numpy import std\n",
        "\n",
        "import matplotlib.pyplot as plt\n",
        "%matplotlib inline\n",
        "\n",
        "import seaborn as sns\n",
        "\n",
        "from sklearn import metrics \n",
        "from sklearn.model_selection import train_test_split \n",
        "from sklearn.compose import make_column_transformer\n",
        "from sklearn.pipeline import make_pipeline\n",
        "from sklearn.model_selection import cross_val_score\n",
        "from sklearn.preprocessing import OneHotEncoder\n",
        "from sklearn.datasets import make_classification\n",
        "from sklearn.model_selection import RepeatedKFold\n",
        "from sklearn.linear_model import LogisticRegression\n",
        "from sklearn.utils import resample\n",
        "\n",
        "import datetime as dt\n",
        "from datetime import time\n",
        "from datetime import timedelta"
      ],
      "metadata": {
        "id": "Y1obBXI4AsXu"
      },
      "execution_count": null,
      "outputs": []
    },
    {
      "cell_type": "code",
      "source": [
        "# Mounting drive\n",
        "from google.colab import drive\n",
        "drive.mount('/content/drive')"
      ],
      "metadata": {
        "colab": {
          "base_uri": "https://localhost:8080/"
        },
        "id": "IdLh2naNAz0P",
        "outputId": "ad840a11-cd2c-4fd1-f7e1-dfd0cb25ed1f"
      },
      "execution_count": null,
      "outputs": [
        {
          "output_type": "stream",
          "name": "stdout",
          "text": [
            "Mounted at /content/drive\n"
          ]
        }
      ]
    },
    {
      "cell_type": "code",
      "source": [
        "# loading datasets\n",
        "train_df = pd.read_csv(\"/content/drive/MyDrive/CFG_Project/fraudTrain.csv\", parse_dates=[\"trans_date_trans_time\"])\n",
        "test_df = pd.read_csv(\"/content/drive/MyDrive/CFG_Project/fraudTest.csv\", parse_dates=[\"trans_date_trans_time\"])"
      ],
      "metadata": {
        "id": "hSHTSOx_BTjD"
      },
      "execution_count": null,
      "outputs": []
    },
    {
      "cell_type": "code",
      "source": [
        "# merging pre-split training and test datasets into one dataframe\n",
        "df = train_df.append(test_df, ignore_index=True)"
      ],
      "metadata": {
        "id": "7CNzUvGVBiW6"
      },
      "execution_count": null,
      "outputs": []
    },
    {
      "cell_type": "code",
      "source": [
        "#Removing irrelevant variables\n",
        "\n",
        "irrelevantVar_list = ['Unnamed: 0',\n",
        "                      \"first\",\n",
        "                      \"last\", \n",
        "                      \"street\", \n",
        "                      \"zip\",\n",
        "                      \"lat\",\n",
        "                      \"job\",\n",
        "                      \"long\",\n",
        "                      \"cc_num\", \n",
        "                      \"unix_time\",\n",
        "                      \"trans_num\", \n",
        "                      \"city\",\n",
        "                      \"merchant\",\n",
        "                      \"merch_lat\",\n",
        "                      \"merch_long\"]\n",
        "\n",
        "df.drop(irrelevantVar_list, axis=1, inplace=True)"
      ],
      "metadata": {
        "id": "6F41yEGVBohJ"
      },
      "execution_count": null,
      "outputs": []
    },
    {
      "cell_type": "code",
      "execution_count": null,
      "metadata": {
        "colab": {
          "base_uri": "https://localhost:8080/"
        },
        "id": "EQDtCO9MAPkt",
        "outputId": "4d6fc1fc-7b94-4364-deaa-b3f8f8fdb703"
      },
      "outputs": [
        {
          "output_type": "stream",
          "name": "stderr",
          "text": [
            "/usr/local/lib/python3.7/dist-packages/ipykernel_launcher.py:21: SettingWithCopyWarning: \n",
            "A value is trying to be set on a copy of a slice from a DataFrame\n",
            "\n",
            "See the caveats in the documentation: https://pandas.pydata.org/pandas-docs/stable/user_guide/indexing.html#returning-a-view-versus-a-copy\n",
            "/usr/local/lib/python3.7/dist-packages/ipykernel_launcher.py:34: SettingWithCopyWarning: \n",
            "A value is trying to be set on a copy of a slice from a DataFrame\n",
            "\n",
            "See the caveats in the documentation: https://pandas.pydata.org/pandas-docs/stable/user_guide/indexing.html#returning-a-view-versus-a-copy\n",
            "/usr/local/lib/python3.7/dist-packages/ipykernel_launcher.py:35: SettingWithCopyWarning: \n",
            "A value is trying to be set on a copy of a slice from a DataFrame\n",
            "\n",
            "See the caveats in the documentation: https://pandas.pydata.org/pandas-docs/stable/user_guide/indexing.html#returning-a-view-versus-a-copy\n"
          ]
        }
      ],
      "source": [
        "# Here I am applying the pre-processing protocol developed by Juliana to test whether \n",
        "# by using this technique the logistic regression model yields better results\n",
        "\n",
        "#Encoding variables\n",
        "\n",
        "##1 - Business hours / Non business hours\n",
        "\n",
        "#Standardize variable definitions(mixed two styles of variable definitions)\n",
        "\n",
        "### Creating a column for business_hour with zero as default\n",
        "df[\"business_hour\"] = int(0)\n",
        "\n",
        "###Considering business hours between 8:00-19:00\n",
        "start = dt.datetime.strptime(\"08:00:00\", \"%H:%M:%S\").time()\n",
        "end = dt.datetime.strptime(\"19:00:00\", \"%H:%M:%S\").time()\n",
        "\n",
        "###Defining a mask for the query that catches data within the defined range\n",
        "businessHour_mask = df[\"trans_date_trans_time\"].dt.time.between(start, end)\n",
        "\n",
        "###Setting numbers that fit into encoding to 1\n",
        "df[\"business_hour\"][businessHour_mask] = 1\n",
        "\n",
        "##2 - Weekdays / Weekends\n",
        "\n",
        "### Defining weekdays bin, being weekdays from Monday to Friday (0-4) and weekends Saturday and Sunday (5-6). Weekdays will be labelled as 1 and weekends as 0\n",
        "weekDay_list = [0,1,2,3,4]\n",
        "weekEnd_list = [5,6]\n",
        "\n",
        "###Creating a new column is_weekday\n",
        "\n",
        "df[\"is_weekday\"] = int(0)\n",
        "\n",
        "###Applying the \n",
        "df[\"is_weekday\"][df[\"trans_date_trans_time\"].dt.weekday.isin(weekDay_list)] = 1\n",
        "df[\"is_weekday\"][df[\"trans_date_trans_time\"].dt.weekday.isin(weekEnd_list)] = 0\n",
        "\n",
        "###Dropping the original trans_date_trans_time column \n",
        "df.drop(['trans_date_trans_time'], axis=1, inplace=True)\n",
        "\n",
        "##3 - Male / Female\n",
        "\n",
        "###Defining 1 as male and 2 as female and replacing values\n",
        "df[\"gender\"].replace('F', 0, inplace=True)\n",
        "df[\"gender\"].replace('M', 1, inplace=True)\n",
        "\n",
        "\n",
        "##4 - Numeric age\n",
        "\n",
        "###Transforming date of birth into numeric age\n",
        "yearCharacters = 4\n",
        "currentYear = int(dt.datetime.now().strftime(\"%Y\"))\n",
        "\n",
        "df[\"dob\"] = currentYear - df[\"dob\"].str[:yearCharacters].astype(int)\n",
        "\n",
        "\n",
        "##5 - Target Encoding merchant categories\n",
        "\n",
        "###Getting the means for each category\n",
        "merchantMeans_dict = df.groupby('category')['is_fraud'].mean().to_dict()\n",
        "\n",
        "###Replacing the categorical labels with the means\n",
        "df['category'] = df['category'].map(merchantMeans_dict)\n",
        "\n",
        "##6 - Target Encoding states\n",
        "\n",
        "###Getting the means for each state\n",
        "statetMeans_dict = df.groupby('state')['is_fraud'].mean().to_dict()\n",
        "\n",
        "###Replacing the categorical labels with the means\n",
        "df['state'] = df['state'].map(statetMeans_dict)"
      ]
    },
    {
      "cell_type": "code",
      "source": [
        "#Separating the data into train and test\n",
        "\n",
        "##1 - Separating X and y\n",
        "X = df.drop([\"is_fraud\", \"Unnamed: 0\"], axis=1)\n",
        "y = df['is_fraud']\n",
        "\n",
        "##2 - Splitting dataset into train and test\n",
        "X_train, X_test, y_train, y_test = train_test_split(X, y, train_size=0.8, test_size=0.2, stratify=y, random_state=100)"
      ],
      "metadata": {
        "id": "G0r5KYifBp44"
      },
      "execution_count": null,
      "outputs": []
    },
    {
      "cell_type": "code",
      "source": [
        "# Defining the model\n",
        "model = LogisticRegression()"
      ],
      "metadata": {
        "id": "w-Mipze2CCz-"
      },
      "execution_count": null,
      "outputs": []
    },
    {
      "cell_type": "code",
      "source": [
        "# Fitting the model\n",
        "model.fit(X_train, y_train)"
      ],
      "metadata": {
        "colab": {
          "base_uri": "https://localhost:8080/"
        },
        "id": "jidkGlm_CNRe",
        "outputId": "0b18a333-5b5e-4450-ada0-9c797c64c891"
      },
      "execution_count": null,
      "outputs": [
        {
          "output_type": "execute_result",
          "data": {
            "text/plain": [
              "LogisticRegression()"
            ]
          },
          "metadata": {},
          "execution_count": 9
        }
      ]
    },
    {
      "cell_type": "code",
      "source": [
        "# Estabishing y_pred to use for the creation of a confusion matrix that evaluates the model\n",
        "\n",
        "y_pred = model.predict(X_test)"
      ],
      "metadata": {
        "id": "esVfWXuiCc0H"
      },
      "execution_count": null,
      "outputs": []
    },
    {
      "cell_type": "code",
      "source": [
        "# Creating a confusion matrix as an array\n",
        "\n",
        "cnf_matrix = metrics.confusion_matrix(y_test, y_pred)\n",
        "cnf_matrix"
      ],
      "metadata": {
        "colab": {
          "base_uri": "https://localhost:8080/"
        },
        "id": "AzizJ7h9CgaQ",
        "outputId": "c65fa0f9-d965-4922-ab07-90bc067946b7"
      },
      "execution_count": null,
      "outputs": [
        {
          "output_type": "execute_result",
          "data": {
            "text/plain": [
              "array([[368411,    138],\n",
              "       [  1930,      0]])"
            ]
          },
          "metadata": {},
          "execution_count": 12
        }
      ]
    },
    {
      "cell_type": "code",
      "source": [
        "print(\"Accuracy:\",metrics.accuracy_score(y_test, y_pred))\n",
        "print(\"Precision:\",metrics.precision_score(y_test, y_pred))\n",
        "print(\"Recall:\",metrics.recall_score(y_test, y_pred))"
      ],
      "metadata": {
        "colab": {
          "base_uri": "https://localhost:8080/"
        },
        "id": "BZyi4jRJCj20",
        "outputId": "788e425b-5d08-4fa8-b410-f9ce6f18b8a2"
      },
      "execution_count": null,
      "outputs": [
        {
          "output_type": "stream",
          "name": "stdout",
          "text": [
            "Accuracy: 0.9944180371896922\n",
            "Precision: 0.0\n",
            "Recall: 0.0\n"
          ]
        }
      ]
    },
    {
      "cell_type": "code",
      "source": [
        "# Showing confusion matrix as a heatmap\n",
        "# Defining classes' names\n",
        "class_names=[0,1] \n",
        "fig, ax = plt.subplots()\n",
        "tick_marks = np.arange(len(class_names))\n",
        "plt.xticks(tick_marks, class_names)\n",
        "plt.yticks(tick_marks, class_names)\n",
        "\n",
        "# Creating heatmap\n",
        "sns.heatmap(pd.DataFrame(cnf_matrix), annot=True, cmap=\"YlGnBu\" ,fmt='g')\n",
        "ax.xaxis.set_label_position(\"top\")\n",
        "plt.tight_layout()\n",
        "plt.title('Confusion matrix', y=1.1)\n",
        "plt.ylabel('Fraud label', fontsize=14)\n",
        "plt.xlabel('Predicted label', fontsize=14)"
      ],
      "metadata": {
        "colab": {
          "base_uri": "https://localhost:8080/",
          "height": 345
        },
        "id": "L6PrHIgTCnI8",
        "outputId": "a49c997d-abc2-4eeb-fec7-11790e8eb106"
      },
      "execution_count": null,
      "outputs": [
        {
          "output_type": "execute_result",
          "data": {
            "text/plain": [
              "Text(0.5, 257.44, 'Predicted label')"
            ]
          },
          "metadata": {},
          "execution_count": 14
        },
        {
          "output_type": "display_data",
          "data": {
            "text/plain": [
              "<Figure size 432x288 with 2 Axes>"
            ],
            "image/png": "[encoded data removed]"
          },
          "metadata": {
            "needs_background": "light"
          }
        }
      ]
    },
    {
      "cell_type": "markdown",
      "source": [
        "After applying Juliana's pre-processing protocol I determined that the performance metrics of the logistic regression models continue to show overfitting. As observed in tests carried out so far, the model only correctly recognises genuine transactions since these comprise almost the entirety of the dataset. I will now proceed to test cross-validation as a method to reduce overfitting"
      ],
      "metadata": {
        "id": "fV1ZIJrTCr-e"
      }
    }
  ]
}