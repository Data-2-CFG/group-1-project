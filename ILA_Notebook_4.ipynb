{
  "nbformat": 4,
  "nbformat_minor": 0,
  "metadata": {
    "colab": {
      "name": "ILA_Notebook_4.ipynb",
      "provenance": []
    },
    "kernelspec": {
      "name": "python3",
      "display_name": "Python 3"
    },
    "language_info": {
      "name": "python"
    }
  },
  "cells": [
    {
      "cell_type": "code",
      "execution_count": null,
      "metadata": {
        "id": "d9T-N04ny90A"
      },
      "outputs": [],
      "source": [
        "# Loading libraries\n",
        "import pandas as pd\n",
        "\n",
        "import numpy as np\n",
        "from numpy import mean\n",
        "from numpy import std\n",
        "\n",
        "import matplotlib.pyplot as plt\n",
        "%matplotlib inline\n",
        "\n",
        "import seaborn as sns\n",
        "\n",
        "from sklearn import metrics \n",
        "from sklearn.model_selection import train_test_split \n",
        "from sklearn.compose import make_column_transformer\n",
        "from sklearn.pipeline import make_pipeline\n",
        "from sklearn.model_selection import cross_val_score\n",
        "from sklearn.preprocessing import OneHotEncoder\n",
        "from sklearn.datasets import make_classification\n",
        "from sklearn.model_selection import RepeatedKFold\n",
        "from sklearn.linear_model import LogisticRegression\n",
        "from sklearn.utils import resample\n",
        "\n",
        "import datetime as dt\n",
        "from datetime import time\n",
        "from datetime import timedelta"
      ]
    },
    {
      "cell_type": "code",
      "source": [
        "# Mounting drive\n",
        "from google.colab import drive\n",
        "drive.mount('/content/drive')"
      ],
      "metadata": {
        "colab": {
          "base_uri": "https://localhost:8080/"
        },
        "id": "9e1t7EzFzYq0",
        "outputId": "86435cb9-b6ae-46e3-f96b-8897c51ea8e5"
      },
      "execution_count": null,
      "outputs": [
        {
          "output_type": "stream",
          "name": "stdout",
          "text": [
            "Mounted at /content/drive\n"
          ]
        }
      ]
    },
    {
      "cell_type": "code",
      "source": [
        "# loading datasets\n",
        "train_df = pd.read_csv(\"/content/drive/MyDrive/CFG_Project/fraudTrain.csv\")\n",
        "test_df = pd.read_csv(\"/content/drive/MyDrive/CFG_Project/fraudTest.csv\")"
      ],
      "metadata": {
        "id": "I92bwFcfzg-Q"
      },
      "execution_count": null,
      "outputs": []
    },
    {
      "cell_type": "code",
      "source": [
        "# merging pre-split training and test datasets into one dataframe\n",
        "df = train_df.append(test_df, ignore_index=True)"
      ],
      "metadata": {
        "id": "mjtMARwXzt8J"
      },
      "execution_count": null,
      "outputs": []
    },
    {
      "cell_type": "code",
      "source": [
        "#Removing irrelevant variables\n",
        "irrelevantVar_list = ['Unnamed: 0',\n",
        "                      \"trans_date_trans_time\", \n",
        "                      \"first\", \n",
        "                      \"last\", \n",
        "                      \"street\", \n",
        "                      \"lat\", \n",
        "                      \"job\", \n",
        "                      \"long\",  \n",
        "                      \"cc_num\", \n",
        "                      \"trans_num\", \n",
        "                      \"city\", \n",
        "                      \"zip\", \n",
        "                      \"merchant\", \n",
        "                      \"merch_lat\", \n",
        "                      \"merch_long\"]\n",
        "\n",
        "df.drop(irrelevantVar_list, axis=1, inplace=True)"
      ],
      "metadata": {
        "id": "oIMHJTqez0yo"
      },
      "execution_count": null,
      "outputs": []
    },
    {
      "cell_type": "code",
      "source": [
        "# Using the code developed by Juliana to transform the date of birth column into numeric age\n",
        "yearCharacters = 4\n",
        "currentYear = int(dt.datetime.now().strftime(\"%Y\"))\n",
        "\n",
        "df[\"dob\"] = currentYear - df[\"dob\"].str[:yearCharacters].astype(int)"
      ],
      "metadata": {
        "id": "4EQJooLB1BE5"
      },
      "execution_count": null,
      "outputs": []
    },
    {
      "cell_type": "code",
      "source": [
        "print(df['is_fraud'].value_counts())"
      ],
      "metadata": {
        "colab": {
          "base_uri": "https://localhost:8080/"
        },
        "id": "PCCRuDpZz2MZ",
        "outputId": "86acc16e-f18b-44ff-9769-ae6edac78dc3"
      },
      "execution_count": null,
      "outputs": [
        {
          "output_type": "stream",
          "name": "stdout",
          "text": [
            "0    1842743\n",
            "1       9651\n",
            "Name: is_fraud, dtype: int64\n"
          ]
        }
      ]
    },
    {
      "cell_type": "code",
      "source": [
        "# Splitting target into majority and minority class\n",
        "df_majority = df[df.is_fraud==0]\n",
        "df_minority = df[df.is_fraud==1]"
      ],
      "metadata": {
        "id": "bowpJXrkz4-A"
      },
      "execution_count": null,
      "outputs": []
    },
    {
      "cell_type": "code",
      "source": [
        "# Here I am undersampling the majority class without replacement to match the minority class\n",
        "# df_majority_downsampled = resample(df_majority, \n",
        "                                 replace=False,     \n",
        "                                 n_samples=9651)     "
      ],
      "metadata": {
        "id": "n7PQjW9dz7-b"
      },
      "execution_count": null,
      "outputs": []
    },
    {
      "cell_type": "code",
      "source": [
        "# Here I am upsampling the minority class with replacement to match the majority class\n",
        "df_minority_upsampled = resample(df_minority, \n",
        "                                 replace=True,      \n",
        "                                 n_samples=1842743)   "
      ],
      "metadata": {
        "id": "FALdaTrZ2-2N"
      },
      "execution_count": null,
      "outputs": []
    },
    {
      "cell_type": "code",
      "source": [
        "# Creating a dataframe to display the pool of samples selected out of the majority class with the minority class\n",
        "# df_downsampled = pd.concat([df_majority_downsampled, df_minority])"
      ],
      "metadata": {
        "id": "0nKoG_ek0G3V"
      },
      "execution_count": null,
      "outputs": []
    },
    {
      "cell_type": "code",
      "source": [
        "# Creating a dataframe to display the inflated minority class with the majority class\n",
        "df_upsampled = pd.concat([df_minority_upsampled, df_majority])"
      ],
      "metadata": {
        "id": "Ho2WZa2k3Lfw"
      },
      "execution_count": null,
      "outputs": []
    },
    {
      "cell_type": "code",
      "source": [
        "# Checking that now both the majority and minority class are comprised of 9651 entries\n",
        "# print(df_downsampled['is_fraud'].value_counts())"
      ],
      "metadata": {
        "colab": {
          "base_uri": "https://localhost:8080/"
        },
        "id": "6NGBbaTk0ctj",
        "outputId": "58a1bf09-50cb-46a6-f9f7-90737d39d25e"
      },
      "execution_count": null,
      "outputs": [
        {
          "output_type": "stream",
          "name": "stdout",
          "text": [
            "0    9651\n",
            "1    9651\n",
            "Name: is_fraud, dtype: int64\n"
          ]
        }
      ]
    },
    {
      "cell_type": "code",
      "source": [
        "# Checking that now both the majority and minority class are comprised of 1842743 entries\n",
        "print(df_upsampled['is_fraud'].value_counts())"
      ],
      "metadata": {
        "colab": {
          "base_uri": "https://localhost:8080/"
        },
        "id": "V6tGce1G3mOG",
        "outputId": "0b2b1683-ba66-4745-a066-51bfa90e27a3"
      },
      "execution_count": null,
      "outputs": [
        {
          "output_type": "stream",
          "name": "stdout",
          "text": [
            "1    1842743\n",
            "0    1842743\n",
            "Name: is_fraud, dtype: int64\n"
          ]
        }
      ]
    },
    {
      "cell_type": "code",
      "source": [
        "# Defining the feature columns that I will be feeding to the model \n",
        "\n",
        "feature_cols = ['dob', 'category', 'amt', 'gender', 'state', 'city_pop', 'unix_time']"
      ],
      "metadata": {
        "id": "698UnQHD1eeK"
      },
      "execution_count": null,
      "outputs": []
    },
    {
      "cell_type": "code",
      "source": [
        "# Defining the input variables X as the feature columns and the target variable y as the label to predict\n",
        "# using the dataframe created for the downsampling technique\n",
        "\n",
        "X = df_downsampled[feature_cols] \n",
        "y = df_downsampled.is_fraud "
      ],
      "metadata": {
        "id": "FPkHznUw0vz3"
      },
      "execution_count": null,
      "outputs": []
    },
    {
      "cell_type": "code",
      "source": [
        "# Defining the input variables X as the feature columns and the target variable y as the label to predict\n",
        "# using the dataframe created for the upsampling technique\n",
        "\n",
        "X = df_upsampled[feature_cols] # Features\n",
        "y = df_upsampled.is_fraud # Target variable"
      ],
      "metadata": {
        "id": "0ZulM9uc354b"
      },
      "execution_count": null,
      "outputs": []
    },
    {
      "cell_type": "code",
      "source": [
        "# Splitting dataset into training set and test set, the former will be 80% of the dataset and the latter 20%\n",
        "\n",
        "X_train, X_test, y_train, y_test = train_test_split(X, y, test_size=0.2, random_state=1)"
      ],
      "metadata": {
        "id": "K2PsVK9w1o9H"
      },
      "execution_count": null,
      "outputs": []
    },
    {
      "cell_type": "code",
      "source": [
        "# here I am defining the type of transformation I want the column transformer to perform.\n",
        "# I am specifying the categorical features 'category', 'gender' and 'state' as the targets for OneHotEncoder,\n",
        "# while the remaining columns should pass through without being affected by the transformation\n",
        "\n",
        "column_trans = make_column_transformer((OneHotEncoder(handle_unknown='ignore'),\n",
        "                                        ['category', 'gender', 'state']), \n",
        "                                       remainder='passthrough')"
      ],
      "metadata": {
        "id": "11KegxId1xgW"
      },
      "execution_count": null,
      "outputs": []
    },
    {
      "cell_type": "code",
      "source": [
        "# Here I am defining the model and the pre-processing pipeline that will be applied to it.  \n",
        "model = LogisticRegression()\n",
        "pipe = make_pipeline(column_trans, model)"
      ],
      "metadata": {
        "id": "xh3dUF1z1zUd"
      },
      "execution_count": null,
      "outputs": []
    },
    {
      "cell_type": "code",
      "source": [
        "# Fitting the model and pipeline by using input variables X and target variable y from the training set created previously\n",
        "\n",
        "t_model = pipe.fit(X_train, y_train)\n",
        "t_model"
      ],
      "metadata": {
        "colab": {
          "base_uri": "https://localhost:8080/"
        },
        "id": "K4LQX8FT11s9",
        "outputId": "6639d1fb-5d84-4e79-d511-5b10b8674a6e"
      },
      "execution_count": null,
      "outputs": [
        {
          "output_type": "execute_result",
          "data": {
            "text/plain": [
              "Pipeline(steps=[('columntransformer',\n",
              "                 ColumnTransformer(remainder='passthrough',\n",
              "                                   transformers=[('onehotencoder',\n",
              "                                                  OneHotEncoder(handle_unknown='ignore'),\n",
              "                                                  ['category', 'gender',\n",
              "                                                   'state'])])),\n",
              "                ('logisticregression', LogisticRegression())])"
            ]
          },
          "metadata": {},
          "execution_count": 19
        }
      ]
    },
    {
      "cell_type": "code",
      "source": [
        "y_pred = t_model.predict(X_test)"
      ],
      "metadata": {
        "id": "c_dTG_vr1_b_"
      },
      "execution_count": null,
      "outputs": []
    },
    {
      "cell_type": "code",
      "source": [
        "cnf_matrix = metrics.confusion_matrix(y_test, y_pred)\n",
        "cnf_matrix"
      ],
      "metadata": {
        "colab": {
          "base_uri": "https://localhost:8080/"
        },
        "id": "-5ODcewI2EE8",
        "outputId": "6dbfcf86-767f-45f8-dc92-e148271943e4"
      },
      "execution_count": null,
      "outputs": [
        {
          "output_type": "execute_result",
          "data": {
            "text/plain": [
              "array([[368446,      0],\n",
              "       [368652,      0]])"
            ]
          },
          "metadata": {},
          "execution_count": 21
        }
      ]
    },
    {
      "cell_type": "code",
      "source": [
        "# specifying name of classes\n",
        "class_names=[0,1] \n",
        "fig, ax = plt.subplots()\n",
        "tick_marks = np.arange(len(class_names))\n",
        "plt.xticks(tick_marks, class_names)\n",
        "plt.yticks(tick_marks, class_names)\n",
        "\n",
        "# creating heatmap\n",
        "sns.heatmap(pd.DataFrame(cnf_matrix), annot=True, cmap=\"YlGnBu\" ,fmt='g')\n",
        "ax.xaxis.set_label_position(\"top\")\n",
        "plt.tight_layout()\n",
        "plt.title('Confusion matrix', y=1.1)\n",
        "plt.ylabel('Fraud label', fontsize=14)\n",
        "plt.xlabel('Predicted label', fontsize=14)"
      ],
      "metadata": {
        "colab": {
          "base_uri": "https://localhost:8080/",
          "height": 345
        },
        "id": "KAh_HfO12U66",
        "outputId": "b9560bf1-58f3-42dc-8a21-422e86a6d2f4"
      },
      "execution_count": null,
      "outputs": [
        {
          "output_type": "execute_result",
          "data": {
            "text/plain": [
              "Text(0.5, 257.44, 'Predicted label')"
            ]
          },
          "metadata": {},
          "execution_count": 22
        },
        {
          "output_type": "display_data",
          "data": {
            "text/plain": [
              "<Figure size 432x288 with 2 Axes>"
            ],
            "image/png": "[encoded data removed]"
          },
          "metadata": {
            "needs_background": "light"
          }
        }
      ]
    },
    {
      "cell_type": "code",
      "source": [
        "print(\"Accuracy:\",metrics.accuracy_score(y_test, y_pred))\n",
        "print(\"Precision:\",metrics.precision_score(y_test, y_pred))\n",
        "print(\"Recall:\",metrics.recall_score(y_test, y_pred))"
      ],
      "metadata": {
        "colab": {
          "base_uri": "https://localhost:8080/"
        },
        "id": "KR-6vJyb2fck",
        "outputId": "f2b0bc04-f40b-4fc0-88ed-d87828f198ab"
      },
      "execution_count": null,
      "outputs": [
        {
          "output_type": "stream",
          "name": "stdout",
          "text": [
            "Accuracy: 0.48951048951048953\n",
            "Precision: 0.48951048951048953\n",
            "Recall: 1.0\n"
          ]
        }
      ]
    },
    {
      "cell_type": "markdown",
      "source": [
        "While Juliana has proceeded with testing the decision tree model, I have kept focussing on logistic regression. I tried experimenting with upsampling and downsampling to deal with the unbalanced nature of the dataset and overcome the overfitting issue.\n",
        "\n",
        "This document contains the necessary code to run both scenarios, just comment out all cells related to 'upsampling' to view the results related to 'downsampling' and vice versa, every cell that is only relevant to execute one of the two techniques is labelled. \n",
        "\n",
        "These are the observations I made after experimenting with different parameters:\n",
        "\n",
        "1. I attempted to use upsampling to artificially inflate the instances of fraud to match those of genuine transactions. This however creates duplicate data of fraudulent transactions, which results in a model prone to overfitting that can still only recognise genuine transactions and never correctly labels instances of fraud.\n",
        "\n",
        "2. I applied downsampling to only select a smaller pool of genuine transactions to match the number of fraud instances. This initially showed very encouraging metrics, with a decrease in performance for the accuracy score but a significant increase in recall and precision scores. The confusion matrix showed that the logistic regression model was correctly labelling fraudulent transactions in about 70% of cases. However, after restarting the runtime multiple times to test whether different cuts of the downsampled majority class would produce consistent results, it became clear that performance metrics are very inconsistent when using downsampling techniques on this dataset. This method produced models that could only correctly label fraudulent instances, as well as models that could only correctly label genuine transactions and varying combinations of accuracy, recall and precision metrics across the spectrum. It appears that logistic regression cannot successfully overcome overfitting issues through downsampling only in this instance.\n",
        "\n",
        "3. I experimented with a combination of upsampling and downsampling, however these all produced either overfitted models that could only predict genuine transactions results or underfitted models with accuracy, recall and precision scores of about 50%. \n",
        "\n",
        "In conclusion, I cannot find a way forward to harvest resampling techniques to overcome overfitting for this logistic regression model. I will now proceed to test its performance with cross-validation and by applying the encoding pre-processing protocol developed by Juliana. "
      ],
      "metadata": {
        "id": "p5rpLB1b4HN7"
      }
    }
  ]
}