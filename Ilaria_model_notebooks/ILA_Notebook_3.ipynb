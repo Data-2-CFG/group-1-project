{
  "nbformat": 4,
  "nbformat_minor": 0,
  "metadata": {
    "colab": {
      "name": "ILA_Notebook_3.ipynb",
      "provenance": []
    },
    "kernelspec": {
      "name": "python3",
      "display_name": "Python 3"
    },
    "language_info": {
      "name": "python"
    }
  },
  "cells": [
    {
      "cell_type": "code",
      "execution_count": null,
      "metadata": {
        "id": "3h6OVYUNi9cE"
      },
      "outputs": [],
      "source": [
        "# Loading libraries\n",
        "import pandas as pd\n",
        "\n",
        "import numpy as np\n",
        "from numpy import mean\n",
        "from numpy import std\n",
        "\n",
        "import matplotlib.pyplot as plt\n",
        "%matplotlib inline\n",
        "\n",
        "import seaborn as sns\n",
        "\n",
        "from sklearn import metrics \n",
        "from sklearn.model_selection import train_test_split \n",
        "from sklearn.compose import make_column_transformer\n",
        "from sklearn.pipeline import make_pipeline\n",
        "from sklearn.model_selection import cross_val_score\n",
        "from sklearn.preprocessing import OneHotEncoder\n",
        "from sklearn.datasets import make_classification\n",
        "from sklearn.model_selection import RepeatedKFold\n",
        "from sklearn.linear_model import LogisticRegression"
      ]
    },
    {
      "cell_type": "code",
      "source": [
        "# mounting google drive\n",
        "from google.colab import drive\n",
        "drive.mount('/content/drive')"
      ],
      "metadata": {
        "colab": {
          "base_uri": "https://localhost:8080/"
        },
        "id": "9wctOD2ZkAHZ",
        "outputId": "e8769c55-cdb2-4d2b-bd95-9dd950fc8614"
      },
      "execution_count": null,
      "outputs": [
        {
          "output_type": "stream",
          "name": "stdout",
          "text": [
            "Mounted at /content/drive\n"
          ]
        }
      ]
    },
    {
      "cell_type": "code",
      "source": [
        "# loading datasets\n",
        "train_df = pd.read_csv(\"/content/drive/MyDrive/CFG_Project/fraudTrain.csv\")\n",
        "test_df = pd.read_csv(\"/content/drive/MyDrive/CFG_Project/fraudTest.csv\")"
      ],
      "metadata": {
        "id": "pbtqyDuSkWue"
      },
      "execution_count": null,
      "outputs": []
    },
    {
      "cell_type": "code",
      "source": [
        "# merging pre-split training and test datasets into one dataframe\n",
        "df = train_df.append(test_df, ignore_index=True)"
      ],
      "metadata": {
        "id": "LojBJJ_dkjrl"
      },
      "execution_count": null,
      "outputs": []
    },
    {
      "cell_type": "code",
      "source": [
        "df.columns"
      ],
      "metadata": {
        "colab": {
          "base_uri": "https://localhost:8080/"
        },
        "id": "xYnsBjY-krGG",
        "outputId": "27a31f7a-b679-45c2-c06c-0a7570d3187a"
      },
      "execution_count": null,
      "outputs": [
        {
          "output_type": "execute_result",
          "data": {
            "text/plain": [
              "Index(['Unnamed: 0', 'trans_date_trans_time', 'cc_num', 'merchant', 'category',\n",
              "       'amt', 'first', 'last', 'gender', 'street', 'city', 'state', 'zip',\n",
              "       'lat', 'long', 'city_pop', 'job', 'dob', 'trans_num', 'unix_time',\n",
              "       'merch_lat', 'merch_long', 'is_fraud'],\n",
              "      dtype='object')"
            ]
          },
          "metadata": {},
          "execution_count": 6
        }
      ]
    },
    {
      "cell_type": "code",
      "source": [
        "df.dtypes"
      ],
      "metadata": {
        "colab": {
          "base_uri": "https://localhost:8080/"
        },
        "id": "dRuNzwiHkvyO",
        "outputId": "af93bbd8-96ae-4f89-91f0-3559c6d98f2e"
      },
      "execution_count": null,
      "outputs": [
        {
          "output_type": "execute_result",
          "data": {
            "text/plain": [
              "Unnamed: 0                 int64\n",
              "trans_date_trans_time     object\n",
              "cc_num                     int64\n",
              "merchant                  object\n",
              "category                  object\n",
              "amt                      float64\n",
              "first                     object\n",
              "last                      object\n",
              "gender                    object\n",
              "street                    object\n",
              "city                      object\n",
              "state                     object\n",
              "zip                        int64\n",
              "lat                      float64\n",
              "long                     float64\n",
              "city_pop                   int64\n",
              "job                       object\n",
              "dob                       object\n",
              "trans_num                 object\n",
              "unix_time                  int64\n",
              "merch_lat                float64\n",
              "merch_long               float64\n",
              "is_fraud                   int64\n",
              "dtype: object"
            ]
          },
          "metadata": {},
          "execution_count": 7
        }
      ]
    },
    {
      "cell_type": "code",
      "source": [
        "#Removing irrelevant variables\n",
        "\n",
        "irrelevantVar_list = ['Unnamed: 0', \n",
        "                      \"trans_date_trans_time\", \n",
        "                      \"first\", \n",
        "                      \"last\", \n",
        "                      \"street\", \n",
        "                      \"lat\", \n",
        "                      \"job\", \n",
        "                      \"long\",  \n",
        "                      \"cc_num\", \n",
        "                      \"trans_num\", \n",
        "                      \"city\", \n",
        "                      \"zip\", \n",
        "                      \"merchant\", \n",
        "                      \"merch_lat\", \n",
        "                      \"merch_long\"]\n",
        "\n",
        "df.drop(irrelevantVar_list, axis=1, inplace=True)"
      ],
      "metadata": {
        "id": "f6E8LcCMkyRA"
      },
      "execution_count": null,
      "outputs": []
    },
    {
      "cell_type": "code",
      "source": [
        "df.head(5)"
      ],
      "metadata": {
        "colab": {
          "base_uri": "https://localhost:8080/",
          "height": 206
        },
        "id": "XrjESvGXk_oV",
        "outputId": "181eb35b-598b-436b-c7f3-26c220767560"
      },
      "execution_count": null,
      "outputs": [
        {
          "output_type": "execute_result",
          "data": {
            "text/plain": [
              "        category     amt gender state  city_pop         dob   unix_time  \\\n",
              "0       misc_net    4.97      F    NC      3495  1988-03-09  1325376018   \n",
              "1    grocery_pos  107.23      F    WA       149  1978-06-21  1325376044   \n",
              "2  entertainment  220.11      M    ID      4154  1962-01-19  1325376051   \n",
              "3  gas_transport   45.00      M    MT      1939  1967-01-12  1325376076   \n",
              "4       misc_pos   41.96      M    VA        99  1986-03-28  1325376186   \n",
              "\n",
              "   is_fraud  \n",
              "0         0  \n",
              "1         0  \n",
              "2         0  \n",
              "3         0  \n",
              "4         0  "
            ],
            "text/html": [
              "\n",
              "  <div id=\"df-2cd619b3-7d28-4947-9e38-df2368d03c65\">\n",
              "    <div class=\"colab-df-container\">\n",
              "      <div>\n",
              "<style scoped>\n",
              "    .dataframe tbody tr th:only-of-type {\n",
              "        vertical-align: middle;\n",
              "    }\n",
              "\n",
              "    .dataframe tbody tr th {\n",
              "        vertical-align: top;\n",
              "    }\n",
              "\n",
              "    .dataframe thead th {\n",
              "        text-align: right;\n",
              "    }\n",
              "</style>\n",
              "<table border=\"1\" class=\"dataframe\">\n",
              "  <thead>\n",
              "    <tr style=\"text-align: right;\">\n",
              "      <th></th>\n",
              "      <th>category</th>\n",
              "      <th>amt</th>\n",
              "      <th>gender</th>\n",
              "      <th>state</th>\n",
              "      <th>city_pop</th>\n",
              "      <th>dob</th>\n",
              "      <th>unix_time</th>\n",
              "      <th>is_fraud</th>\n",
              "    </tr>\n",
              "  </thead>\n",
              "  <tbody>\n",
              "    <tr>\n",
              "      <th>0</th>\n",
              "      <td>misc_net</td>\n",
              "      <td>4.97</td>\n",
              "      <td>F</td>\n",
              "      <td>NC</td>\n",
              "      <td>3495</td>\n",
              "      <td>1988-03-09</td>\n",
              "      <td>1325376018</td>\n",
              "      <td>0</td>\n",
              "    </tr>\n",
              "    <tr>\n",
              "      <th>1</th>\n",
              "      <td>grocery_pos</td>\n",
              "      <td>107.23</td>\n",
              "      <td>F</td>\n",
              "      <td>WA</td>\n",
              "      <td>149</td>\n",
              "      <td>1978-06-21</td>\n",
              "      <td>1325376044</td>\n",
              "      <td>0</td>\n",
              "    </tr>\n",
              "    <tr>\n",
              "      <th>2</th>\n",
              "      <td>entertainment</td>\n",
              "      <td>220.11</td>\n",
              "      <td>M</td>\n",
              "      <td>ID</td>\n",
              "      <td>4154</td>\n",
              "      <td>1962-01-19</td>\n",
              "      <td>1325376051</td>\n",
              "      <td>0</td>\n",
              "    </tr>\n",
              "    <tr>\n",
              "      <th>3</th>\n",
              "      <td>gas_transport</td>\n",
              "      <td>45.00</td>\n",
              "      <td>M</td>\n",
              "      <td>MT</td>\n",
              "      <td>1939</td>\n",
              "      <td>1967-01-12</td>\n",
              "      <td>1325376076</td>\n",
              "      <td>0</td>\n",
              "    </tr>\n",
              "    <tr>\n",
              "      <th>4</th>\n",
              "      <td>misc_pos</td>\n",
              "      <td>41.96</td>\n",
              "      <td>M</td>\n",
              "      <td>VA</td>\n",
              "      <td>99</td>\n",
              "      <td>1986-03-28</td>\n",
              "      <td>1325376186</td>\n",
              "      <td>0</td>\n",
              "    </tr>\n",
              "  </tbody>\n",
              "</table>\n",
              "</div>\n",
              "      <button class=\"colab-df-convert\" onclick=\"convertToInteractive('df-2cd619b3-7d28-4947-9e38-df2368d03c65')\"\n",
              "              title=\"Convert this dataframe to an interactive table.\"\n",
              "              style=\"display:none;\">\n",
              "        \n",
              "  <svg xmlns=\"http://www.w3.org/2000/svg\" height=\"24px\"viewBox=\"0 0 24 24\"\n",
              "       width=\"24px\">\n",
              "    <path d=\"M0 0h24v24H0V0z\" fill=\"none\"/>\n",
              "    <path d=\"M18.56 5.44l.94 2.06.94-2.06 2.06-.94-2.06-.94-.94-2.06-.94 2.06-2.06.94zm-11 1L8.5 8.5l.94-2.06 2.06-.94-2.06-.94L8.5 2.5l-.94 2.06-2.06.94zm10 10l.94 2.06.94-2.06 2.06-.94-2.06-.94-.94-2.06-.94 2.06-2.06.94z\"/><path d=\"M17.41 7.96l-1.37-1.37c-.4-.4-.92-.59-1.43-.59-.52 0-1.04.2-1.43.59L10.3 9.45l-7.72 7.72c-.78.78-.78 2.05 0 2.83L4 21.41c.39.39.9.59 1.41.59.51 0 1.02-.2 1.41-.59l7.78-7.78 2.81-2.81c.8-.78.8-2.07 0-2.86zM5.41 20L4 18.59l7.72-7.72 1.47 1.35L5.41 20z\"/>\n",
              "  </svg>\n",
              "      </button>\n",
              "      \n",
              "  <style>\n",
              "    .colab-df-container {\n",
              "      display:flex;\n",
              "      flex-wrap:wrap;\n",
              "      gap: 12px;\n",
              "    }\n",
              "\n",
              "    .colab-df-convert {\n",
              "      background-color: #E8F0FE;\n",
              "      border: none;\n",
              "      border-radius: 50%;\n",
              "      cursor: pointer;\n",
              "      display: none;\n",
              "      fill: #1967D2;\n",
              "      height: 32px;\n",
              "      padding: 0 0 0 0;\n",
              "      width: 32px;\n",
              "    }\n",
              "\n",
              "    .colab-df-convert:hover {\n",
              "      background-color: #E2EBFA;\n",
              "      box-shadow: 0px 1px 2px rgba(60, 64, 67, 0.3), 0px 1px 3px 1px rgba(60, 64, 67, 0.15);\n",
              "      fill: #174EA6;\n",
              "    }\n",
              "\n",
              "    [theme=dark] .colab-df-convert {\n",
              "      background-color: #3B4455;\n",
              "      fill: #D2E3FC;\n",
              "    }\n",
              "\n",
              "    [theme=dark] .colab-df-convert:hover {\n",
              "      background-color: #434B5C;\n",
              "      box-shadow: 0px 1px 3px 1px rgba(0, 0, 0, 0.15);\n",
              "      filter: drop-shadow(0px 1px 2px rgba(0, 0, 0, 0.3));\n",
              "      fill: #FFFFFF;\n",
              "    }\n",
              "  </style>\n",
              "\n",
              "      <script>\n",
              "        const buttonEl =\n",
              "          document.querySelector('#df-2cd619b3-7d28-4947-9e38-df2368d03c65 button.colab-df-convert');\n",
              "        buttonEl.style.display =\n",
              "          google.colab.kernel.accessAllowed ? 'block' : 'none';\n",
              "\n",
              "        async function convertToInteractive(key) {\n",
              "          const element = document.querySelector('#df-2cd619b3-7d28-4947-9e38-df2368d03c65');\n",
              "          const dataTable =\n",
              "            await google.colab.kernel.invokeFunction('convertToInteractive',\n",
              "                                                     [key], {});\n",
              "          if (!dataTable) return;\n",
              "\n",
              "          const docLinkHtml = 'Like what you see? Visit the ' +\n",
              "            '<a target=\"_blank\" href=https://colab.research.google.com/notebooks/data_table.ipynb>data table notebook</a>'\n",
              "            + ' to learn more about interactive tables.';\n",
              "          element.innerHTML = '';\n",
              "          dataTable['output_type'] = 'display_data';\n",
              "          await google.colab.output.renderOutput(dataTable, element);\n",
              "          const docLink = document.createElement('div');\n",
              "          docLink.innerHTML = docLinkHtml;\n",
              "          element.appendChild(docLink);\n",
              "        }\n",
              "      </script>\n",
              "    </div>\n",
              "  </div>\n",
              "  "
            ]
          },
          "metadata": {},
          "execution_count": 8
        }
      ]
    },
    {
      "cell_type": "code",
      "source": [
        "#First, I will use the code developed by Juliana to transform the date of birth column into numeric age\n",
        "\n",
        "import datetime as dt\n",
        "from datetime import time\n",
        "from datetime import timedelta\n",
        "\n",
        "yearCharacters = 4\n",
        "currentYear = int(dt.datetime.now().strftime(\"%Y\"))\n",
        "\n",
        "df[\"dob\"] = currentYear - df[\"dob\"].str[:yearCharacters].astype(int)"
      ],
      "metadata": {
        "id": "hij_SKtjlC5r"
      },
      "execution_count": null,
      "outputs": []
    },
    {
      "cell_type": "code",
      "source": [
        "# Defining the feature columns that I will be feeding to the model \n",
        "\n",
        "feature_cols = ['dob', 'category', 'amt', 'gender', 'state', 'city_pop', 'unix_time']"
      ],
      "metadata": {
        "id": "lim8QgyGlkP2"
      },
      "execution_count": null,
      "outputs": []
    },
    {
      "cell_type": "code",
      "source": [
        "# Defining the input variables X as the feature columns and the target variable y as the label to predict\n",
        "\n",
        "X = df[feature_cols] # Features\n",
        "y = df.is_fraud # Target variable"
      ],
      "metadata": {
        "id": "0pNzi-1Vl0dE"
      },
      "execution_count": null,
      "outputs": []
    },
    {
      "cell_type": "code",
      "source": [
        "# Splitting dataset into training set and test set, the former will be 80% of the dataset and the latter 20%\n",
        "\n",
        "X_train, X_test, y_train, y_test = train_test_split(X, y, test_size=0.2, random_state=1)"
      ],
      "metadata": {
        "id": "ncIKh6qol-w0"
      },
      "execution_count": null,
      "outputs": []
    },
    {
      "cell_type": "code",
      "source": [
        "# here I am defining the type of transformation I want the column transformer to perform.\n",
        "# I am specifying the categorical features 'category', 'gender' and 'state' as the targets for OneHotEncoder,\n",
        "# while the remaining columns should pass through without being affected by the transformation\n",
        "\n",
        "column_trans = make_column_transformer((OneHotEncoder(handle_unknown='ignore'),\n",
        "                                        ['category', 'gender', 'state']), \n",
        "                                       remainder='passthrough')"
      ],
      "metadata": {
        "id": "jaqs8HuXmJpC"
      },
      "execution_count": null,
      "outputs": []
    },
    {
      "cell_type": "code",
      "source": [
        "# Here I am defining the model and the pre-processing pipeline that will be applied to it.  \n",
        "\n",
        "model = LogisticRegression()\n",
        "pipe = make_pipeline(column_trans, model)"
      ],
      "metadata": {
        "id": "JB8-uT4qmor2"
      },
      "execution_count": null,
      "outputs": []
    },
    {
      "cell_type": "code",
      "source": [
        "# Fitting the model and pipeline by using input variables X and target variable y from the training set created previously\n",
        "t_model = pipe.fit(X_train, y_train)\n",
        "t_model"
      ],
      "metadata": {
        "colab": {
          "base_uri": "https://localhost:8080/"
        },
        "id": "63_GsX6Vm1dl",
        "outputId": "34e389da-c72a-47fd-9516-968c256b3349"
      },
      "execution_count": null,
      "outputs": [
        {
          "output_type": "execute_result",
          "data": {
            "text/plain": [
              "Pipeline(steps=[('columntransformer',\n",
              "                 ColumnTransformer(remainder='passthrough',\n",
              "                                   transformers=[('onehotencoder',\n",
              "                                                  OneHotEncoder(handle_unknown='ignore'),\n",
              "                                                  ['category', 'gender',\n",
              "                                                   'state'])])),\n",
              "                ('logisticregression', LogisticRegression())])"
            ]
          },
          "metadata": {},
          "execution_count": 15
        }
      ]
    },
    {
      "cell_type": "code",
      "source": [
        "# Estabishing y_pred to use for the creation of a confusion matrix that evaluates the model\n",
        "\n",
        "y_pred = t_model.predict(X_test)"
      ],
      "metadata": {
        "id": "CXUyVyaGnNXN"
      },
      "execution_count": null,
      "outputs": []
    },
    {
      "cell_type": "code",
      "source": [
        "# Creating a confusion matrix as an array\n",
        "\n",
        "cnf_matrix = metrics.confusion_matrix(y_test, y_pred)\n",
        "cnf_matrix"
      ],
      "metadata": {
        "colab": {
          "base_uri": "https://localhost:8080/"
        },
        "id": "IkwVc5tCnSvc",
        "outputId": "b8bb48a8-b128-4b50-bf9e-b985b0f1127e"
      },
      "execution_count": null,
      "outputs": [
        {
          "output_type": "execute_result",
          "data": {
            "text/plain": [
              "array([[368534,      0],\n",
              "       [  1945,      0]])"
            ]
          },
          "metadata": {},
          "execution_count": 17
        }
      ]
    },
    {
      "cell_type": "code",
      "source": [
        "print(\"Accuracy:\",metrics.accuracy_score(y_test, y_pred))\n",
        "print(\"Precision:\",metrics.precision_score(y_test, y_pred))\n",
        "print(\"Recall:\",metrics.recall_score(y_test, y_pred))"
      ],
      "metadata": {
        "colab": {
          "base_uri": "https://localhost:8080/"
        },
        "id": "zvxe8Ssgqhyq",
        "outputId": "a7961add-2ac8-437a-d056-d6839d6f67a6"
      },
      "execution_count": null,
      "outputs": [
        {
          "output_type": "stream",
          "name": "stdout",
          "text": [
            "Accuracy: 0.9947500398133228\n"
          ]
        },
        {
          "output_type": "stream",
          "name": "stderr",
          "text": [
            "/usr/local/lib/python3.7/dist-packages/sklearn/metrics/_classification.py:1318: UndefinedMetricWarning: Precision is ill-defined and being set to 0.0 due to no predicted samples. Use `zero_division` parameter to control this behavior.\n",
            "  _warn_prf(average, modifier, msg_start, len(result))\n"
          ]
        },
        {
          "output_type": "stream",
          "name": "stdout",
          "text": [
            "Precision: 0.0\n",
            "Recall: 0.0\n"
          ]
        }
      ]
    },
    {
      "cell_type": "code",
      "source": [
        "# Showing confusion matrix as a heatmap\n",
        "# Defining classes' names\n",
        "class_names=[0,1] \n",
        "fig, ax = plt.subplots()\n",
        "tick_marks = np.arange(len(class_names))\n",
        "plt.xticks(tick_marks, class_names)\n",
        "plt.yticks(tick_marks, class_names)\n",
        "\n",
        "# Creating heatmap\n",
        "sns.heatmap(pd.DataFrame(cnf_matrix), annot=True, cmap=\"YlGnBu\" ,fmt='g')\n",
        "ax.xaxis.set_label_position(\"top\")\n",
        "plt.tight_layout()\n",
        "plt.title('Confusion matrix', y=1.1)\n",
        "plt.ylabel('Fraud label', fontsize=14)\n",
        "plt.xlabel('Predicted label', fontsize=14)"
      ],
      "metadata": {
        "colab": {
          "base_uri": "https://localhost:8080/",
          "height": 345
        },
        "id": "eHmm2zUen2r2",
        "outputId": "9f60df79-fc6c-478c-86c9-eefffe4963db"
      },
      "execution_count": null,
      "outputs": [
        {
          "output_type": "execute_result",
          "data": {
            "text/plain": [
              "Text(0.5, 257.44, 'Predicted label')"
            ]
          },
          "metadata": {},
          "execution_count": 24
        },
        {
          "output_type": "display_data",
          "data": {
            "text/plain": [
              "<Figure size 432x288 with 2 Axes>"
            ],
            "image/png": "[encoded data removed]"
          },
          "metadata": {
            "needs_background": "light"
          }
        }
      ]
    },
    {
      "cell_type": "code",
      "source": [
        "from sklearn.tree import DecisionTreeClassifier # Import Decision Tree Classifier\n",
        "new_model = DecisionTreeClassifier()\n",
        "new_pipe = make_pipeline(column_trans, new_model)"
      ],
      "metadata": {
        "id": "5AlSbilhrH94"
      },
      "execution_count": null,
      "outputs": []
    },
    {
      "cell_type": "code",
      "source": [
        "# Train Decision Tree Classifer\n",
        "new_t_model = new_pipe.fit(X_train, y_train)"
      ],
      "metadata": {
        "id": "NHosjBkSr6mD"
      },
      "execution_count": null,
      "outputs": []
    },
    {
      "cell_type": "code",
      "source": [
        "clf = new_t_model"
      ],
      "metadata": {
        "id": "rMEwjUYZtYiN"
      },
      "execution_count": null,
      "outputs": []
    },
    {
      "cell_type": "code",
      "source": [
        "#Predict the response for test dataset\n",
        "new_y_pred = new_t_model.predict(X_test)"
      ],
      "metadata": {
        "id": "vK4KXW_dr8Cg"
      },
      "execution_count": null,
      "outputs": []
    },
    {
      "cell_type": "code",
      "source": [
        "cnf_matrix = metrics.confusion_matrix(y_test, new_y_pred)\n",
        "cnf_matrix"
      ],
      "metadata": {
        "colab": {
          "base_uri": "https://localhost:8080/"
        },
        "id": "sN9gjbfosSR8",
        "outputId": "741b3c60-be11-40af-beb3-2aca0c95ddc1"
      },
      "execution_count": null,
      "outputs": [
        {
          "output_type": "execute_result",
          "data": {
            "text/plain": [
              "array([[367894,    640],\n",
              "       [   566,   1379]])"
            ]
          },
          "metadata": {},
          "execution_count": 22
        }
      ]
    },
    {
      "cell_type": "code",
      "source": [
        "print(\"Accuracy:\",metrics.accuracy_score(y_test, new_y_pred))\n",
        "print(\"Precision:\",metrics.precision_score(y_test, new_y_pred))\n",
        "print(\"Recall:\",metrics.recall_score(y_test, new_y_pred))"
      ],
      "metadata": {
        "colab": {
          "base_uri": "https://localhost:8080/"
        },
        "id": "ySAt0odzsdyO",
        "outputId": "30a5774b-2b01-4bf5-ce1f-596cd6d1778a"
      },
      "execution_count": null,
      "outputs": [
        {
          "output_type": "stream",
          "name": "stdout",
          "text": [
            "Accuracy: 0.9967447547634278\n",
            "Precision: 0.683011391778108\n",
            "Recall: 0.7089974293059126\n"
          ]
        }
      ]
    },
    {
      "cell_type": "code",
      "source": [
        "# Showing confusion matrix as a heatmap\n",
        "\n",
        "class_names=[0,1] # name  of classes\n",
        "fig, ax = plt.subplots()\n",
        "tick_marks = np.arange(len(class_names))\n",
        "plt.xticks(tick_marks, class_names)\n",
        "plt.yticks(tick_marks, class_names)\n",
        "# create heatmap\n",
        "sns.heatmap(pd.DataFrame(cnf_matrix), annot=True, cmap=\"YlGnBu\" ,fmt='g')\n",
        "ax.xaxis.set_label_position(\"top\")\n",
        "plt.tight_layout()\n",
        "plt.title('Confusion matrix', y=1.1)\n",
        "plt.ylabel('Fraud label', fontsize=14)\n",
        "plt.xlabel('Predicted label', fontsize=14)"
      ],
      "metadata": {
        "colab": {
          "base_uri": "https://localhost:8080/",
          "height": 345
        },
        "id": "Yz7RPw8ysmlB",
        "outputId": "b7073dcf-e504-4fb8-c3ac-473c5429341b"
      },
      "execution_count": null,
      "outputs": [
        {
          "output_type": "execute_result",
          "data": {
            "text/plain": [
              "Text(0.5, 257.44, 'Predicted label')"
            ]
          },
          "metadata": {},
          "execution_count": 24
        },
        {
          "output_type": "display_data",
          "data": {
            "text/plain": [
              "<Figure size 432x288 with 2 Axes>"
            ],
            "image/png": "[encoded data removed]"
          },
          "metadata": {
            "needs_background": "light"
          }
        }
      ]
    },
    {
      "cell_type": "code",
      "source": [
        "!pip install mlinsights"
      ],
      "metadata": {
        "colab": {
          "base_uri": "https://localhost:8080/"
        },
        "id": "XaoMwFMVvwu6",
        "outputId": "804b538c-cfeb-4f7d-b0e6-8230951b2552"
      },
      "execution_count": null,
      "outputs": [
        {
          "output_type": "stream",
          "name": "stdout",
          "text": [
            "Collecting mlinsights\n",
            "  Downloading mlinsights-0.3.631-cp37-cp37m-manylinux_2_17_x86_64.manylinux2014_x86_64.whl (2.3 MB)\n",
            "\u001b[K     |████████████████████████████████| 2.3 MB 5.1 MB/s \n",
            "\u001b[?25hRequirement already satisfied: scipy in /usr/local/lib/python3.7/dist-packages (from mlinsights) (1.4.1)\n",
            "Requirement already satisfied: cython in /usr/local/lib/python3.7/dist-packages (from mlinsights) (0.29.30)\n",
            "Collecting pandas-streaming\n",
            "  Downloading pandas_streaming-0.3.218-py3-none-any.whl (35 kB)\n",
            "Requirement already satisfied: matplotlib in /usr/local/lib/python3.7/dist-packages (from mlinsights) (3.2.2)\n",
            "Requirement already satisfied: scikit-learn>=1.0 in /usr/local/lib/python3.7/dist-packages (from mlinsights) (1.0.2)\n",
            "Requirement already satisfied: numpy>=1.16 in /usr/local/lib/python3.7/dist-packages (from mlinsights) (1.21.6)\n",
            "Requirement already satisfied: pandas in /usr/local/lib/python3.7/dist-packages (from mlinsights) (1.3.5)\n",
            "Requirement already satisfied: threadpoolctl>=2.0.0 in /usr/local/lib/python3.7/dist-packages (from scikit-learn>=1.0->mlinsights) (3.1.0)\n",
            "Requirement already satisfied: joblib>=0.11 in /usr/local/lib/python3.7/dist-packages (from scikit-learn>=1.0->mlinsights) (1.1.0)\n",
            "Requirement already satisfied: python-dateutil>=2.1 in /usr/local/lib/python3.7/dist-packages (from matplotlib->mlinsights) (2.8.2)\n",
            "Requirement already satisfied: cycler>=0.10 in /usr/local/lib/python3.7/dist-packages (from matplotlib->mlinsights) (0.11.0)\n",
            "Requirement already satisfied: kiwisolver>=1.0.1 in /usr/local/lib/python3.7/dist-packages (from matplotlib->mlinsights) (1.4.2)\n",
            "Requirement already satisfied: pyparsing!=2.0.4,!=2.1.2,!=2.1.6,>=2.0.1 in /usr/local/lib/python3.7/dist-packages (from matplotlib->mlinsights) (3.0.9)\n",
            "Requirement already satisfied: typing-extensions in /usr/local/lib/python3.7/dist-packages (from kiwisolver>=1.0.1->matplotlib->mlinsights) (4.2.0)\n",
            "Requirement already satisfied: six>=1.5 in /usr/local/lib/python3.7/dist-packages (from python-dateutil>=2.1->matplotlib->mlinsights) (1.15.0)\n",
            "Requirement already satisfied: pytz>=2017.3 in /usr/local/lib/python3.7/dist-packages (from pandas->mlinsights) (2022.1)\n",
            "Collecting ijson\n",
            "  Downloading ijson-3.1.4-cp37-cp37m-manylinux2010_x86_64.whl (126 kB)\n",
            "\u001b[K     |████████████████████████████████| 126 kB 55.1 MB/s \n",
            "\u001b[?25hInstalling collected packages: ijson, pandas-streaming, mlinsights\n",
            "Successfully installed ijson-3.1.4 mlinsights-0.3.631 pandas-streaming-0.3.218\n"
          ]
        }
      ]
    },
    {
      "cell_type": "code",
      "source": [
        "!pip install pyquickhelper"
      ],
      "metadata": {
        "colab": {
          "base_uri": "https://localhost:8080/"
        },
        "id": "Gqhg84JuwJeC",
        "outputId": "b841f7b7-fb86-4b7d-b42f-3d2ade3197d4"
      },
      "execution_count": null,
      "outputs": [
        {
          "output_type": "stream",
          "name": "stdout",
          "text": [
            "Collecting pyquickhelper\n",
            "  Downloading pyquickhelper-1.11.3697-py3-none-any.whl (2.2 MB)\n",
            "\u001b[K     |████████████████████████████████| 2.2 MB 5.2 MB/s \n",
            "\u001b[?25hCollecting pyquicksetup>=0.2\n",
            "  Downloading pyquicksetup-0.2.tar.gz (5.0 kB)\n",
            "Requirement already satisfied: numpy>=1.16.0 in /usr/local/lib/python3.7/dist-packages (from pyquickhelper) (1.21.6)\n",
            "Collecting fire\n",
            "  Downloading fire-0.4.0.tar.gz (87 kB)\n",
            "\u001b[K     |████████████████████████████████| 87 kB 5.1 MB/s \n",
            "\u001b[?25hRequirement already satisfied: setuptools in /usr/local/lib/python3.7/dist-packages (from pyquicksetup>=0.2->pyquickhelper) (57.4.0)\n",
            "Requirement already satisfied: six in /usr/local/lib/python3.7/dist-packages (from fire->pyquickhelper) (1.15.0)\n",
            "Requirement already satisfied: termcolor in /usr/local/lib/python3.7/dist-packages (from fire->pyquickhelper) (1.1.0)\n",
            "Building wheels for collected packages: pyquicksetup, fire\n",
            "  Building wheel for pyquicksetup (setup.py) ... \u001b[?25l\u001b[?25hdone\n",
            "  Created wheel for pyquicksetup: filename=pyquicksetup-0.2-py3-none-any.whl size=5989 sha256=364c20581e82f5f39e600adc7b2be41fdb31098e20e9b1652ddd556639dbd86a\n",
            "  Stored in directory: /root/.cache/pip/wheels/31/6e/c1/e64bbd82aeaa823680f577081b69c84ae954c309af9911e007\n",
            "  Building wheel for fire (setup.py) ... \u001b[?25l\u001b[?25hdone\n",
            "  Created wheel for fire: filename=fire-0.4.0-py2.py3-none-any.whl size=115942 sha256=1c8433a272321f6cbc3b92507a6dea33a8de9248ef733b7a921c53401bdc6255\n",
            "  Stored in directory: /root/.cache/pip/wheels/8a/67/fb/2e8a12fa16661b9d5af1f654bd199366799740a85c64981226\n",
            "Successfully built pyquicksetup fire\n",
            "Installing collected packages: pyquicksetup, fire, pyquickhelper\n",
            "Successfully installed fire-0.4.0 pyquickhelper-1.11.3697 pyquicksetup-0.2\n"
          ]
        }
      ]
    },
    {
      "cell_type": "code",
      "source": [
        "# creating logistic regression pre-processing and modelling visualisation\n",
        "from mlinsights.plotting import pipeline2dot\n",
        "dot = pipeline2dot(t_model, df)\n",
        "print(dot)"
      ],
      "metadata": {
        "colab": {
          "base_uri": "https://localhost:8080/"
        },
        "id": "8wgxKZDc2rhr",
        "outputId": "bf5c67eb-0304-4988-96ef-fb050468bc8b"
      },
      "execution_count": null,
      "outputs": [
        {
          "output_type": "stream",
          "name": "stdout",
          "text": [
            "digraph{\n",
            "  orientation=portrait;\n",
            "  nodesep=0.05;\n",
            "  ranksep=0.25;\n",
            "  sch0[label=\"<f0> category|<f1> amt|<f2> gender|<f3> state|<f4> city_pop|<f5> dob|<f6> unix_time|<f7> is_fraud\",shape=record,fontsize=8];\n",
            "\n",
            "  node1[label=\"union\",shape=box,style=\"filled,rounded\",color=cyan,fontsize=12];\n",
            "  sch0:f0 -> node1;\n",
            "  sch0:f2 -> node1;\n",
            "  sch0:f3 -> node1;\n",
            "  sch1[label=\"<f0> -v-0\",shape=record,fontsize=8];\n",
            "  node1 -> sch1:f0;\n",
            "\n",
            "  node2[label=\"OneHotEncoder\",shape=box,style=\"filled,rounded\",color=cyan,fontsize=12];\n",
            "  sch1:f0 -> node2;\n",
            "  sch2[label=\"<f0> -v-1\",shape=record,fontsize=8];\n",
            "  node2 -> sch2:f0;\n",
            "\n",
            "  node3[label=\"Identity\",shape=box,style=\"filled,rounded\",color=cyan,fontsize=12];\n",
            "  sch0:f1 -> node3;\n",
            "  sch0:f4 -> node3;\n",
            "  sch0:f5 -> node3;\n",
            "  sch0:f6 -> node3;\n",
            "  sch0:f7 -> node3;\n",
            "  sch3[label=\"<f0> -v-2|<f1> -v-3|<f2> -v-4|<f3> -v-5|<f4> -v-6\",shape=record,fontsize=8];\n",
            "  node3 -> sch3:f0;\n",
            "  node3 -> sch3:f1;\n",
            "  node3 -> sch3:f2;\n",
            "  node3 -> sch3:f3;\n",
            "  node3 -> sch3:f4;\n",
            "\n",
            "  node4[label=\"union\",shape=box,style=\"filled,rounded\",color=cyan,fontsize=12];\n",
            "  sch2:f0 -> node4;\n",
            "  sch3:f0 -> node4;\n",
            "  sch3:f1 -> node4;\n",
            "  sch3:f2 -> node4;\n",
            "  sch3:f3 -> node4;\n",
            "  sch3:f4 -> node4;\n",
            "  sch4[label=\"<f0> -v-7\",shape=record,fontsize=8];\n",
            "  node4 -> sch4:f0;\n",
            "\n",
            "  node5[label=\"LogisticRegression\",shape=box,style=\"filled,rounded\",color=yellow,fontsize=12];\n",
            "  sch4:f0 -> node5;\n",
            "  sch5[label=\"<f0> PredictedLabel|<f1> Probabilities\",shape=record,fontsize=8];\n",
            "  node5 -> sch5:f0;\n",
            "  node5 -> sch5:f1;\n",
            "}\n"
          ]
        }
      ]
    },
    {
      "cell_type": "code",
      "source": [
        "dot_file = \"graph.dot\"\n",
        "with open(dot_file, \"w\", encoding=\"utf-8\") as f:\n",
        "    f.write(dot)"
      ],
      "metadata": {
        "id": "6-ds_Id625Nu"
      },
      "execution_count": null,
      "outputs": []
    },
    {
      "cell_type": "code",
      "source": [
        "from pyquickhelper.loghelper import run_cmd\n",
        "cmd = \"dot -G=300 -Tpng {0} -o{0}.png\".format(dot_file)\n",
        "run_cmd(cmd, wait=True, fLOG=print);"
      ],
      "metadata": {
        "colab": {
          "base_uri": "https://localhost:8080/"
        },
        "id": "-DOheG1Y2tRq",
        "outputId": "e03e2245-39b3-49ab-d245-4de4ad0bc518"
      },
      "execution_count": null,
      "outputs": [
        {
          "output_type": "stream",
          "name": "stdout",
          "text": [
            "[run_cmd] execute dot -G=300 -Tpng graph.dot -ograph.dot.png\n",
            "end of execution dot -G=300 -Tpng graph.dot -ograph.dot.png\n"
          ]
        }
      ]
    },
    {
      "cell_type": "code",
      "source": [
        "from PIL import Image\n",
        "img = Image.open(\"graph.dot.png\")\n",
        "img"
      ],
      "metadata": {
        "colab": {
          "base_uri": "https://localhost:8080/",
          "height": 660
        },
        "id": "kJsBTrHR26oB",
        "outputId": "2adbf351-b04b-4f30-b6e7-b4b4cdb92eb6"
      },
      "execution_count": null,
      "outputs": [
        {
          "output_type": "execute_result",
          "data": {
            "text/plain": [
              "<PIL.PngImagePlugin.PngImageFile image mode=RGBA size=441x643 at 0x7FE9621CE290>"
            ],
            "image/png": "[encoded data removed]"
          },
          "metadata": {},
          "execution_count": 34
        }
      ]
    },
    {
      "cell_type": "code",
      "source": [
        "# creating decision tree pre-processing and modelling visualisation\n",
        "from mlinsights.plotting import pipeline2dot\n",
        "dot = pipeline2dot(clf, df)\n",
        "print(dot)"
      ],
      "metadata": {
        "colab": {
          "base_uri": "https://localhost:8080/"
        },
        "id": "tiWGzffUs1vU",
        "outputId": "f0f0b96c-2a40-487d-f03a-a9c799122812"
      },
      "execution_count": null,
      "outputs": [
        {
          "output_type": "stream",
          "name": "stdout",
          "text": [
            "digraph{\n",
            "  orientation=portrait;\n",
            "  nodesep=0.05;\n",
            "  ranksep=0.25;\n",
            "  sch0[label=\"<f0> category|<f1> amt|<f2> gender|<f3> state|<f4> city_pop|<f5> dob|<f6> unix_time|<f7> is_fraud\",shape=record,fontsize=8];\n",
            "\n",
            "  node1[label=\"union\",shape=box,style=\"filled,rounded\",color=cyan,fontsize=12];\n",
            "  sch0:f0 -> node1;\n",
            "  sch0:f2 -> node1;\n",
            "  sch0:f3 -> node1;\n",
            "  sch1[label=\"<f0> -v-0\",shape=record,fontsize=8];\n",
            "  node1 -> sch1:f0;\n",
            "\n",
            "  node2[label=\"OneHotEncoder\",shape=box,style=\"filled,rounded\",color=cyan,fontsize=12];\n",
            "  sch1:f0 -> node2;\n",
            "  sch2[label=\"<f0> -v-1\",shape=record,fontsize=8];\n",
            "  node2 -> sch2:f0;\n",
            "\n",
            "  node3[label=\"Identity\",shape=box,style=\"filled,rounded\",color=cyan,fontsize=12];\n",
            "  sch0:f1 -> node3;\n",
            "  sch0:f4 -> node3;\n",
            "  sch0:f5 -> node3;\n",
            "  sch0:f6 -> node3;\n",
            "  sch0:f7 -> node3;\n",
            "  sch3[label=\"<f0> -v-2|<f1> -v-3|<f2> -v-4|<f3> -v-5|<f4> -v-6\",shape=record,fontsize=8];\n",
            "  node3 -> sch3:f0;\n",
            "  node3 -> sch3:f1;\n",
            "  node3 -> sch3:f2;\n",
            "  node3 -> sch3:f3;\n",
            "  node3 -> sch3:f4;\n",
            "\n",
            "  node4[label=\"union\",shape=box,style=\"filled,rounded\",color=cyan,fontsize=12];\n",
            "  sch2:f0 -> node4;\n",
            "  sch3:f0 -> node4;\n",
            "  sch3:f1 -> node4;\n",
            "  sch3:f2 -> node4;\n",
            "  sch3:f3 -> node4;\n",
            "  sch3:f4 -> node4;\n",
            "  sch4[label=\"<f0> -v-7\",shape=record,fontsize=8];\n",
            "  node4 -> sch4:f0;\n",
            "\n",
            "  node5[label=\"DecisionTreeClassifier\",shape=box,style=\"filled,rounded\",color=yellow,fontsize=12];\n",
            "  sch4:f0 -> node5;\n",
            "  sch5[label=\"<f0> PredictedLabel|<f1> Probabilities\",shape=record,fontsize=8];\n",
            "  node5 -> sch5:f0;\n",
            "  node5 -> sch5:f1;\n",
            "}\n"
          ]
        }
      ]
    },
    {
      "cell_type": "code",
      "source": [
        "dot_file = \"graph.dot\"\n",
        "with open(dot_file, \"w\", encoding=\"utf-8\") as f:\n",
        "    f.write(dot)"
      ],
      "metadata": {
        "id": "LbPT_SqAv4jx"
      },
      "execution_count": null,
      "outputs": []
    },
    {
      "cell_type": "code",
      "source": [
        "from pyquickhelper.loghelper import run_cmd\n",
        "cmd = \"dot -G=300 -Tpng {0} -o{0}.png\".format(dot_file)\n",
        "run_cmd(cmd, wait=True, fLOG=print);"
      ],
      "metadata": {
        "colab": {
          "base_uri": "https://localhost:8080/"
        },
        "id": "C4CVTg8swGVI",
        "outputId": "09048cb5-2ebe-49ad-aa4c-82848ea35700"
      },
      "execution_count": null,
      "outputs": [
        {
          "output_type": "stream",
          "name": "stdout",
          "text": [
            "[run_cmd] execute dot -G=300 -Tpng graph.dot -ograph.dot.png\n",
            "end of execution dot -G=300 -Tpng graph.dot -ograph.dot.png\n"
          ]
        }
      ]
    },
    {
      "cell_type": "code",
      "source": [
        "from PIL import Image\n",
        "img = Image.open(\"graph.dot.png\")\n",
        "img"
      ],
      "metadata": {
        "colab": {
          "base_uri": "https://localhost:8080/",
          "height": 660
        },
        "id": "cyg_tV7zwZQ4",
        "outputId": "0492c67f-4a5c-4052-997e-ddde6892b3b0"
      },
      "execution_count": null,
      "outputs": [
        {
          "output_type": "execute_result",
          "data": {
            "text/plain": [
              "<PIL.PngImagePlugin.PngImageFile image mode=RGBA size=441x643 at 0x7FE96223F2D0>"
            ],
            "image/png": "[encoded data removed]"
          },
          "metadata": {},
          "execution_count": 30
        }
      ]
    },
    {
      "cell_type": "markdown",
      "source": [
        "I have successfully managed to create a pre-processing pipeline that employs OneHotEncoder to convert categorical data into numerical data. I have additionally applied the code developed by Juliana to convert the date of birth feature into a numerical value showing the age of the credit card holders.\n",
        "\n",
        "\n",
        "First, I used the pre-processed dataset to train a logistic regression model. Unfortunately the results very clearly show that the model is currently prone to overfitting. Although its accuracy is extremely high, it can only correctly label genuine transactions, while it has labelled all fraudulent transactions incorrectly. Our aim is producing a model that is perhaps less accurate overall, however more often correctly identifies fraudulent transactions. The preferred outcome is sometimes flagging genuine transactions as suspicious, rather than labelling fradulent transactions as legitimate. The overfitting issue is very likely due to the unbalanced nature of the dataset, at the moment the model has an abudance of examples for genuine transactions, however it has very few opportunities to learn about the characteristics of fraudulent transactions. I need to test several techniques to see if there is a way to improve the performance of this model despite the unbalanced nature of the dataset.\n",
        "\n",
        "I then tested a decision tree model with the same type of encoding. The performance is significantly better, with good metrics in accuracy, precision and recall scores. Specific accuracy in correctly labelling fraudulent transactions is 70%. While these results are very encouraging, decision tree models performance is often negatively impacted by OneHotEncoding, due to the added complications in dealing with sparse matrices. Juliana has been testing this model with a different type of encoding to see if it produces better results. "
      ],
      "metadata": {
        "id": "xb8Y2e-goJCt"
      }
    },
    {
      "cell_type": "code",
      "source": [
        ""
      ],
      "metadata": {
        "id": "1iJetSB-nWkD"
      },
      "execution_count": null,
      "outputs": []
    }
  ]
}