{
  "nbformat": 4,
  "nbformat_minor": 0,
  "metadata": {
    "colab": {
      "name": "ILA_Notebook_6.ipynb",
      "provenance": []
    },
    "kernelspec": {
      "name": "python3",
      "display_name": "Python 3"
    },
    "language_info": {
      "name": "python"
    }
  },
  "cells": [
    {
      "cell_type": "code",
      "execution_count": null,
      "metadata": {
        "id": "nmNR0rQIDaGq"
      },
      "outputs": [],
      "source": [
        "# Loading libraries\n",
        "import pandas as pd\n",
        "\n",
        "import numpy as np\n",
        "from numpy import mean\n",
        "from numpy import std\n",
        "\n",
        "import matplotlib.pyplot as plt\n",
        "%matplotlib inline\n",
        "\n",
        "import seaborn as sns\n",
        "\n",
        "from sklearn import metrics \n",
        "from sklearn.model_selection import train_test_split \n",
        "from sklearn.compose import make_column_transformer\n",
        "from sklearn.pipeline import make_pipeline\n",
        "from sklearn.model_selection import cross_val_score\n",
        "from sklearn.preprocessing import OneHotEncoder\n",
        "from sklearn.datasets import make_classification\n",
        "from sklearn.model_selection import RepeatedKFold\n",
        "from sklearn.linear_model import LogisticRegression\n",
        "from sklearn.utils import resample\n",
        "from sklearn.model_selection import KFold\n",
        "from sklearn.model_selection import StratifiedKFold\n",
        "from sklearn.model_selection import RepeatedStratifiedKFold\n",
        "\n",
        "import datetime as dt\n",
        "from datetime import time\n",
        "from datetime import timedelta"
      ]
    },
    {
      "cell_type": "code",
      "source": [
        "# Mounting drive\n",
        "from google.colab import drive\n",
        "drive.mount('/content/drive')"
      ],
      "metadata": {
        "colab": {
          "base_uri": "https://localhost:8080/"
        },
        "id": "S0wfMmxO46hH",
        "outputId": "4d3ec70e-0290-4fd0-da98-c1cee78e7dcb"
      },
      "execution_count": null,
      "outputs": [
        {
          "output_type": "stream",
          "name": "stdout",
          "text": [
            "Mounted at /content/drive\n"
          ]
        }
      ]
    },
    {
      "cell_type": "code",
      "source": [
        "# loading datasets\n",
        "train_df = pd.read_csv(\"/content/drive/MyDrive/CFG_Project/fraudTrain.csv\", parse_dates=[\"trans_date_trans_time\"])\n",
        "test_df = pd.read_csv(\"/content/drive/MyDrive/CFG_Project/fraudTest.csv\", parse_dates=[\"trans_date_trans_time\"])"
      ],
      "metadata": {
        "id": "bZ7xI4B05D3Q"
      },
      "execution_count": null,
      "outputs": []
    },
    {
      "cell_type": "code",
      "source": [
        "# merging pre-split training and test datasets into one dataframe\n",
        "df = train_df.append(test_df, ignore_index=True)"
      ],
      "metadata": {
        "id": "ExEiDZ_v5MeG"
      },
      "execution_count": null,
      "outputs": []
    },
    {
      "cell_type": "code",
      "source": [
        "#Removing irrelevant variables\n",
        "\n",
        "irrelevantVar_list = ['Unnamed: 0',\n",
        "                      \"first\",\n",
        "                      \"last\", \n",
        "                      \"street\", \n",
        "                      \"zip\",\n",
        "                      \"lat\",\n",
        "                      \"job\",\n",
        "                      \"long\",\n",
        "                      \"cc_num\", \n",
        "                      \"trans_num\", \n",
        "                      \"city\",\n",
        "                      \"merchant\",\n",
        "                      \"merch_lat\",\n",
        "                      \"merch_long\"]\n",
        "\n",
        "df.drop(irrelevantVar_list, axis=1, inplace=True)"
      ],
      "metadata": {
        "id": "h5ay7h-75PMU"
      },
      "execution_count": null,
      "outputs": []
    },
    {
      "cell_type": "code",
      "source": [
        "# Using the code developed by Juliana to transform the date of birth column into numeric age\n",
        "yearCharacters = 4\n",
        "currentYear = int(dt.datetime.now().strftime(\"%Y\"))\n",
        "\n",
        "df[\"dob\"] = currentYear - df[\"dob\"].str[:yearCharacters].astype(int)"
      ],
      "metadata": {
        "id": "gqbdBeb-5bh8"
      },
      "execution_count": null,
      "outputs": []
    },
    {
      "cell_type": "code",
      "source": [
        "# Defining the feature columns that I will be feeding to the model \n",
        "\n",
        "feature_cols = ['dob', 'category', 'amt', 'gender', 'state', 'city_pop', 'unix_time']"
      ],
      "metadata": {
        "id": "DJh_8d-A5kkD"
      },
      "execution_count": null,
      "outputs": []
    },
    {
      "cell_type": "code",
      "source": [
        "# Defining the input variables X as the feature columns and the target variable y as the label to predict\n",
        "# This time I will not split the dataset into train and test since this procedure is irrelevant when applying cross-validation methods\n",
        "\n",
        "X = df[feature_cols] # Features\n",
        "y = df.is_fraud # Target variable"
      ],
      "metadata": {
        "id": "buNA3jG-5rvK"
      },
      "execution_count": null,
      "outputs": []
    },
    {
      "cell_type": "markdown",
      "source": [
        "I first experimented with KFold, but obtained poor results. The logistic regression model continued to show issues with overfitting despite multiple experiments with the n_splits parameter. I kept increasing the number of splits until 200, but the performance metrics were not affected by these changes and the processing time kept getting longer.\n",
        "\n",
        "After consulting the documentation further, I realised that StratifiedKFold was more appropriate for this dataset. This is because it creates subsets of the original dataset that preserve the same minority class:majority class ratio. This is extremely important in our case, since we are hoping to use cross-validation to handle overfitting issues caused by the unbalanced nature of the dataset. After experimenting with StratifiedKFold I continued to obtain consistently poor performance metrics, the logistic regression model kept showing signs of overfitting. \n",
        "\n",
        "Finally, I decided to attempt RepeatedStratifiedKFold to introduce the n_repeats parameter."
      ],
      "metadata": {
        "id": "yoY4yFCbEnYJ"
      }
    },
    {
      "cell_type": "code",
      "source": [
        "# Preparing the cross-validation procedure\n",
        "\n",
        "cv = RepeatedStratifiedKFold(n_splits=3, n_repeats=30, random_state=None)"
      ],
      "metadata": {
        "id": "gm7uRkPM5_zY"
      },
      "execution_count": null,
      "outputs": []
    },
    {
      "cell_type": "code",
      "source": [
        "# Begin pre-processing by applying OneHotEncoder to categoric features\n",
        "column_trans = make_column_transformer((OneHotEncoder(handle_unknown='ignore'),\n",
        "                                        ['category', 'gender', 'state']), \n",
        "                                       remainder='passthrough')"
      ],
      "metadata": {
        "id": "yQRUhAs18g_F"
      },
      "execution_count": null,
      "outputs": []
    },
    {
      "cell_type": "code",
      "source": [
        "# Create model and pre-processing pipeline\n",
        "model = LogisticRegression()\n",
        "pipe = make_pipeline(column_trans, model)"
      ],
      "metadata": {
        "id": "9iaMwSK77fgp"
      },
      "execution_count": null,
      "outputs": []
    },
    {
      "cell_type": "code",
      "source": [
        "# Here I am specifying that the model should be fit according to the pre-processing pipeline\n",
        "\n",
        "LR_model = pipe.fit(X, y)"
      ],
      "metadata": {
        "id": "FdVHMt1c8oR5"
      },
      "execution_count": null,
      "outputs": []
    },
    {
      "cell_type": "code",
      "source": [
        "# evaluate model\n",
        "scores = cross_val_score(LR_model, X, y, scoring='accuracy', cv=cv, n_jobs=-1)"
      ],
      "metadata": {
        "id": "r75WKXYw83ym"
      },
      "execution_count": null,
      "outputs": []
    },
    {
      "cell_type": "code",
      "source": [
        "y_pred = LR_model.predict(X)"
      ],
      "metadata": {
        "id": "ZRTrIF00_EuL"
      },
      "execution_count": null,
      "outputs": []
    },
    {
      "cell_type": "code",
      "source": [
        "# Reporting performance\n",
        "\n",
        "print(\"Accuracy:\",metrics.accuracy_score(y, y_pred))\n",
        "print(\"Precision:\",metrics.precision_score(y, y_pred))\n",
        "print(\"Recall:\",metrics.recall_score(y, y_pred))"
      ],
      "metadata": {
        "colab": {
          "base_uri": "https://localhost:8080/"
        },
        "id": "nj2NsTQD_TEO",
        "outputId": "97dfc7c0-7e9d-4e7d-96dd-5077f04d06da"
      },
      "execution_count": null,
      "outputs": [
        {
          "output_type": "stream",
          "name": "stdout",
          "text": [
            "Accuracy: 0.9947899852839083\n"
          ]
        },
        {
          "output_type": "stream",
          "name": "stderr",
          "text": [
            "/usr/local/lib/python3.7/dist-packages/sklearn/metrics/_classification.py:1318: UndefinedMetricWarning: Precision is ill-defined and being set to 0.0 due to no predicted samples. Use `zero_division` parameter to control this behavior.\n",
            "  _warn_prf(average, modifier, msg_start, len(result))\n"
          ]
        },
        {
          "output_type": "stream",
          "name": "stdout",
          "text": [
            "Precision: 0.0\n",
            "Recall: 0.0\n"
          ]
        }
      ]
    },
    {
      "cell_type": "code",
      "source": [
        "cnf_matrix = metrics.confusion_matrix(y, y_pred)\n",
        "cnf_matrix"
      ],
      "metadata": {
        "colab": {
          "base_uri": "https://localhost:8080/"
        },
        "id": "ryb8AM0H_LzY",
        "outputId": "0b04ce91-f393-45d4-e7e5-61fc663abffa"
      },
      "execution_count": null,
      "outputs": [
        {
          "output_type": "execute_result",
          "data": {
            "text/plain": [
              "array([[1842743,       0],\n",
              "       [   9651,       0]])"
            ]
          },
          "metadata": {},
          "execution_count": 19
        }
      ]
    },
    {
      "cell_type": "code",
      "source": [
        "class_names=[0,1] # name  of classes\n",
        "fig, ax = plt.subplots()\n",
        "tick_marks = np.arange(len(class_names))\n",
        "plt.xticks(tick_marks, class_names)\n",
        "plt.yticks(tick_marks, class_names)\n",
        "# create heatmap\n",
        "sns.heatmap(pd.DataFrame(cnf_matrix), annot=True, cmap=\"YlGnBu\" ,fmt='g')\n",
        "ax.xaxis.set_label_position(\"top\")\n",
        "plt.tight_layout()\n",
        "plt.title('Confusion matrix', y=1.1)\n",
        "plt.ylabel('Fraud label', fontsize=14)\n",
        "plt.xlabel('Predicted label', fontsize=14)"
      ],
      "metadata": {
        "colab": {
          "base_uri": "https://localhost:8080/",
          "height": 334
        },
        "id": "2VivQ3yu_O6V",
        "outputId": "d91cc060-fec6-40ca-9ab2-e7a8be61b00f"
      },
      "execution_count": null,
      "outputs": [
        {
          "output_type": "execute_result",
          "data": {
            "text/plain": [
              "Text(0.5, 257.44, 'Predicted label')"
            ]
          },
          "metadata": {},
          "execution_count": 20
        },
        {
          "output_type": "display_data",
          "data": {
            "text/plain": [
              "<Figure size 432x288 with 2 Axes>"
            ],
            "image/png": "[encoded data removed]"
          },
          "metadata": {
            "needs_background": "light"
          }
        }
      ]
    },
    {
      "cell_type": "markdown",
      "source": [
        "After obtaining poor results in applying cross-validation to solve the overfitting issue, I decided to test it again within a cost-sensitive learning framework. This technique attempts to prevent overfitting by associating different costs to incorrectly predicting the majority class and the minority class. More specifically, it establishes mislabelling the minority class as a more costly action compared to mislabelling the majority class. This is exactly what we want, since an effective anti-fraud predictive model needs to be extremely accurate in identifying potentially fraudulent transactions, or the minority class, over the genuine ones.  "
      ],
      "metadata": {
        "id": "xWvzSw1JATt5"
      }
    },
    {
      "cell_type": "code",
      "source": [
        "# Here I am defining how the model should weight the different classes. I have calculated the ratio of minority:majority class\n",
        "# by diving the total number of fraudulent transactions by the total number of genuine transactions present in the dataset.\n",
        "# I am also redefining the model and pre-processing pipeline to more easily keep track of the modelling flow.\n",
        "\n",
        "weights = {0:0.05, 1:1.0}\n",
        "model = LogisticRegression(solver='lbfgs', class_weight='balanced')\n",
        "pipe = make_pipeline(column_trans, model)"
      ],
      "metadata": {
        "id": "YuOs-43fBiF5"
      },
      "execution_count": null,
      "outputs": []
    },
    {
      "cell_type": "code",
      "source": [
        "# define evaluation procedure\n",
        "cv = RepeatedStratifiedKFold(n_splits=10, n_repeats=3, random_state=1)"
      ],
      "metadata": {
        "id": "r63SEYVmCZaE"
      },
      "execution_count": null,
      "outputs": []
    },
    {
      "cell_type": "code",
      "source": [
        "t_model = pipe.fit(X, y)"
      ],
      "metadata": {
        "id": "cY4oHDUrCwOH"
      },
      "execution_count": null,
      "outputs": []
    },
    {
      "cell_type": "code",
      "source": [
        "# evaluate model\n",
        "scores = cross_val_score(t_model, X, y, scoring='roc_auc', cv=cv, n_jobs=-1)"
      ],
      "metadata": {
        "id": "OjZI5MMdClkq"
      },
      "execution_count": null,
      "outputs": []
    },
    {
      "cell_type": "code",
      "source": [
        "# summarize performance\n",
        "print('Mean ROC AUC: %.3f' % mean(scores))"
      ],
      "metadata": {
        "colab": {
          "base_uri": "https://localhost:8080/"
        },
        "id": "rP9lWKg9DclL",
        "outputId": "8dfe6332-e0d0-4dde-e574-226a2c2a33ed"
      },
      "execution_count": null,
      "outputs": [
        {
          "output_type": "stream",
          "name": "stdout",
          "text": [
            "Mean ROC AUC: 0.553\n"
          ]
        }
      ]
    },
    {
      "cell_type": "code",
      "source": [
        "new_y_pred = t_model.predict(X)"
      ],
      "metadata": {
        "id": "n3UPNwdiDxZR"
      },
      "execution_count": null,
      "outputs": []
    },
    {
      "cell_type": "code",
      "source": [
        "# Reporting performance\n",
        "\n",
        "print(\"Accuracy:\",metrics.accuracy_score(y, new_y_pred))\n",
        "print(\"Precision:\",metrics.precision_score(y, new_y_pred))\n",
        "print(\"Recall:\",metrics.recall_score(y, new_y_pred))"
      ],
      "metadata": {
        "colab": {
          "base_uri": "https://localhost:8080/"
        },
        "id": "jeSBu6Q5D2P2",
        "outputId": "adb680a6-2621-4bb8-aa3b-cf1da70eedd3"
      },
      "execution_count": null,
      "outputs": [
        {
          "output_type": "stream",
          "name": "stdout",
          "text": [
            "Accuracy: 0.9947899852839083\n"
          ]
        },
        {
          "output_type": "stream",
          "name": "stderr",
          "text": [
            "/usr/local/lib/python3.7/dist-packages/sklearn/metrics/_classification.py:1318: UndefinedMetricWarning: Precision is ill-defined and being set to 0.0 due to no predicted samples. Use `zero_division` parameter to control this behavior.\n",
            "  _warn_prf(average, modifier, msg_start, len(result))\n"
          ]
        },
        {
          "output_type": "stream",
          "name": "stdout",
          "text": [
            "Precision: 0.0\n",
            "Recall: 0.0\n"
          ]
        }
      ]
    },
    {
      "cell_type": "markdown",
      "source": [
        "In conclusion, employing cross validation techniques has not revealed any promising path forward to successfully prevent the logistic regression model from overfitting. It appears that the most successful model in predicting fraudulent transactions is the decision tree model associated with Juliana's pre-processing protocol  "
      ],
      "metadata": {
        "id": "4WNMcdRbEF7M"
      }
    }
  ]
}