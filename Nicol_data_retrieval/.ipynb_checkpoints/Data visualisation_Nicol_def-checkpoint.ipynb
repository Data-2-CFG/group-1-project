{
 "cells": [
  {
   "cell_type": "markdown",
   "id": "b3ae1416-2e4c-470f-b163-1181f77d8c74",
   "metadata": {
    "tags": []
   },
   "source": [
    "# <u>Data Visualisation 1</u>"
   ]
  },
  {
   "cell_type": "markdown",
   "id": "e806158f-2500-472e-9830-8bcefdb9010e",
   "metadata": {},
   "source": [
    "The questions we are trying to answer with this session are:\n",
    "1. Do areas with higher crime rate commit more CC frauds? \n",
    "2. What are crime rates in comparison to the CC Frauds rate?\n",
    "\n",
    "Datasets at our disposition:\n",
    "- Simulated transaction dataset: time coverage 01/01/2019-06/21/2021 -daily records\n",
    "- Crime API dataset: 1991-2020 -yearly records\n",
    "- US population dataset: time coverage 1991-2020 -yearly records\n",
    "\n",
    "How we want to answer them:\n",
    "* We will first **analyse the trend of crime rate related to CC and ATM Frauds** compared to the population in the US: we will show the **trend of crime rate and population**:\n",
    "    - **since 1991** (when our data begin): **Graph_1**, \n",
    "    - **in the last 10 years**: **Graph_2**\n",
    "    - **in the last 3 years**: **Graph_3**\n",
    "* We will then show how our transaction database is composed of fraudulent/non-fraudulent transactions in 2019 and 2020 (**Graph_4**)\n",
    "    (we unfortunately only have data for these 2 years, it would have been interesting to show the trend of the total number of fraudulent transactions in the same time periods - since 1991 or in the last 10 years).\n",
    "* Finally, we will compare the rate of fraudulent transactions in the different states to the national crime rate related to CC and ATM Frauds to see if it reflects the national data (**Graph_5**)\n"
   ]
  },
  {
   "cell_type": "markdown",
   "id": "f2b74d5a-b8e3-4544-bff7-c30adce0f479",
   "metadata": {},
   "source": [
    "## <u>Stage 1 : data cleansing and preparation</u>"
   ]
  },
  {
   "cell_type": "markdown",
   "id": "8064834c-325a-47a4-ac55-8c2c65ce4a26",
   "metadata": {},
   "source": [
    "After importing the libraries we need, we import the 3 datasets"
   ]
  },
  {
   "cell_type": "code",
   "execution_count": 1,
   "id": "7d382391-d9bd-406c-b5b7-34b5d2188903",
   "metadata": {},
   "outputs": [],
   "source": [
    "import pandas as pd\n",
    "import numpy as np\n",
    "import matplotlib.pyplot as plt\n",
    "import matplotlib as mpl\n",
    "import seaborn as sns\n",
    "from pprint import pprint as pp\n",
    "\n",
    "import datetime\n",
    "from datetime import datetime\n",
    "from datetime import date"
   ]
  },
  {
   "cell_type": "markdown",
   "id": "03f567e6-8113-4e04-b995-504eca7b2080",
   "metadata": {},
   "source": [
    "### <u>Importing datasets</u>"
   ]
  },
  {
   "cell_type": "markdown",
   "id": "9aaa090d-7773-457f-9683-57302a5674b4",
   "metadata": {},
   "source": [
    "##### Dataset 1: SIMULATED TRANSACTIONS DATASET\n",
    "\n",
    "<div class=\"alert alert-block alert-info\">\n",
    "A dataset of simulated transaction data of legitimate and fraudulent transactions, focused on the most essential features of a transaction. \n",
    "</div>\n",
    "\n",
    "The main features that summarise a transaction therefore are:\n",
    "\n",
    "1. The transaction ID: A unique identifier for the transaction\n",
    "2. The date and time: Date and time at which the transaction occurs\n",
    "3. The customer ID: The identifier for the customer. Each customer has a unique identifier\n",
    "4. The terminal ID: The identifier for the merchant (or more precisely the terminal). Each terminal has a unique identifier\n",
    "5. The transaction amount: The amount of the transaction.\n",
    "6. The fraud label: A binary variable, with the value $0$ for a legitimate transaction, or the value $1$ for a fraudulent transaction."
   ]
  },
  {
   "cell_type": "code",
   "execution_count": 2,
   "id": "a26b4a77-b35f-4df6-a828-085aa5a5bf6b",
   "metadata": {},
   "outputs": [
    {
     "data": {
      "text/html": [
       "<div>\n",
       "<style scoped>\n",
       "    .dataframe tbody tr th:only-of-type {\n",
       "        vertical-align: middle;\n",
       "    }\n",
       "\n",
       "    .dataframe tbody tr th {\n",
       "        vertical-align: top;\n",
       "    }\n",
       "\n",
       "    .dataframe thead th {\n",
       "        text-align: right;\n",
       "    }\n",
       "</style>\n",
       "<table border=\"1\" class=\"dataframe\">\n",
       "  <thead>\n",
       "    <tr style=\"text-align: right;\">\n",
       "      <th></th>\n",
       "      <th>Unnamed: 0</th>\n",
       "      <th>trans_date_trans_time</th>\n",
       "      <th>cc_num</th>\n",
       "      <th>merchant</th>\n",
       "      <th>category</th>\n",
       "      <th>amt</th>\n",
       "      <th>first</th>\n",
       "      <th>last</th>\n",
       "      <th>gender</th>\n",
       "      <th>street</th>\n",
       "      <th>...</th>\n",
       "      <th>lat</th>\n",
       "      <th>long</th>\n",
       "      <th>city_pop</th>\n",
       "      <th>job</th>\n",
       "      <th>dob</th>\n",
       "      <th>trans_num</th>\n",
       "      <th>unix_time</th>\n",
       "      <th>merch_lat</th>\n",
       "      <th>merch_long</th>\n",
       "      <th>is_fraud</th>\n",
       "    </tr>\n",
       "  </thead>\n",
       "  <tbody>\n",
       "    <tr>\n",
       "      <th>0</th>\n",
       "      <td>0</td>\n",
       "      <td>2019-01-01 00:00:18</td>\n",
       "      <td>2703186189652095</td>\n",
       "      <td>fraud_Rippin, Kub and Mann</td>\n",
       "      <td>misc_net</td>\n",
       "      <td>4.97</td>\n",
       "      <td>Jennifer</td>\n",
       "      <td>Banks</td>\n",
       "      <td>F</td>\n",
       "      <td>561 Perry Cove</td>\n",
       "      <td>...</td>\n",
       "      <td>36.0788</td>\n",
       "      <td>-81.1781</td>\n",
       "      <td>3495</td>\n",
       "      <td>Psychologist, counselling</td>\n",
       "      <td>1988-03-09</td>\n",
       "      <td>0b242abb623afc578575680df30655b9</td>\n",
       "      <td>1325376018</td>\n",
       "      <td>36.011293</td>\n",
       "      <td>-82.048315</td>\n",
       "      <td>0</td>\n",
       "    </tr>\n",
       "    <tr>\n",
       "      <th>1</th>\n",
       "      <td>1</td>\n",
       "      <td>2019-01-01 00:00:44</td>\n",
       "      <td>630423337322</td>\n",
       "      <td>fraud_Heller, Gutmann and Zieme</td>\n",
       "      <td>grocery_pos</td>\n",
       "      <td>107.23</td>\n",
       "      <td>Stephanie</td>\n",
       "      <td>Gill</td>\n",
       "      <td>F</td>\n",
       "      <td>43039 Riley Greens Suite 393</td>\n",
       "      <td>...</td>\n",
       "      <td>48.8878</td>\n",
       "      <td>-118.2105</td>\n",
       "      <td>149</td>\n",
       "      <td>Special educational needs teacher</td>\n",
       "      <td>1978-06-21</td>\n",
       "      <td>1f76529f8574734946361c461b024d99</td>\n",
       "      <td>1325376044</td>\n",
       "      <td>49.159047</td>\n",
       "      <td>-118.186462</td>\n",
       "      <td>0</td>\n",
       "    </tr>\n",
       "    <tr>\n",
       "      <th>2</th>\n",
       "      <td>2</td>\n",
       "      <td>2019-01-01 00:00:51</td>\n",
       "      <td>38859492057661</td>\n",
       "      <td>fraud_Lind-Buckridge</td>\n",
       "      <td>entertainment</td>\n",
       "      <td>220.11</td>\n",
       "      <td>Edward</td>\n",
       "      <td>Sanchez</td>\n",
       "      <td>M</td>\n",
       "      <td>594 White Dale Suite 530</td>\n",
       "      <td>...</td>\n",
       "      <td>42.1808</td>\n",
       "      <td>-112.2620</td>\n",
       "      <td>4154</td>\n",
       "      <td>Nature conservation officer</td>\n",
       "      <td>1962-01-19</td>\n",
       "      <td>a1a22d70485983eac12b5b88dad1cf95</td>\n",
       "      <td>1325376051</td>\n",
       "      <td>43.150704</td>\n",
       "      <td>-112.154481</td>\n",
       "      <td>0</td>\n",
       "    </tr>\n",
       "  </tbody>\n",
       "</table>\n",
       "<p>3 rows × 23 columns</p>\n",
       "</div>"
      ],
      "text/plain": [
       "   Unnamed: 0 trans_date_trans_time            cc_num  \\\n",
       "0           0   2019-01-01 00:00:18  2703186189652095   \n",
       "1           1   2019-01-01 00:00:44      630423337322   \n",
       "2           2   2019-01-01 00:00:51    38859492057661   \n",
       "\n",
       "                          merchant       category     amt      first     last  \\\n",
       "0       fraud_Rippin, Kub and Mann       misc_net    4.97   Jennifer    Banks   \n",
       "1  fraud_Heller, Gutmann and Zieme    grocery_pos  107.23  Stephanie     Gill   \n",
       "2             fraud_Lind-Buckridge  entertainment  220.11     Edward  Sanchez   \n",
       "\n",
       "  gender                        street  ...      lat      long  city_pop  \\\n",
       "0      F                561 Perry Cove  ...  36.0788  -81.1781      3495   \n",
       "1      F  43039 Riley Greens Suite 393  ...  48.8878 -118.2105       149   \n",
       "2      M      594 White Dale Suite 530  ...  42.1808 -112.2620      4154   \n",
       "\n",
       "                                 job        dob  \\\n",
       "0          Psychologist, counselling 1988-03-09   \n",
       "1  Special educational needs teacher 1978-06-21   \n",
       "2        Nature conservation officer 1962-01-19   \n",
       "\n",
       "                          trans_num   unix_time  merch_lat  merch_long  \\\n",
       "0  0b242abb623afc578575680df30655b9  1325376018  36.011293  -82.048315   \n",
       "1  1f76529f8574734946361c461b024d99  1325376044  49.159047 -118.186462   \n",
       "2  a1a22d70485983eac12b5b88dad1cf95  1325376051  43.150704 -112.154481   \n",
       "\n",
       "   is_fraud  \n",
       "0         0  \n",
       "1         0  \n",
       "2         0  \n",
       "\n",
       "[3 rows x 23 columns]"
      ]
     },
     "execution_count": 2,
     "metadata": {},
     "output_type": "execute_result"
    }
   ],
   "source": [
    "transaction_df=pd.read_csv('data/Full_transaction_dataset.csv')\n",
    "transaction_df['trans_date_trans_time'] = pd.to_datetime(transaction_df['trans_date_trans_time'])\n",
    "transaction_df['dob'] = pd.to_datetime(transaction_df['dob'])\n",
    "transaction_df.head(3)"
   ]
  },
  {
   "cell_type": "markdown",
   "id": "8dabe238-65f6-475a-a887-32c72abcc12a",
   "metadata": {},
   "source": [
    "##### Dataset 2: CC and ATM frauds - incidents and offenses count by year\n",
    "\n",
    "<div class=\"alert alert-block alert-info\">\n",
    "A dataset with victim demographic information for each incident and offense that was reported to the UCR Program.\n",
    "</div>\n",
    "\n",
    "In the dataset we have the count of incidents and the count of offenses by year.\n",
    "\n",
    "**Incident** is defined as one or more offenses committed by the same offender, or group of offenders acting in concert, at the same time and place.\n",
    "\n",
    "What is relevant for us is the number of single offenses committed.\n"
   ]
  },
  {
   "cell_type": "code",
   "execution_count": 3,
   "id": "a5f6696f-3b23-40fc-af79-fa8328b596dc",
   "metadata": {},
   "outputs": [
    {
     "data": {
      "text/html": [
       "<div>\n",
       "<style scoped>\n",
       "    .dataframe tbody tr th:only-of-type {\n",
       "        vertical-align: middle;\n",
       "    }\n",
       "\n",
       "    .dataframe tbody tr th {\n",
       "        vertical-align: top;\n",
       "    }\n",
       "\n",
       "    .dataframe thead th {\n",
       "        text-align: right;\n",
       "    }\n",
       "</style>\n",
       "<table border=\"1\" class=\"dataframe\">\n",
       "  <thead>\n",
       "    <tr style=\"text-align: right;\">\n",
       "      <th></th>\n",
       "      <th>incident_count</th>\n",
       "      <th>offense_count</th>\n",
       "      <th>data_year</th>\n",
       "    </tr>\n",
       "  </thead>\n",
       "  <tbody>\n",
       "    <tr>\n",
       "      <th>0</th>\n",
       "      <td>86915</td>\n",
       "      <td>86915</td>\n",
       "      <td>2011</td>\n",
       "    </tr>\n",
       "    <tr>\n",
       "      <th>1</th>\n",
       "      <td>74127</td>\n",
       "      <td>74127</td>\n",
       "      <td>2008</td>\n",
       "    </tr>\n",
       "    <tr>\n",
       "      <th>2</th>\n",
       "      <td>77774</td>\n",
       "      <td>77774</td>\n",
       "      <td>2009</td>\n",
       "    </tr>\n",
       "  </tbody>\n",
       "</table>\n",
       "</div>"
      ],
      "text/plain": [
       "   incident_count  offense_count  data_year\n",
       "0           86915          86915       2011\n",
       "1           74127          74127       2008\n",
       "2           77774          77774       2009"
      ]
     },
     "execution_count": 3,
     "metadata": {},
     "output_type": "execute_result"
    }
   ],
   "source": [
    "CCATM_Fraud_df= pd.read_csv('data/CCATMFraudCrimeRate1991-2020.csv')\n",
    "CCATM_Fraud_df.head(3)"
   ]
  },
  {
   "cell_type": "markdown",
   "id": "26f4a9b9-6720-4e21-9ac6-ef8b5aa4000e",
   "metadata": {},
   "source": [
    "##### Dataset 3: US population by year"
   ]
  },
  {
   "cell_type": "code",
   "execution_count": 4,
   "id": "d9240220-150f-4411-a059-7bdf4120dd60",
   "metadata": {
    "tags": []
   },
   "outputs": [
    {
     "data": {
      "text/html": [
       "<div>\n",
       "<style scoped>\n",
       "    .dataframe tbody tr th:only-of-type {\n",
       "        vertical-align: middle;\n",
       "    }\n",
       "\n",
       "    .dataframe tbody tr th {\n",
       "        vertical-align: top;\n",
       "    }\n",
       "\n",
       "    .dataframe thead th {\n",
       "        text-align: right;\n",
       "    }\n",
       "</style>\n",
       "<table border=\"1\" class=\"dataframe\">\n",
       "  <thead>\n",
       "    <tr style=\"text-align: right;\">\n",
       "      <th></th>\n",
       "      <th>DATE</th>\n",
       "      <th>POPTOTUSA647NWDB</th>\n",
       "    </tr>\n",
       "  </thead>\n",
       "  <tbody>\n",
       "    <tr>\n",
       "      <th>0</th>\n",
       "      <td>1960-01-01</td>\n",
       "      <td>180671000.0</td>\n",
       "    </tr>\n",
       "    <tr>\n",
       "      <th>1</th>\n",
       "      <td>1961-01-01</td>\n",
       "      <td>183691000.0</td>\n",
       "    </tr>\n",
       "    <tr>\n",
       "      <th>2</th>\n",
       "      <td>1962-01-01</td>\n",
       "      <td>186538000.0</td>\n",
       "    </tr>\n",
       "  </tbody>\n",
       "</table>\n",
       "</div>"
      ],
      "text/plain": [
       "        DATE  POPTOTUSA647NWDB\n",
       "0 1960-01-01       180671000.0\n",
       "1 1961-01-01       183691000.0\n",
       "2 1962-01-01       186538000.0"
      ]
     },
     "execution_count": 4,
     "metadata": {},
     "output_type": "execute_result"
    }
   ],
   "source": [
    "US_Population=pd.read_csv('data/US_total_population.csv')\n",
    "US_Population['DATE'] = pd.to_datetime(US_Population['DATE'])\n",
    "US_Population.head(3)"
   ]
  },
  {
   "cell_type": "markdown",
   "id": "1593a908-6350-44ea-b1b0-1d9102fee3f2",
   "metadata": {
    "tags": []
   },
   "source": [
    "### <u>Data preparation</u>"
   ]
  },
  {
   "cell_type": "markdown",
   "id": "1c84247a-89ce-42a9-add4-d72d166b5928",
   "metadata": {},
   "source": [
    "##### a. The Crime Dataset:\n",
    "\n",
    "For **Graph_1**, **Graph_2** and **Graph_3** we need the crime rate for CC and ATM Frauds.\n",
    "\n",
    "<div class=\"alert alert-block alert-info\">\n",
    "The <b>crime rate</b> describes the number of crimes reported to law enforcement agencies for every 100,000 citizens, and is calculater with the following formula:\n",
    "    $${Crime Rate}= 100000*\\frac{Total Crimes}{Population}$$\n",
    "</div>\n",
    "\n",
    "\n",
    "\n"
   ]
  },
  {
   "cell_type": "markdown",
   "id": "31c16abb-9ca5-4d5e-96e8-c74a952dec51",
   "metadata": {
    "tags": []
   },
   "source": [
    "As we said before, we are interested to offense count so we can drop the incident count column."
   ]
  },
  {
   "cell_type": "code",
   "execution_count": 5,
   "id": "de430e5e-4e8b-42a3-8d68-8791395075db",
   "metadata": {},
   "outputs": [],
   "source": [
    "CCATM_Fraud_df.drop('incident_count',axis=1,inplace=True)"
   ]
  },
  {
   "cell_type": "markdown",
   "id": "132e709f-3251-4c65-939c-264701445922",
   "metadata": {},
   "source": [
    "Now we can rename the columns and check the columns type to make sure that we have the right data types. We have all integers which is the right type for incident and offense count and can work also for the year."
   ]
  },
  {
   "cell_type": "code",
   "execution_count": 6,
   "id": "e0d3b212-0456-4b8f-8071-c46adf2b18d0",
   "metadata": {},
   "outputs": [
    {
     "data": {
      "text/html": [
       "<div>\n",
       "<style scoped>\n",
       "    .dataframe tbody tr th:only-of-type {\n",
       "        vertical-align: middle;\n",
       "    }\n",
       "\n",
       "    .dataframe tbody tr th {\n",
       "        vertical-align: top;\n",
       "    }\n",
       "\n",
       "    .dataframe thead th {\n",
       "        text-align: right;\n",
       "    }\n",
       "</style>\n",
       "<table border=\"1\" class=\"dataframe\">\n",
       "  <thead>\n",
       "    <tr style=\"text-align: right;\">\n",
       "      <th></th>\n",
       "      <th>Offense Count</th>\n",
       "      <th>Year</th>\n",
       "    </tr>\n",
       "  </thead>\n",
       "  <tbody>\n",
       "    <tr>\n",
       "      <th>0</th>\n",
       "      <td>86915</td>\n",
       "      <td>2011</td>\n",
       "    </tr>\n",
       "    <tr>\n",
       "      <th>1</th>\n",
       "      <td>74127</td>\n",
       "      <td>2008</td>\n",
       "    </tr>\n",
       "    <tr>\n",
       "      <th>2</th>\n",
       "      <td>77774</td>\n",
       "      <td>2009</td>\n",
       "    </tr>\n",
       "  </tbody>\n",
       "</table>\n",
       "</div>"
      ],
      "text/plain": [
       "   Offense Count  Year\n",
       "0          86915  2011\n",
       "1          74127  2008\n",
       "2          77774  2009"
      ]
     },
     "execution_count": 6,
     "metadata": {},
     "output_type": "execute_result"
    }
   ],
   "source": [
    "CCATM_Fraud_df.rename(columns={\"offense_count\": \"Offense Count\", \"data_year\": \"Year\"},inplace=True)\n",
    "CCATM_Fraud_df.head(3)        "
   ]
  },
  {
   "cell_type": "code",
   "execution_count": 7,
   "id": "9be11ec7-abc0-4593-9881-db58a025cbb4",
   "metadata": {
    "tags": []
   },
   "outputs": [
    {
     "data": {
      "text/plain": [
       "Offense Count    int64\n",
       "Year             int64\n",
       "dtype: object"
      ]
     },
     "execution_count": 7,
     "metadata": {},
     "output_type": "execute_result"
    }
   ],
   "source": [
    "CCATM_Fraud_df.dtypes"
   ]
  },
  {
   "cell_type": "markdown",
   "id": "a0f64479-3acd-428c-838b-191f64cab906",
   "metadata": {},
   "source": [
    "##### b. The Population dataset"
   ]
  },
  {
   "cell_type": "markdown",
   "id": "5bf4bb0f-2446-4b23-83b0-9fd719799f18",
   "metadata": {},
   "source": [
    "The **Population dataset** consists of 2 columns, one for the date and one for the population.\n",
    "\n",
    "Here we adjust the columns names to make the more readable."
   ]
  },
  {
   "cell_type": "code",
   "execution_count": 8,
   "id": "0a7ead9a-ff51-4022-9637-76e9341ed9e4",
   "metadata": {},
   "outputs": [
    {
     "data": {
      "text/html": [
       "<div>\n",
       "<style scoped>\n",
       "    .dataframe tbody tr th:only-of-type {\n",
       "        vertical-align: middle;\n",
       "    }\n",
       "\n",
       "    .dataframe tbody tr th {\n",
       "        vertical-align: top;\n",
       "    }\n",
       "\n",
       "    .dataframe thead th {\n",
       "        text-align: right;\n",
       "    }\n",
       "</style>\n",
       "<table border=\"1\" class=\"dataframe\">\n",
       "  <thead>\n",
       "    <tr style=\"text-align: right;\">\n",
       "      <th></th>\n",
       "      <th>Date</th>\n",
       "      <th>Population</th>\n",
       "    </tr>\n",
       "  </thead>\n",
       "  <tbody>\n",
       "    <tr>\n",
       "      <th>0</th>\n",
       "      <td>1960-01-01</td>\n",
       "      <td>180671000.0</td>\n",
       "    </tr>\n",
       "    <tr>\n",
       "      <th>1</th>\n",
       "      <td>1961-01-01</td>\n",
       "      <td>183691000.0</td>\n",
       "    </tr>\n",
       "    <tr>\n",
       "      <th>2</th>\n",
       "      <td>1962-01-01</td>\n",
       "      <td>186538000.0</td>\n",
       "    </tr>\n",
       "  </tbody>\n",
       "</table>\n",
       "</div>"
      ],
      "text/plain": [
       "        Date   Population\n",
       "0 1960-01-01  180671000.0\n",
       "1 1961-01-01  183691000.0\n",
       "2 1962-01-01  186538000.0"
      ]
     },
     "execution_count": 8,
     "metadata": {},
     "output_type": "execute_result"
    }
   ],
   "source": [
    "US_Population.rename(columns={\"DATE\": \"Date\", \"POPTOTUSA647NWDB\": \"Population\"},inplace=True)\n",
    "US_Population.head(3) "
   ]
  },
  {
   "cell_type": "code",
   "execution_count": 9,
   "id": "c728446d-46ad-476c-9ed7-617842f8c003",
   "metadata": {
    "tags": []
   },
   "outputs": [
    {
     "data": {
      "text/plain": [
       "Date          datetime64[ns]\n",
       "Population           float64\n",
       "dtype: object"
      ]
     },
     "execution_count": 9,
     "metadata": {},
     "output_type": "execute_result"
    }
   ],
   "source": [
    "US_Population.dtypes"
   ]
  },
  {
   "cell_type": "markdown",
   "id": "6a3e7232-bff9-449a-95db-af7bc3aad6a2",
   "metadata": {},
   "source": [
    "The column Date shows the year in which the population data was recorded, but as a date (1961 is 01/01/1961).\n",
    "As we can see, when we imported the dataset we converted its type from string to datetime.\n",
    "\n",
    "We can now get the Year from 'Date' using the following code:"
   ]
  },
  {
   "cell_type": "code",
   "execution_count": 10,
   "id": "f4013c5a-c172-4584-8a1e-db48d1fa33ab",
   "metadata": {},
   "outputs": [
    {
     "data": {
      "text/html": [
       "<div>\n",
       "<style scoped>\n",
       "    .dataframe tbody tr th:only-of-type {\n",
       "        vertical-align: middle;\n",
       "    }\n",
       "\n",
       "    .dataframe tbody tr th {\n",
       "        vertical-align: top;\n",
       "    }\n",
       "\n",
       "    .dataframe thead th {\n",
       "        text-align: right;\n",
       "    }\n",
       "</style>\n",
       "<table border=\"1\" class=\"dataframe\">\n",
       "  <thead>\n",
       "    <tr style=\"text-align: right;\">\n",
       "      <th></th>\n",
       "      <th>0</th>\n",
       "      <th>1</th>\n",
       "    </tr>\n",
       "  </thead>\n",
       "  <tbody>\n",
       "    <tr>\n",
       "      <th>0</th>\n",
       "      <td>1960-01-01</td>\n",
       "      <td>1960</td>\n",
       "    </tr>\n",
       "    <tr>\n",
       "      <th>1</th>\n",
       "      <td>1961-01-01</td>\n",
       "      <td>1961</td>\n",
       "    </tr>\n",
       "    <tr>\n",
       "      <th>2</th>\n",
       "      <td>1962-01-01</td>\n",
       "      <td>1962</td>\n",
       "    </tr>\n",
       "    <tr>\n",
       "      <th>3</th>\n",
       "      <td>1963-01-01</td>\n",
       "      <td>1963</td>\n",
       "    </tr>\n",
       "    <tr>\n",
       "      <th>4</th>\n",
       "      <td>1964-01-01</td>\n",
       "      <td>1964</td>\n",
       "    </tr>\n",
       "  </tbody>\n",
       "</table>\n",
       "</div>"
      ],
      "text/plain": [
       "           0     1\n",
       "0 1960-01-01  1960\n",
       "1 1961-01-01  1961\n",
       "2 1962-01-01  1962\n",
       "3 1963-01-01  1963\n",
       "4 1964-01-01  1964"
      ]
     },
     "execution_count": 10,
     "metadata": {},
     "output_type": "execute_result"
    }
   ],
   "source": [
    "Year=[]\n",
    "Date=[]\n",
    "\n",
    "#for each date add the date to the list \"Date\", get the Year and add it to the list \"Year\"\n",
    "for i in range(len(US_Population['Date'])):\n",
    "    Y=US_Population['Date'].iloc[i].year\n",
    "    Year.append(Y)\n",
    "    Date.append(US_Population['Date'].iloc[i])\n",
    "\n",
    "#create a dataframe with the 2 lists and transpose it to have dates and years in columns\n",
    "Pop_Date_df=pd.DataFrame([Date,Year]).transpose()\n",
    "Pop_Date_df.head()"
   ]
  },
  {
   "cell_type": "markdown",
   "id": "e31798bd-3004-4271-84f5-43eea5adbac3",
   "metadata": {},
   "source": [
    "Now we can rename the columns, to have the column of the date with the same label it has in the US_Population dataframe, and the column of the Year with the label \"Year\", to make easier our next operations."
   ]
  },
  {
   "cell_type": "code",
   "execution_count": 11,
   "id": "b9661531-67ac-4dbe-b841-8d558c282062",
   "metadata": {},
   "outputs": [
    {
     "data": {
      "text/html": [
       "<div>\n",
       "<style scoped>\n",
       "    .dataframe tbody tr th:only-of-type {\n",
       "        vertical-align: middle;\n",
       "    }\n",
       "\n",
       "    .dataframe tbody tr th {\n",
       "        vertical-align: top;\n",
       "    }\n",
       "\n",
       "    .dataframe thead th {\n",
       "        text-align: right;\n",
       "    }\n",
       "</style>\n",
       "<table border=\"1\" class=\"dataframe\">\n",
       "  <thead>\n",
       "    <tr style=\"text-align: right;\">\n",
       "      <th></th>\n",
       "      <th>Date</th>\n",
       "      <th>Year</th>\n",
       "    </tr>\n",
       "  </thead>\n",
       "  <tbody>\n",
       "    <tr>\n",
       "      <th>0</th>\n",
       "      <td>1960-01-01</td>\n",
       "      <td>1960</td>\n",
       "    </tr>\n",
       "    <tr>\n",
       "      <th>1</th>\n",
       "      <td>1961-01-01</td>\n",
       "      <td>1961</td>\n",
       "    </tr>\n",
       "    <tr>\n",
       "      <th>2</th>\n",
       "      <td>1962-01-01</td>\n",
       "      <td>1962</td>\n",
       "    </tr>\n",
       "  </tbody>\n",
       "</table>\n",
       "</div>"
      ],
      "text/plain": [
       "        Date  Year\n",
       "0 1960-01-01  1960\n",
       "1 1961-01-01  1961\n",
       "2 1962-01-01  1962"
      ]
     },
     "execution_count": 11,
     "metadata": {},
     "output_type": "execute_result"
    }
   ],
   "source": [
    "Pop_Date_df.rename(columns={0: \"Date\",1: \"Year\"},inplace=True)\n",
    "Pop_Date_df.head(3)"
   ]
  },
  {
   "cell_type": "markdown",
   "id": "93ecd08e-7f05-414e-9786-6d821befe40e",
   "metadata": {},
   "source": [
    "Now we can join the new dataframe with the US_Population dataframe using the column 'Year'."
   ]
  },
  {
   "cell_type": "code",
   "execution_count": 12,
   "id": "85bb7aaa-a787-4655-a048-b8653efcf07a",
   "metadata": {},
   "outputs": [
    {
     "data": {
      "text/html": [
       "<div>\n",
       "<style scoped>\n",
       "    .dataframe tbody tr th:only-of-type {\n",
       "        vertical-align: middle;\n",
       "    }\n",
       "\n",
       "    .dataframe tbody tr th {\n",
       "        vertical-align: top;\n",
       "    }\n",
       "\n",
       "    .dataframe thead th {\n",
       "        text-align: right;\n",
       "    }\n",
       "</style>\n",
       "<table border=\"1\" class=\"dataframe\">\n",
       "  <thead>\n",
       "    <tr style=\"text-align: right;\">\n",
       "      <th></th>\n",
       "      <th>Year</th>\n",
       "      <th>Population</th>\n",
       "    </tr>\n",
       "    <tr>\n",
       "      <th>Date</th>\n",
       "      <th></th>\n",
       "      <th></th>\n",
       "    </tr>\n",
       "  </thead>\n",
       "  <tbody>\n",
       "    <tr>\n",
       "      <th>1960-01-01</th>\n",
       "      <td>1960</td>\n",
       "      <td>180671000.0</td>\n",
       "    </tr>\n",
       "    <tr>\n",
       "      <th>1961-01-01</th>\n",
       "      <td>1961</td>\n",
       "      <td>183691000.0</td>\n",
       "    </tr>\n",
       "    <tr>\n",
       "      <th>1962-01-01</th>\n",
       "      <td>1962</td>\n",
       "      <td>186538000.0</td>\n",
       "    </tr>\n",
       "  </tbody>\n",
       "</table>\n",
       "</div>"
      ],
      "text/plain": [
       "            Year   Population\n",
       "Date                         \n",
       "1960-01-01  1960  180671000.0\n",
       "1961-01-01  1961  183691000.0\n",
       "1962-01-01  1962  186538000.0"
      ]
     },
     "execution_count": 12,
     "metadata": {},
     "output_type": "execute_result"
    }
   ],
   "source": [
    "US_Population=Pop_Date_df.set_index('Date').join(US_Population.set_index('Date'))\n",
    "US_Population.head(3)"
   ]
  },
  {
   "cell_type": "code",
   "execution_count": 13,
   "id": "a8df3a68-461e-4127-a831-ef543e2bfcb0",
   "metadata": {},
   "outputs": [
    {
     "data": {
      "text/html": [
       "<div>\n",
       "<style scoped>\n",
       "    .dataframe tbody tr th:only-of-type {\n",
       "        vertical-align: middle;\n",
       "    }\n",
       "\n",
       "    .dataframe tbody tr th {\n",
       "        vertical-align: top;\n",
       "    }\n",
       "\n",
       "    .dataframe thead th {\n",
       "        text-align: right;\n",
       "    }\n",
       "</style>\n",
       "<table border=\"1\" class=\"dataframe\">\n",
       "  <thead>\n",
       "    <tr style=\"text-align: right;\">\n",
       "      <th></th>\n",
       "      <th>Date</th>\n",
       "      <th>Year</th>\n",
       "      <th>Population</th>\n",
       "    </tr>\n",
       "  </thead>\n",
       "  <tbody>\n",
       "    <tr>\n",
       "      <th>0</th>\n",
       "      <td>1960-01-01</td>\n",
       "      <td>1960</td>\n",
       "      <td>180671000.0</td>\n",
       "    </tr>\n",
       "    <tr>\n",
       "      <th>1</th>\n",
       "      <td>1961-01-01</td>\n",
       "      <td>1961</td>\n",
       "      <td>183691000.0</td>\n",
       "    </tr>\n",
       "    <tr>\n",
       "      <th>2</th>\n",
       "      <td>1962-01-01</td>\n",
       "      <td>1962</td>\n",
       "      <td>186538000.0</td>\n",
       "    </tr>\n",
       "  </tbody>\n",
       "</table>\n",
       "</div>"
      ],
      "text/plain": [
       "        Date  Year   Population\n",
       "0 1960-01-01  1960  180671000.0\n",
       "1 1961-01-01  1961  183691000.0\n",
       "2 1962-01-01  1962  186538000.0"
      ]
     },
     "execution_count": 13,
     "metadata": {},
     "output_type": "execute_result"
    }
   ],
   "source": [
    "US_Population.reset_index(inplace=True)\n",
    "US_Population.head(3)"
   ]
  },
  {
   "cell_type": "markdown",
   "id": "b5890eed-4d72-4c23-a860-558317ae8ef1",
   "metadata": {},
   "source": [
    "Now that we have the column 'Year', we don't need the column 'Date' anymore."
   ]
  },
  {
   "cell_type": "code",
   "execution_count": 14,
   "id": "1b2eee61-b3db-460e-8b20-d4c3aa41d0e8",
   "metadata": {},
   "outputs": [
    {
     "data": {
      "text/html": [
       "<div>\n",
       "<style scoped>\n",
       "    .dataframe tbody tr th:only-of-type {\n",
       "        vertical-align: middle;\n",
       "    }\n",
       "\n",
       "    .dataframe tbody tr th {\n",
       "        vertical-align: top;\n",
       "    }\n",
       "\n",
       "    .dataframe thead th {\n",
       "        text-align: right;\n",
       "    }\n",
       "</style>\n",
       "<table border=\"1\" class=\"dataframe\">\n",
       "  <thead>\n",
       "    <tr style=\"text-align: right;\">\n",
       "      <th></th>\n",
       "      <th>Year</th>\n",
       "      <th>Population</th>\n",
       "    </tr>\n",
       "  </thead>\n",
       "  <tbody>\n",
       "    <tr>\n",
       "      <th>0</th>\n",
       "      <td>1960</td>\n",
       "      <td>180671000.0</td>\n",
       "    </tr>\n",
       "    <tr>\n",
       "      <th>1</th>\n",
       "      <td>1961</td>\n",
       "      <td>183691000.0</td>\n",
       "    </tr>\n",
       "    <tr>\n",
       "      <th>2</th>\n",
       "      <td>1962</td>\n",
       "      <td>186538000.0</td>\n",
       "    </tr>\n",
       "  </tbody>\n",
       "</table>\n",
       "</div>"
      ],
      "text/plain": [
       "   Year   Population\n",
       "0  1960  180671000.0\n",
       "1  1961  183691000.0\n",
       "2  1962  186538000.0"
      ]
     },
     "execution_count": 14,
     "metadata": {},
     "output_type": "execute_result"
    }
   ],
   "source": [
    "US_Population.drop('Date',axis=1, inplace=True)\n",
    "US_Population.head(3)"
   ]
  },
  {
   "cell_type": "markdown",
   "id": "eae66db4-2a66-451b-a0b5-461db64dd0bf",
   "metadata": {},
   "source": [
    "Now we have the CCATM_Fraud_df dataframe and the US_Population dataframe ready to be joined in one unique dataframe."
   ]
  },
  {
   "cell_type": "code",
   "execution_count": 15,
   "id": "dee7d06f-6928-4297-8012-8cd7e88a1c2e",
   "metadata": {
    "tags": []
   },
   "outputs": [
    {
     "name": "stderr",
     "output_type": "stream",
     "text": [
      "C:\\Users\\nicol\\AppData\\Local\\Programs\\Python\\Python310\\lib\\site-packages\\pandas\\core\\indexes\\base.py:6982: FutureWarning: In a future version, the Index constructor will not infer numeric dtypes when passed object-dtype sequences (matching Series behavior)\n",
      "  return Index(sequences[0], name=names)\n"
     ]
    },
    {
     "data": {
      "text/html": [
       "<div>\n",
       "<style scoped>\n",
       "    .dataframe tbody tr th:only-of-type {\n",
       "        vertical-align: middle;\n",
       "    }\n",
       "\n",
       "    .dataframe tbody tr th {\n",
       "        vertical-align: top;\n",
       "    }\n",
       "\n",
       "    .dataframe thead th {\n",
       "        text-align: right;\n",
       "    }\n",
       "</style>\n",
       "<table border=\"1\" class=\"dataframe\">\n",
       "  <thead>\n",
       "    <tr style=\"text-align: right;\">\n",
       "      <th></th>\n",
       "      <th>Population</th>\n",
       "      <th>Offense Count</th>\n",
       "    </tr>\n",
       "    <tr>\n",
       "      <th>Year</th>\n",
       "      <th></th>\n",
       "      <th></th>\n",
       "    </tr>\n",
       "  </thead>\n",
       "  <tbody>\n",
       "    <tr>\n",
       "      <th>1960</th>\n",
       "      <td>180671000.0</td>\n",
       "      <td>NaN</td>\n",
       "    </tr>\n",
       "    <tr>\n",
       "      <th>1961</th>\n",
       "      <td>183691000.0</td>\n",
       "      <td>NaN</td>\n",
       "    </tr>\n",
       "    <tr>\n",
       "      <th>1962</th>\n",
       "      <td>186538000.0</td>\n",
       "      <td>NaN</td>\n",
       "    </tr>\n",
       "  </tbody>\n",
       "</table>\n",
       "</div>"
      ],
      "text/plain": [
       "       Population  Offense Count\n",
       "Year                            \n",
       "1960  180671000.0            NaN\n",
       "1961  183691000.0            NaN\n",
       "1962  186538000.0            NaN"
      ]
     },
     "execution_count": 15,
     "metadata": {},
     "output_type": "execute_result"
    }
   ],
   "source": [
    "CCATM_Fraud_withPOP_df=US_Population.set_index('Year').join(CCATM_Fraud_df.set_index('Year'))\n",
    "CCATM_Fraud_withPOP_df.head(3)"
   ]
  },
  {
   "cell_type": "markdown",
   "id": "03a95e1f-8a8b-4b25-a1dc-4a0942a5d42d",
   "metadata": {},
   "source": [
    "As we can see our dataset starts from 1960, but we don't have the related Offense count which starts only from 1991."
   ]
  },
  {
   "cell_type": "code",
   "execution_count": 16,
   "id": "4ba499a2-ed66-4b73-8467-eaaf37880df5",
   "metadata": {},
   "outputs": [
    {
     "data": {
      "text/html": [
       "<div>\n",
       "<style scoped>\n",
       "    .dataframe tbody tr th:only-of-type {\n",
       "        vertical-align: middle;\n",
       "    }\n",
       "\n",
       "    .dataframe tbody tr th {\n",
       "        vertical-align: top;\n",
       "    }\n",
       "\n",
       "    .dataframe thead th {\n",
       "        text-align: right;\n",
       "    }\n",
       "</style>\n",
       "<table border=\"1\" class=\"dataframe\">\n",
       "  <thead>\n",
       "    <tr style=\"text-align: right;\">\n",
       "      <th></th>\n",
       "      <th>Population</th>\n",
       "      <th>Offense Count</th>\n",
       "    </tr>\n",
       "    <tr>\n",
       "      <th>Year</th>\n",
       "      <th></th>\n",
       "      <th></th>\n",
       "    </tr>\n",
       "  </thead>\n",
       "  <tbody>\n",
       "    <tr>\n",
       "      <th>1991</th>\n",
       "      <td>252981000.0</td>\n",
       "      <td>1248.0</td>\n",
       "    </tr>\n",
       "    <tr>\n",
       "      <th>1992</th>\n",
       "      <td>256514000.0</td>\n",
       "      <td>1374.0</td>\n",
       "    </tr>\n",
       "    <tr>\n",
       "      <th>1993</th>\n",
       "      <td>259919000.0</td>\n",
       "      <td>1639.0</td>\n",
       "    </tr>\n",
       "  </tbody>\n",
       "</table>\n",
       "</div>"
      ],
      "text/plain": [
       "       Population  Offense Count\n",
       "Year                            \n",
       "1991  252981000.0         1248.0\n",
       "1992  256514000.0         1374.0\n",
       "1993  259919000.0         1639.0"
      ]
     },
     "execution_count": 16,
     "metadata": {},
     "output_type": "execute_result"
    }
   ],
   "source": [
    "CCATM_Fraud_withPOP_df.dropna(axis=0, how='any', subset=['Offense Count'], inplace=True)\n",
    "CCATM_Fraud_withPOP_df.head(3)"
   ]
  },
  {
   "cell_type": "code",
   "execution_count": 17,
   "id": "e4d202eb-c099-45a4-8aec-708b5cbb581d",
   "metadata": {},
   "outputs": [
    {
     "data": {
      "text/html": [
       "<div>\n",
       "<style scoped>\n",
       "    .dataframe tbody tr th:only-of-type {\n",
       "        vertical-align: middle;\n",
       "    }\n",
       "\n",
       "    .dataframe tbody tr th {\n",
       "        vertical-align: top;\n",
       "    }\n",
       "\n",
       "    .dataframe thead th {\n",
       "        text-align: right;\n",
       "    }\n",
       "</style>\n",
       "<table border=\"1\" class=\"dataframe\">\n",
       "  <thead>\n",
       "    <tr style=\"text-align: right;\">\n",
       "      <th></th>\n",
       "      <th>Year</th>\n",
       "      <th>Population</th>\n",
       "      <th>Offense Count</th>\n",
       "    </tr>\n",
       "  </thead>\n",
       "  <tbody>\n",
       "    <tr>\n",
       "      <th>0</th>\n",
       "      <td>1991</td>\n",
       "      <td>252981000.0</td>\n",
       "      <td>1248.0</td>\n",
       "    </tr>\n",
       "    <tr>\n",
       "      <th>1</th>\n",
       "      <td>1992</td>\n",
       "      <td>256514000.0</td>\n",
       "      <td>1374.0</td>\n",
       "    </tr>\n",
       "    <tr>\n",
       "      <th>2</th>\n",
       "      <td>1993</td>\n",
       "      <td>259919000.0</td>\n",
       "      <td>1639.0</td>\n",
       "    </tr>\n",
       "  </tbody>\n",
       "</table>\n",
       "</div>"
      ],
      "text/plain": [
       "   Year   Population  Offense Count\n",
       "0  1991  252981000.0         1248.0\n",
       "1  1992  256514000.0         1374.0\n",
       "2  1993  259919000.0         1639.0"
      ]
     },
     "execution_count": 17,
     "metadata": {},
     "output_type": "execute_result"
    }
   ],
   "source": [
    "CCATM_Fraud_withPOP_df.reset_index(inplace=True)\n",
    "CCATM_Fraud_withPOP_df.head(3)"
   ]
  },
  {
   "cell_type": "markdown",
   "id": "39673c06-14d9-442c-bd4c-d10ca25090a0",
   "metadata": {},
   "source": [
    "At this stage we have all what we need to calculate the crime rate for CC and ATM Frauds."
   ]
  },
  {
   "cell_type": "code",
   "execution_count": 18,
   "id": "0cbc2bc3-88c3-4df2-bcf0-308b18392c2c",
   "metadata": {},
   "outputs": [
    {
     "data": {
      "text/html": [
       "<div>\n",
       "<style scoped>\n",
       "    .dataframe tbody tr th:only-of-type {\n",
       "        vertical-align: middle;\n",
       "    }\n",
       "\n",
       "    .dataframe tbody tr th {\n",
       "        vertical-align: top;\n",
       "    }\n",
       "\n",
       "    .dataframe thead th {\n",
       "        text-align: right;\n",
       "    }\n",
       "</style>\n",
       "<table border=\"1\" class=\"dataframe\">\n",
       "  <thead>\n",
       "    <tr style=\"text-align: right;\">\n",
       "      <th></th>\n",
       "      <th>0</th>\n",
       "      <th>1</th>\n",
       "    </tr>\n",
       "  </thead>\n",
       "  <tbody>\n",
       "    <tr>\n",
       "      <th>0</th>\n",
       "      <td>1991.0</td>\n",
       "      <td>0.493318</td>\n",
       "    </tr>\n",
       "    <tr>\n",
       "      <th>1</th>\n",
       "      <td>1992.0</td>\n",
       "      <td>0.535643</td>\n",
       "    </tr>\n",
       "    <tr>\n",
       "      <th>2</th>\n",
       "      <td>1993.0</td>\n",
       "      <td>0.630581</td>\n",
       "    </tr>\n",
       "    <tr>\n",
       "      <th>3</th>\n",
       "      <td>1994.0</td>\n",
       "      <td>0.660140</td>\n",
       "    </tr>\n",
       "    <tr>\n",
       "      <th>4</th>\n",
       "      <td>1995.0</td>\n",
       "      <td>0.920091</td>\n",
       "    </tr>\n",
       "  </tbody>\n",
       "</table>\n",
       "</div>"
      ],
      "text/plain": [
       "        0         1\n",
       "0  1991.0  0.493318\n",
       "1  1992.0  0.535643\n",
       "2  1993.0  0.630581\n",
       "3  1994.0  0.660140\n",
       "4  1995.0  0.920091"
      ]
     },
     "execution_count": 18,
     "metadata": {},
     "output_type": "execute_result"
    }
   ],
   "source": [
    "crime_rate_by_year=[]\n",
    "Year_cr=[]\n",
    "\n",
    "# for each record get the offense, divide for the population and multiply by 100.000, store the ith Year and Crime rata \n",
    "# in the lists \"crime_rate_by_year\" and \"Year_cr\"\n",
    "for i in range(len(CCATM_Fraud_withPOP_df['Offense Count'])):\n",
    "    CR=100000*CCATM_Fraud_withPOP_df['Offense Count'].iloc[i]/CCATM_Fraud_withPOP_df['Population'].iloc[i]\n",
    "    Y=CCATM_Fraud_withPOP_df['Year'].iloc[i]\n",
    "    crime_rate_by_year.append(CR)\n",
    "    Year_cr.append(Y)\n",
    "\n",
    "#Create a new dataframe with the new lists and transpose it to have Year and Crime rate as columns    \n",
    "CCATM_Fraud_CrimeR=pd.DataFrame([Year_cr,crime_rate_by_year]).transpose()\n",
    "CCATM_Fraud_CrimeR.head()"
   ]
  },
  {
   "cell_type": "markdown",
   "id": "3901b8fc-f544-4ce4-946f-ef5575943aa5",
   "metadata": {},
   "source": [
    "Now we have a new dataframe showing the year and its related Crime Rate."
   ]
  },
  {
   "cell_type": "code",
   "execution_count": 19,
   "id": "45e13f0a-8291-456a-bbee-f70de1d0539f",
   "metadata": {},
   "outputs": [
    {
     "data": {
      "text/html": [
       "<div>\n",
       "<style scoped>\n",
       "    .dataframe tbody tr th:only-of-type {\n",
       "        vertical-align: middle;\n",
       "    }\n",
       "\n",
       "    .dataframe tbody tr th {\n",
       "        vertical-align: top;\n",
       "    }\n",
       "\n",
       "    .dataframe thead th {\n",
       "        text-align: right;\n",
       "    }\n",
       "</style>\n",
       "<table border=\"1\" class=\"dataframe\">\n",
       "  <thead>\n",
       "    <tr style=\"text-align: right;\">\n",
       "      <th></th>\n",
       "      <th>Year</th>\n",
       "      <th>Crime Rate</th>\n",
       "    </tr>\n",
       "  </thead>\n",
       "  <tbody>\n",
       "    <tr>\n",
       "      <th>0</th>\n",
       "      <td>1991.0</td>\n",
       "      <td>0.493318</td>\n",
       "    </tr>\n",
       "    <tr>\n",
       "      <th>1</th>\n",
       "      <td>1992.0</td>\n",
       "      <td>0.535643</td>\n",
       "    </tr>\n",
       "    <tr>\n",
       "      <th>2</th>\n",
       "      <td>1993.0</td>\n",
       "      <td>0.630581</td>\n",
       "    </tr>\n",
       "  </tbody>\n",
       "</table>\n",
       "</div>"
      ],
      "text/plain": [
       "     Year  Crime Rate\n",
       "0  1991.0    0.493318\n",
       "1  1992.0    0.535643\n",
       "2  1993.0    0.630581"
      ]
     },
     "execution_count": 19,
     "metadata": {},
     "output_type": "execute_result"
    }
   ],
   "source": [
    "CCATM_Fraud_CrimeR.rename(columns={0: \"Year\",1: \"Crime Rate\"},inplace=True)\n",
    "CCATM_Fraud_CrimeR.head(3)"
   ]
  },
  {
   "cell_type": "code",
   "execution_count": 20,
   "id": "dc9a4787-8b91-4601-a4e5-d0a9f0dd0e98",
   "metadata": {},
   "outputs": [
    {
     "data": {
      "text/plain": [
       "Year          float64\n",
       "Crime Rate    float64\n",
       "dtype: object"
      ]
     },
     "execution_count": 20,
     "metadata": {},
     "output_type": "execute_result"
    }
   ],
   "source": [
    "CCATM_Fraud_CrimeR.dtypes"
   ]
  },
  {
   "cell_type": "markdown",
   "id": "d677aaba-b1ef-4303-bc25-2614b660de13",
   "metadata": {},
   "source": [
    "As we can see we have the year as a float so we convert it into integer to then be able to join the Crime Rate to the initial dataframe."
   ]
  },
  {
   "cell_type": "code",
   "execution_count": 21,
   "id": "22a9ba39-f47f-46e9-aba0-96cc8644b4a1",
   "metadata": {},
   "outputs": [
    {
     "data": {
      "text/html": [
       "<div>\n",
       "<style scoped>\n",
       "    .dataframe tbody tr th:only-of-type {\n",
       "        vertical-align: middle;\n",
       "    }\n",
       "\n",
       "    .dataframe tbody tr th {\n",
       "        vertical-align: top;\n",
       "    }\n",
       "\n",
       "    .dataframe thead th {\n",
       "        text-align: right;\n",
       "    }\n",
       "</style>\n",
       "<table border=\"1\" class=\"dataframe\">\n",
       "  <thead>\n",
       "    <tr style=\"text-align: right;\">\n",
       "      <th></th>\n",
       "      <th>Year</th>\n",
       "      <th>Crime Rate</th>\n",
       "    </tr>\n",
       "  </thead>\n",
       "  <tbody>\n",
       "    <tr>\n",
       "      <th>0</th>\n",
       "      <td>1991</td>\n",
       "      <td>0.493318</td>\n",
       "    </tr>\n",
       "    <tr>\n",
       "      <th>1</th>\n",
       "      <td>1992</td>\n",
       "      <td>0.535643</td>\n",
       "    </tr>\n",
       "    <tr>\n",
       "      <th>2</th>\n",
       "      <td>1993</td>\n",
       "      <td>0.630581</td>\n",
       "    </tr>\n",
       "  </tbody>\n",
       "</table>\n",
       "</div>"
      ],
      "text/plain": [
       "   Year  Crime Rate\n",
       "0  1991    0.493318\n",
       "1  1992    0.535643\n",
       "2  1993    0.630581"
      ]
     },
     "execution_count": 21,
     "metadata": {},
     "output_type": "execute_result"
    }
   ],
   "source": [
    "CCATM_Fraud_CrimeR['Year']=CCATM_Fraud_CrimeR['Year'].astype(int)\n",
    "CCATM_Fraud_CrimeR.head(3)"
   ]
  },
  {
   "cell_type": "code",
   "execution_count": 22,
   "id": "769c84b4-ab73-4a74-b323-c9df48bfd787",
   "metadata": {},
   "outputs": [
    {
     "data": {
      "text/html": [
       "<div>\n",
       "<style scoped>\n",
       "    .dataframe tbody tr th:only-of-type {\n",
       "        vertical-align: middle;\n",
       "    }\n",
       "\n",
       "    .dataframe tbody tr th {\n",
       "        vertical-align: top;\n",
       "    }\n",
       "\n",
       "    .dataframe thead th {\n",
       "        text-align: right;\n",
       "    }\n",
       "</style>\n",
       "<table border=\"1\" class=\"dataframe\">\n",
       "  <thead>\n",
       "    <tr style=\"text-align: right;\">\n",
       "      <th></th>\n",
       "      <th>Crime Rate</th>\n",
       "      <th>Population</th>\n",
       "      <th>Offense Count</th>\n",
       "    </tr>\n",
       "    <tr>\n",
       "      <th>Year</th>\n",
       "      <th></th>\n",
       "      <th></th>\n",
       "      <th></th>\n",
       "    </tr>\n",
       "  </thead>\n",
       "  <tbody>\n",
       "    <tr>\n",
       "      <th>1991</th>\n",
       "      <td>0.493318</td>\n",
       "      <td>252981000.0</td>\n",
       "      <td>1248.0</td>\n",
       "    </tr>\n",
       "    <tr>\n",
       "      <th>1992</th>\n",
       "      <td>0.535643</td>\n",
       "      <td>256514000.0</td>\n",
       "      <td>1374.0</td>\n",
       "    </tr>\n",
       "    <tr>\n",
       "      <th>1993</th>\n",
       "      <td>0.630581</td>\n",
       "      <td>259919000.0</td>\n",
       "      <td>1639.0</td>\n",
       "    </tr>\n",
       "  </tbody>\n",
       "</table>\n",
       "</div>"
      ],
      "text/plain": [
       "      Crime Rate   Population  Offense Count\n",
       "Year                                        \n",
       "1991    0.493318  252981000.0         1248.0\n",
       "1992    0.535643  256514000.0         1374.0\n",
       "1993    0.630581  259919000.0         1639.0"
      ]
     },
     "execution_count": 22,
     "metadata": {},
     "output_type": "execute_result"
    }
   ],
   "source": [
    "#Join the Crime dataframe with our crime rate dataframe\n",
    "CCATM_Fraud_withCR=CCATM_Fraud_CrimeR.set_index('Year').join(CCATM_Fraud_withPOP_df.set_index('Year'))\n",
    "CCATM_Fraud_withCR.head(3)"
   ]
  },
  {
   "cell_type": "code",
   "execution_count": 23,
   "id": "b311fee5-9f60-4425-a26f-1af797f7ab9c",
   "metadata": {},
   "outputs": [
    {
     "data": {
      "text/html": [
       "<div>\n",
       "<style scoped>\n",
       "    .dataframe tbody tr th:only-of-type {\n",
       "        vertical-align: middle;\n",
       "    }\n",
       "\n",
       "    .dataframe tbody tr th {\n",
       "        vertical-align: top;\n",
       "    }\n",
       "\n",
       "    .dataframe thead th {\n",
       "        text-align: right;\n",
       "    }\n",
       "</style>\n",
       "<table border=\"1\" class=\"dataframe\">\n",
       "  <thead>\n",
       "    <tr style=\"text-align: right;\">\n",
       "      <th></th>\n",
       "      <th>Year</th>\n",
       "      <th>Crime Rate</th>\n",
       "      <th>Population</th>\n",
       "      <th>Offense Count</th>\n",
       "    </tr>\n",
       "  </thead>\n",
       "  <tbody>\n",
       "    <tr>\n",
       "      <th>0</th>\n",
       "      <td>1991</td>\n",
       "      <td>0.493318</td>\n",
       "      <td>252981000.0</td>\n",
       "      <td>1248.0</td>\n",
       "    </tr>\n",
       "    <tr>\n",
       "      <th>1</th>\n",
       "      <td>1992</td>\n",
       "      <td>0.535643</td>\n",
       "      <td>256514000.0</td>\n",
       "      <td>1374.0</td>\n",
       "    </tr>\n",
       "    <tr>\n",
       "      <th>2</th>\n",
       "      <td>1993</td>\n",
       "      <td>0.630581</td>\n",
       "      <td>259919000.0</td>\n",
       "      <td>1639.0</td>\n",
       "    </tr>\n",
       "  </tbody>\n",
       "</table>\n",
       "</div>"
      ],
      "text/plain": [
       "   Year  Crime Rate   Population  Offense Count\n",
       "0  1991    0.493318  252981000.0         1248.0\n",
       "1  1992    0.535643  256514000.0         1374.0\n",
       "2  1993    0.630581  259919000.0         1639.0"
      ]
     },
     "execution_count": 23,
     "metadata": {},
     "output_type": "execute_result"
    }
   ],
   "source": [
    "CCATM_Fraud_withCR.reset_index(inplace=True)\n",
    "CCATM_Fraud_withCR.head(3)"
   ]
  },
  {
   "cell_type": "markdown",
   "id": "c5f0c665-18f7-4fca-92e3-94c0ab84b880",
   "metadata": {},
   "source": [
    "Now we can momentarily set aside the **CCATM_Fraud_withCR** dataframe, which is ready to be used for the graphs, in order to prepare our last dataset.\n",
    "\n",
    "##### c. The Transaction dataset\n",
    "\n",
    "For **Graph_4** the Transaction dataset is enough, it will need just some adjustments.\n",
    "For **Graph_5** we will need to combine this dataset with the Crime rate dataset.\n",
    "\n",
    "However, as we can see, there are some irrelevant columns so we can drop them.\n"
   ]
  },
  {
   "cell_type": "code",
   "execution_count": 24,
   "id": "34448680-387a-4d7f-99f3-7e9f3ce56cb3",
   "metadata": {},
   "outputs": [
    {
     "data": {
      "text/html": [
       "<div>\n",
       "<style scoped>\n",
       "    .dataframe tbody tr th:only-of-type {\n",
       "        vertical-align: middle;\n",
       "    }\n",
       "\n",
       "    .dataframe tbody tr th {\n",
       "        vertical-align: top;\n",
       "    }\n",
       "\n",
       "    .dataframe thead th {\n",
       "        text-align: right;\n",
       "    }\n",
       "</style>\n",
       "<table border=\"1\" class=\"dataframe\">\n",
       "  <thead>\n",
       "    <tr style=\"text-align: right;\">\n",
       "      <th></th>\n",
       "      <th>Unnamed: 0</th>\n",
       "      <th>trans_date_trans_time</th>\n",
       "      <th>cc_num</th>\n",
       "      <th>merchant</th>\n",
       "      <th>category</th>\n",
       "      <th>amt</th>\n",
       "      <th>first</th>\n",
       "      <th>last</th>\n",
       "      <th>gender</th>\n",
       "      <th>street</th>\n",
       "      <th>...</th>\n",
       "      <th>lat</th>\n",
       "      <th>long</th>\n",
       "      <th>city_pop</th>\n",
       "      <th>job</th>\n",
       "      <th>dob</th>\n",
       "      <th>trans_num</th>\n",
       "      <th>unix_time</th>\n",
       "      <th>merch_lat</th>\n",
       "      <th>merch_long</th>\n",
       "      <th>is_fraud</th>\n",
       "    </tr>\n",
       "  </thead>\n",
       "  <tbody>\n",
       "    <tr>\n",
       "      <th>0</th>\n",
       "      <td>0</td>\n",
       "      <td>2019-01-01 00:00:18</td>\n",
       "      <td>2703186189652095</td>\n",
       "      <td>fraud_Rippin, Kub and Mann</td>\n",
       "      <td>misc_net</td>\n",
       "      <td>4.97</td>\n",
       "      <td>Jennifer</td>\n",
       "      <td>Banks</td>\n",
       "      <td>F</td>\n",
       "      <td>561 Perry Cove</td>\n",
       "      <td>...</td>\n",
       "      <td>36.0788</td>\n",
       "      <td>-81.1781</td>\n",
       "      <td>3495</td>\n",
       "      <td>Psychologist, counselling</td>\n",
       "      <td>1988-03-09</td>\n",
       "      <td>0b242abb623afc578575680df30655b9</td>\n",
       "      <td>1325376018</td>\n",
       "      <td>36.011293</td>\n",
       "      <td>-82.048315</td>\n",
       "      <td>0</td>\n",
       "    </tr>\n",
       "    <tr>\n",
       "      <th>1</th>\n",
       "      <td>1</td>\n",
       "      <td>2019-01-01 00:00:44</td>\n",
       "      <td>630423337322</td>\n",
       "      <td>fraud_Heller, Gutmann and Zieme</td>\n",
       "      <td>grocery_pos</td>\n",
       "      <td>107.23</td>\n",
       "      <td>Stephanie</td>\n",
       "      <td>Gill</td>\n",
       "      <td>F</td>\n",
       "      <td>43039 Riley Greens Suite 393</td>\n",
       "      <td>...</td>\n",
       "      <td>48.8878</td>\n",
       "      <td>-118.2105</td>\n",
       "      <td>149</td>\n",
       "      <td>Special educational needs teacher</td>\n",
       "      <td>1978-06-21</td>\n",
       "      <td>1f76529f8574734946361c461b024d99</td>\n",
       "      <td>1325376044</td>\n",
       "      <td>49.159047</td>\n",
       "      <td>-118.186462</td>\n",
       "      <td>0</td>\n",
       "    </tr>\n",
       "    <tr>\n",
       "      <th>2</th>\n",
       "      <td>2</td>\n",
       "      <td>2019-01-01 00:00:51</td>\n",
       "      <td>38859492057661</td>\n",
       "      <td>fraud_Lind-Buckridge</td>\n",
       "      <td>entertainment</td>\n",
       "      <td>220.11</td>\n",
       "      <td>Edward</td>\n",
       "      <td>Sanchez</td>\n",
       "      <td>M</td>\n",
       "      <td>594 White Dale Suite 530</td>\n",
       "      <td>...</td>\n",
       "      <td>42.1808</td>\n",
       "      <td>-112.2620</td>\n",
       "      <td>4154</td>\n",
       "      <td>Nature conservation officer</td>\n",
       "      <td>1962-01-19</td>\n",
       "      <td>a1a22d70485983eac12b5b88dad1cf95</td>\n",
       "      <td>1325376051</td>\n",
       "      <td>43.150704</td>\n",
       "      <td>-112.154481</td>\n",
       "      <td>0</td>\n",
       "    </tr>\n",
       "  </tbody>\n",
       "</table>\n",
       "<p>3 rows × 23 columns</p>\n",
       "</div>"
      ],
      "text/plain": [
       "   Unnamed: 0 trans_date_trans_time            cc_num  \\\n",
       "0           0   2019-01-01 00:00:18  2703186189652095   \n",
       "1           1   2019-01-01 00:00:44      630423337322   \n",
       "2           2   2019-01-01 00:00:51    38859492057661   \n",
       "\n",
       "                          merchant       category     amt      first     last  \\\n",
       "0       fraud_Rippin, Kub and Mann       misc_net    4.97   Jennifer    Banks   \n",
       "1  fraud_Heller, Gutmann and Zieme    grocery_pos  107.23  Stephanie     Gill   \n",
       "2             fraud_Lind-Buckridge  entertainment  220.11     Edward  Sanchez   \n",
       "\n",
       "  gender                        street  ...      lat      long  city_pop  \\\n",
       "0      F                561 Perry Cove  ...  36.0788  -81.1781      3495   \n",
       "1      F  43039 Riley Greens Suite 393  ...  48.8878 -118.2105       149   \n",
       "2      M      594 White Dale Suite 530  ...  42.1808 -112.2620      4154   \n",
       "\n",
       "                                 job        dob  \\\n",
       "0          Psychologist, counselling 1988-03-09   \n",
       "1  Special educational needs teacher 1978-06-21   \n",
       "2        Nature conservation officer 1962-01-19   \n",
       "\n",
       "                          trans_num   unix_time  merch_lat  merch_long  \\\n",
       "0  0b242abb623afc578575680df30655b9  1325376018  36.011293  -82.048315   \n",
       "1  1f76529f8574734946361c461b024d99  1325376044  49.159047 -118.186462   \n",
       "2  a1a22d70485983eac12b5b88dad1cf95  1325376051  43.150704 -112.154481   \n",
       "\n",
       "   is_fraud  \n",
       "0         0  \n",
       "1         0  \n",
       "2         0  \n",
       "\n",
       "[3 rows x 23 columns]"
      ]
     },
     "execution_count": 24,
     "metadata": {},
     "output_type": "execute_result"
    }
   ],
   "source": [
    "transaction_df.head(3)"
   ]
  },
  {
   "cell_type": "code",
   "execution_count": 25,
   "id": "5ec96a61-47ea-4fd8-b3b2-191c6a09628f",
   "metadata": {},
   "outputs": [
    {
     "data": {
      "text/plain": [
       "Index(['Unnamed: 0', 'trans_date_trans_time', 'cc_num', 'merchant', 'category',\n",
       "       'amt', 'first', 'last', 'gender', 'street', 'city', 'state', 'zip',\n",
       "       'lat', 'long', 'city_pop', 'job', 'dob', 'trans_num', 'unix_time',\n",
       "       'merch_lat', 'merch_long', 'is_fraud'],\n",
       "      dtype='object')"
      ]
     },
     "execution_count": 25,
     "metadata": {},
     "output_type": "execute_result"
    }
   ],
   "source": [
    "transaction_df.keys()"
   ]
  },
  {
   "cell_type": "code",
   "execution_count": 26,
   "id": "08757c0f-8ae8-4e36-b440-72db8cb0f46e",
   "metadata": {
    "tags": []
   },
   "outputs": [],
   "source": [
    "#drop irrelevant columns\n",
    "transaction_df.drop(['Unnamed: 0', 'cc_num', 'merchant', 'category',\n",
    "       'amt', 'first', 'last', 'gender', 'street', 'zip',\n",
    "       'lat', 'long', 'job', 'dob', 'unix_time',\n",
    "       'merch_lat', 'merch_long'],axis=1,inplace=True)"
   ]
  },
  {
   "cell_type": "code",
   "execution_count": 27,
   "id": "316c6e4f-2507-48f1-8354-750a3663fe5b",
   "metadata": {},
   "outputs": [
    {
     "data": {
      "text/html": [
       "<div>\n",
       "<style scoped>\n",
       "    .dataframe tbody tr th:only-of-type {\n",
       "        vertical-align: middle;\n",
       "    }\n",
       "\n",
       "    .dataframe tbody tr th {\n",
       "        vertical-align: top;\n",
       "    }\n",
       "\n",
       "    .dataframe thead th {\n",
       "        text-align: right;\n",
       "    }\n",
       "</style>\n",
       "<table border=\"1\" class=\"dataframe\">\n",
       "  <thead>\n",
       "    <tr style=\"text-align: right;\">\n",
       "      <th></th>\n",
       "      <th>trans_date_trans_time</th>\n",
       "      <th>city</th>\n",
       "      <th>state</th>\n",
       "      <th>city_pop</th>\n",
       "      <th>trans_num</th>\n",
       "      <th>is_fraud</th>\n",
       "    </tr>\n",
       "  </thead>\n",
       "  <tbody>\n",
       "    <tr>\n",
       "      <th>0</th>\n",
       "      <td>2019-01-01 00:00:18</td>\n",
       "      <td>Moravian Falls</td>\n",
       "      <td>NC</td>\n",
       "      <td>3495</td>\n",
       "      <td>0b242abb623afc578575680df30655b9</td>\n",
       "      <td>0</td>\n",
       "    </tr>\n",
       "    <tr>\n",
       "      <th>1</th>\n",
       "      <td>2019-01-01 00:00:44</td>\n",
       "      <td>Orient</td>\n",
       "      <td>WA</td>\n",
       "      <td>149</td>\n",
       "      <td>1f76529f8574734946361c461b024d99</td>\n",
       "      <td>0</td>\n",
       "    </tr>\n",
       "    <tr>\n",
       "      <th>2</th>\n",
       "      <td>2019-01-01 00:00:51</td>\n",
       "      <td>Malad City</td>\n",
       "      <td>ID</td>\n",
       "      <td>4154</td>\n",
       "      <td>a1a22d70485983eac12b5b88dad1cf95</td>\n",
       "      <td>0</td>\n",
       "    </tr>\n",
       "  </tbody>\n",
       "</table>\n",
       "</div>"
      ],
      "text/plain": [
       "  trans_date_trans_time            city state  city_pop  \\\n",
       "0   2019-01-01 00:00:18  Moravian Falls    NC      3495   \n",
       "1   2019-01-01 00:00:44          Orient    WA       149   \n",
       "2   2019-01-01 00:00:51      Malad City    ID      4154   \n",
       "\n",
       "                          trans_num  is_fraud  \n",
       "0  0b242abb623afc578575680df30655b9         0  \n",
       "1  1f76529f8574734946361c461b024d99         0  \n",
       "2  a1a22d70485983eac12b5b88dad1cf95         0  "
      ]
     },
     "execution_count": 27,
     "metadata": {},
     "output_type": "execute_result"
    }
   ],
   "source": [
    "transaction_df.head(3)"
   ]
  },
  {
   "cell_type": "code",
   "execution_count": 28,
   "id": "1fef849d-5bd7-4079-9799-dc44abad05e9",
   "metadata": {},
   "outputs": [
    {
     "data": {
      "text/html": [
       "<div>\n",
       "<style scoped>\n",
       "    .dataframe tbody tr th:only-of-type {\n",
       "        vertical-align: middle;\n",
       "    }\n",
       "\n",
       "    .dataframe tbody tr th {\n",
       "        vertical-align: top;\n",
       "    }\n",
       "\n",
       "    .dataframe thead th {\n",
       "        text-align: right;\n",
       "    }\n",
       "</style>\n",
       "<table border=\"1\" class=\"dataframe\">\n",
       "  <thead>\n",
       "    <tr style=\"text-align: right;\">\n",
       "      <th></th>\n",
       "      <th>Date</th>\n",
       "      <th>City</th>\n",
       "      <th>State</th>\n",
       "      <th>City_population</th>\n",
       "      <th>Transaction_number</th>\n",
       "      <th>is_fraud</th>\n",
       "    </tr>\n",
       "  </thead>\n",
       "  <tbody>\n",
       "    <tr>\n",
       "      <th>0</th>\n",
       "      <td>2019-01-01 00:00:18</td>\n",
       "      <td>Moravian Falls</td>\n",
       "      <td>NC</td>\n",
       "      <td>3495</td>\n",
       "      <td>0b242abb623afc578575680df30655b9</td>\n",
       "      <td>0</td>\n",
       "    </tr>\n",
       "    <tr>\n",
       "      <th>1</th>\n",
       "      <td>2019-01-01 00:00:44</td>\n",
       "      <td>Orient</td>\n",
       "      <td>WA</td>\n",
       "      <td>149</td>\n",
       "      <td>1f76529f8574734946361c461b024d99</td>\n",
       "      <td>0</td>\n",
       "    </tr>\n",
       "    <tr>\n",
       "      <th>2</th>\n",
       "      <td>2019-01-01 00:00:51</td>\n",
       "      <td>Malad City</td>\n",
       "      <td>ID</td>\n",
       "      <td>4154</td>\n",
       "      <td>a1a22d70485983eac12b5b88dad1cf95</td>\n",
       "      <td>0</td>\n",
       "    </tr>\n",
       "  </tbody>\n",
       "</table>\n",
       "</div>"
      ],
      "text/plain": [
       "                 Date            City State  City_population  \\\n",
       "0 2019-01-01 00:00:18  Moravian Falls    NC             3495   \n",
       "1 2019-01-01 00:00:44          Orient    WA              149   \n",
       "2 2019-01-01 00:00:51      Malad City    ID             4154   \n",
       "\n",
       "                 Transaction_number  is_fraud  \n",
       "0  0b242abb623afc578575680df30655b9         0  \n",
       "1  1f76529f8574734946361c461b024d99         0  \n",
       "2  a1a22d70485983eac12b5b88dad1cf95         0  "
      ]
     },
     "execution_count": 28,
     "metadata": {},
     "output_type": "execute_result"
    }
   ],
   "source": [
    "#Rename columns\n",
    "transaction_df.rename(columns={\"trans_date_trans_time\": \"Date\",\"city\": \"City\",\"state\":\"State\",\"city_pop\":\"City_population\",\"trans_num\":\"Transaction_number\"},inplace=True)\n",
    "transaction_df.head(3)"
   ]
  },
  {
   "cell_type": "markdown",
   "id": "9eb40f31-6c97-46b7-baad-2061594dbf67",
   "metadata": {},
   "source": [
    "To plot the percentage of fraudulent transactions against the legitimate ones by year we need to extract the year from the columns 'Date'."
   ]
  },
  {
   "cell_type": "code",
   "execution_count": 31,
   "id": "eb076772-4404-4635-82f3-87419b06edbb",
   "metadata": {},
   "outputs": [
    {
     "data": {
      "text/html": [
       "<div>\n",
       "<style scoped>\n",
       "    .dataframe tbody tr th:only-of-type {\n",
       "        vertical-align: middle;\n",
       "    }\n",
       "\n",
       "    .dataframe tbody tr th {\n",
       "        vertical-align: top;\n",
       "    }\n",
       "\n",
       "    .dataframe thead th {\n",
       "        text-align: right;\n",
       "    }\n",
       "</style>\n",
       "<table border=\"1\" class=\"dataframe\">\n",
       "  <thead>\n",
       "    <tr style=\"text-align: right;\">\n",
       "      <th></th>\n",
       "      <th>0</th>\n",
       "      <th>1</th>\n",
       "    </tr>\n",
       "  </thead>\n",
       "  <tbody>\n",
       "    <tr>\n",
       "      <th>0</th>\n",
       "      <td>2019-01-01 00:00:18</td>\n",
       "      <td>2019</td>\n",
       "    </tr>\n",
       "    <tr>\n",
       "      <th>1</th>\n",
       "      <td>2019-01-01 00:00:44</td>\n",
       "      <td>2019</td>\n",
       "    </tr>\n",
       "    <tr>\n",
       "      <th>2</th>\n",
       "      <td>2019-01-01 00:00:51</td>\n",
       "      <td>2019</td>\n",
       "    </tr>\n",
       "    <tr>\n",
       "      <th>3</th>\n",
       "      <td>2019-01-01 00:01:16</td>\n",
       "      <td>2019</td>\n",
       "    </tr>\n",
       "    <tr>\n",
       "      <th>4</th>\n",
       "      <td>2019-01-01 00:03:06</td>\n",
       "      <td>2019</td>\n",
       "    </tr>\n",
       "  </tbody>\n",
       "</table>\n",
       "</div>"
      ],
      "text/plain": [
       "                    0     1\n",
       "0 2019-01-01 00:00:18  2019\n",
       "1 2019-01-01 00:00:44  2019\n",
       "2 2019-01-01 00:00:51  2019\n",
       "3 2019-01-01 00:01:16  2019\n",
       "4 2019-01-01 00:03:06  2019"
      ]
     },
     "execution_count": 31,
     "metadata": {},
     "output_type": "execute_result"
    }
   ],
   "source": [
    "Year=[]\n",
    "Date=[]\n",
    "\n",
    "#for each record in the transaction dataset, get the year from the date and append date and year to 2 new lists\n",
    "for i in range(len(transaction_df['Date'])):\n",
    "    Y=transaction_df['Date'].iloc[i].year\n",
    "    Year.append(Y)\n",
    "    Date.append(transaction_df['Date'].iloc[i])\n",
    "\n",
    "#Create a new dataframe with our 2 new lists and transpose it to have date and year as columns\n",
    "Date_df=pd.DataFrame([Date,Year]).transpose()\n",
    "Date_df.head()"
   ]
  },
  {
   "cell_type": "code",
   "execution_count": 32,
   "id": "98cfeea5-2478-4549-8e6c-c2854e8a29a7",
   "metadata": {},
   "outputs": [
    {
     "data": {
      "text/html": [
       "<div>\n",
       "<style scoped>\n",
       "    .dataframe tbody tr th:only-of-type {\n",
       "        vertical-align: middle;\n",
       "    }\n",
       "\n",
       "    .dataframe tbody tr th {\n",
       "        vertical-align: top;\n",
       "    }\n",
       "\n",
       "    .dataframe thead th {\n",
       "        text-align: right;\n",
       "    }\n",
       "</style>\n",
       "<table border=\"1\" class=\"dataframe\">\n",
       "  <thead>\n",
       "    <tr style=\"text-align: right;\">\n",
       "      <th></th>\n",
       "      <th>Date</th>\n",
       "      <th>Year</th>\n",
       "    </tr>\n",
       "  </thead>\n",
       "  <tbody>\n",
       "    <tr>\n",
       "      <th>0</th>\n",
       "      <td>2019-01-01 00:00:18</td>\n",
       "      <td>2019</td>\n",
       "    </tr>\n",
       "    <tr>\n",
       "      <th>1</th>\n",
       "      <td>2019-01-01 00:00:44</td>\n",
       "      <td>2019</td>\n",
       "    </tr>\n",
       "    <tr>\n",
       "      <th>2</th>\n",
       "      <td>2019-01-01 00:00:51</td>\n",
       "      <td>2019</td>\n",
       "    </tr>\n",
       "  </tbody>\n",
       "</table>\n",
       "</div>"
      ],
      "text/plain": [
       "                 Date  Year\n",
       "0 2019-01-01 00:00:18  2019\n",
       "1 2019-01-01 00:00:44  2019\n",
       "2 2019-01-01 00:00:51  2019"
      ]
     },
     "execution_count": 32,
     "metadata": {},
     "output_type": "execute_result"
    }
   ],
   "source": [
    "Date_df.rename(columns={0: \"Date\",1: \"Year\"},inplace=True)\n",
    "Date_df.head(3)   "
   ]
  },
  {
   "cell_type": "markdown",
   "id": "74ace3e7-9c50-4c6f-b1bb-cb9ab784255b",
   "metadata": {},
   "source": [
    "Now we can join the new columns created with our transaction dataset."
   ]
  },
  {
   "cell_type": "code",
   "execution_count": 33,
   "id": "869cc494-a660-455e-827d-707f87b7a6ab",
   "metadata": {},
   "outputs": [
    {
     "data": {
      "text/html": [
       "<div>\n",
       "<style scoped>\n",
       "    .dataframe tbody tr th:only-of-type {\n",
       "        vertical-align: middle;\n",
       "    }\n",
       "\n",
       "    .dataframe tbody tr th {\n",
       "        vertical-align: top;\n",
       "    }\n",
       "\n",
       "    .dataframe thead th {\n",
       "        text-align: right;\n",
       "    }\n",
       "</style>\n",
       "<table border=\"1\" class=\"dataframe\">\n",
       "  <thead>\n",
       "    <tr style=\"text-align: right;\">\n",
       "      <th></th>\n",
       "      <th>Year</th>\n",
       "      <th>City</th>\n",
       "      <th>State</th>\n",
       "      <th>City_population</th>\n",
       "      <th>Transaction_number</th>\n",
       "      <th>is_fraud</th>\n",
       "    </tr>\n",
       "    <tr>\n",
       "      <th>Date</th>\n",
       "      <th></th>\n",
       "      <th></th>\n",
       "      <th></th>\n",
       "      <th></th>\n",
       "      <th></th>\n",
       "      <th></th>\n",
       "    </tr>\n",
       "  </thead>\n",
       "  <tbody>\n",
       "    <tr>\n",
       "      <th>2019-01-01 00:00:18</th>\n",
       "      <td>2019</td>\n",
       "      <td>Moravian Falls</td>\n",
       "      <td>NC</td>\n",
       "      <td>3495</td>\n",
       "      <td>0b242abb623afc578575680df30655b9</td>\n",
       "      <td>0</td>\n",
       "    </tr>\n",
       "    <tr>\n",
       "      <th>2019-01-01 00:00:44</th>\n",
       "      <td>2019</td>\n",
       "      <td>Orient</td>\n",
       "      <td>WA</td>\n",
       "      <td>149</td>\n",
       "      <td>1f76529f8574734946361c461b024d99</td>\n",
       "      <td>0</td>\n",
       "    </tr>\n",
       "    <tr>\n",
       "      <th>2019-01-01 00:00:51</th>\n",
       "      <td>2019</td>\n",
       "      <td>Malad City</td>\n",
       "      <td>ID</td>\n",
       "      <td>4154</td>\n",
       "      <td>a1a22d70485983eac12b5b88dad1cf95</td>\n",
       "      <td>0</td>\n",
       "    </tr>\n",
       "  </tbody>\n",
       "</table>\n",
       "</div>"
      ],
      "text/plain": [
       "                     Year            City State  City_population  \\\n",
       "Date                                                               \n",
       "2019-01-01 00:00:18  2019  Moravian Falls    NC             3495   \n",
       "2019-01-01 00:00:44  2019          Orient    WA              149   \n",
       "2019-01-01 00:00:51  2019      Malad City    ID             4154   \n",
       "\n",
       "                                   Transaction_number  is_fraud  \n",
       "Date                                                             \n",
       "2019-01-01 00:00:18  0b242abb623afc578575680df30655b9         0  \n",
       "2019-01-01 00:00:44  1f76529f8574734946361c461b024d99         0  \n",
       "2019-01-01 00:00:51  a1a22d70485983eac12b5b88dad1cf95         0  "
      ]
     },
     "execution_count": 33,
     "metadata": {},
     "output_type": "execute_result"
    }
   ],
   "source": [
    "transaction_df=Date_df.set_index('Date').join(transaction_df.set_index('Date'))\n",
    "transaction_df.head(3)"
   ]
  },
  {
   "cell_type": "code",
   "execution_count": 34,
   "id": "03a69ffc-2ac8-4ae7-8631-f8e2f1a1af86",
   "metadata": {},
   "outputs": [
    {
     "data": {
      "text/html": [
       "<div>\n",
       "<style scoped>\n",
       "    .dataframe tbody tr th:only-of-type {\n",
       "        vertical-align: middle;\n",
       "    }\n",
       "\n",
       "    .dataframe tbody tr th {\n",
       "        vertical-align: top;\n",
       "    }\n",
       "\n",
       "    .dataframe thead th {\n",
       "        text-align: right;\n",
       "    }\n",
       "</style>\n",
       "<table border=\"1\" class=\"dataframe\">\n",
       "  <thead>\n",
       "    <tr style=\"text-align: right;\">\n",
       "      <th></th>\n",
       "      <th>Date</th>\n",
       "      <th>Year</th>\n",
       "      <th>City</th>\n",
       "      <th>State</th>\n",
       "      <th>City_population</th>\n",
       "      <th>Transaction_number</th>\n",
       "      <th>is_fraud</th>\n",
       "    </tr>\n",
       "  </thead>\n",
       "  <tbody>\n",
       "    <tr>\n",
       "      <th>0</th>\n",
       "      <td>2019-01-01 00:00:18</td>\n",
       "      <td>2019</td>\n",
       "      <td>Moravian Falls</td>\n",
       "      <td>NC</td>\n",
       "      <td>3495</td>\n",
       "      <td>0b242abb623afc578575680df30655b9</td>\n",
       "      <td>0</td>\n",
       "    </tr>\n",
       "    <tr>\n",
       "      <th>1</th>\n",
       "      <td>2019-01-01 00:00:44</td>\n",
       "      <td>2019</td>\n",
       "      <td>Orient</td>\n",
       "      <td>WA</td>\n",
       "      <td>149</td>\n",
       "      <td>1f76529f8574734946361c461b024d99</td>\n",
       "      <td>0</td>\n",
       "    </tr>\n",
       "    <tr>\n",
       "      <th>2</th>\n",
       "      <td>2019-01-01 00:00:51</td>\n",
       "      <td>2019</td>\n",
       "      <td>Malad City</td>\n",
       "      <td>ID</td>\n",
       "      <td>4154</td>\n",
       "      <td>a1a22d70485983eac12b5b88dad1cf95</td>\n",
       "      <td>0</td>\n",
       "    </tr>\n",
       "  </tbody>\n",
       "</table>\n",
       "</div>"
      ],
      "text/plain": [
       "                 Date  Year            City State  City_population  \\\n",
       "0 2019-01-01 00:00:18  2019  Moravian Falls    NC             3495   \n",
       "1 2019-01-01 00:00:44  2019          Orient    WA              149   \n",
       "2 2019-01-01 00:00:51  2019      Malad City    ID             4154   \n",
       "\n",
       "                 Transaction_number  is_fraud  \n",
       "0  0b242abb623afc578575680df30655b9         0  \n",
       "1  1f76529f8574734946361c461b024d99         0  \n",
       "2  a1a22d70485983eac12b5b88dad1cf95         0  "
      ]
     },
     "execution_count": 34,
     "metadata": {},
     "output_type": "execute_result"
    }
   ],
   "source": [
    "transaction_df.reset_index(inplace=True)\n",
    "transaction_df.head(3)"
   ]
  },
  {
   "cell_type": "code",
   "execution_count": 35,
   "id": "b3f809b6-a994-452a-843d-6f33d0ec3949",
   "metadata": {},
   "outputs": [
    {
     "data": {
      "text/plain": [
       "Date                  datetime64[ns]\n",
       "Year                          object\n",
       "City                          object\n",
       "State                         object\n",
       "City_population                int64\n",
       "Transaction_number            object\n",
       "is_fraud                       int64\n",
       "dtype: object"
      ]
     },
     "execution_count": 35,
     "metadata": {},
     "output_type": "execute_result"
    }
   ],
   "source": [
    "transaction_df.dtypes"
   ]
  },
  {
   "cell_type": "markdown",
   "id": "b25c1ed1",
   "metadata": {},
   "source": [
    "## <u>Stage 2 : data visualisation</u>"
   ]
  },
  {
   "cell_type": "markdown",
   "id": "0ca0e10e-88cc-46c8-aed6-1365a1b97ca5",
   "metadata": {
    "tags": []
   },
   "source": [
    "## Analysis of the trend of crime rate limited to CC and ATM Frauds (Graphs 1-2-3)"
   ]
  },
  {
   "cell_type": "markdown",
   "id": "be45b0f2-f2ea-4652-bc40-4cf26940f2fe",
   "metadata": {},
   "source": [
    "Before getting into the comparison between the number of the frauds and the crime rate to try to answer our questions, we consider it useful to show the trend of the crime rate limited to CC and ATM frauds in the time period 1991-2020. \n",
    "The no. of offenses related to 2020 must be considered as the total number of offenses reported by end of 2020.\n",
    "\n",
    "Since our Crime dataset is the result of the offenses reported to the FBI by the Agencies, but only 63% Agencies sends data, we must consider our dataset as a sample of the real number of offenses occurred. Also, we cannot be sure that the offenses occurred in the competence area of these agencies correspond to the overall number of offenses.\n",
    "\n",
    "Hence, for our considerations, we assumed that their data reflects the behaviour of the overall population. "
   ]
  },
  {
   "cell_type": "markdown",
   "id": "d2625864-1d44-41dd-8f17-66b1ec05c145",
   "metadata": {},
   "source": [
    "### Graph_1: Crime Rate trend from 1991"
   ]
  },
  {
   "cell_type": "code",
   "execution_count": 36,
   "id": "2c61e761-b2d8-4bc1-9f5c-6fd0612b704b",
   "metadata": {},
   "outputs": [
    {
     "data": {
      "image/png": "[encoded data removed]",
      "text/plain": [
       "<Figure size 1080x432 with 1 Axes>"
      ]
     },
     "metadata": {
      "needs_background": "light"
     },
     "output_type": "display_data"
    }
   ],
   "source": [
    "#Create a line plot to show CC and ATM Crime Rate trend\n",
    "plt.figure(figsize=(15,6))\n",
    "\n",
    "Crime_Rate=CCATM_Fraud_withCR['Crime Rate']\n",
    "Year_CR=CCATM_Fraud_withCR['Year']\n",
    "\n",
    "plt.plot(Year_CR,Crime_Rate,color='blue')\n",
    "plt.grid(visible=True)\n",
    "plt.xlabel('Year')\n",
    "plt.ylabel('Crime Rate')\n",
    "plt.title('Crime Rate trend')\n",
    "\n",
    "plt.show()"
   ]
  },
  {
   "cell_type": "markdown",
   "id": "153ef991-0fff-4c45-8ee1-aa65cd833388",
   "metadata": {},
   "source": [
    "But how was the trend of the population during this time period? Did the Crime Rate increase consequently to an increase of population?\n",
    "\n",
    "Since Crime Rate and population have different scales, one way to compare them could be calculating their percentage change and plot a chart."
   ]
  },
  {
   "cell_type": "markdown",
   "id": "e31a606b-1282-4e8e-8a3d-8ea5a4d1a125",
   "metadata": {
    "tags": []
   },
   "source": [
    "### Graph 1_1: Percentage Change- Crime Rate vs. Population"
   ]
  },
  {
   "cell_type": "code",
   "execution_count": 37,
   "id": "beaee4b8-7960-412e-b487-08e403e27710",
   "metadata": {},
   "outputs": [
    {
     "data": {
      "text/html": [
       "<div>\n",
       "<style scoped>\n",
       "    .dataframe tbody tr th:only-of-type {\n",
       "        vertical-align: middle;\n",
       "    }\n",
       "\n",
       "    .dataframe tbody tr th {\n",
       "        vertical-align: top;\n",
       "    }\n",
       "\n",
       "    .dataframe thead th {\n",
       "        text-align: right;\n",
       "    }\n",
       "</style>\n",
       "<table border=\"1\" class=\"dataframe\">\n",
       "  <thead>\n",
       "    <tr style=\"text-align: right;\">\n",
       "      <th></th>\n",
       "      <th>Year</th>\n",
       "      <th>Crime Rate</th>\n",
       "      <th>Population</th>\n",
       "      <th>Offense Count</th>\n",
       "    </tr>\n",
       "  </thead>\n",
       "  <tbody>\n",
       "    <tr>\n",
       "      <th>0</th>\n",
       "      <td>1991</td>\n",
       "      <td>0.493318</td>\n",
       "      <td>252981000.0</td>\n",
       "      <td>1248.0</td>\n",
       "    </tr>\n",
       "    <tr>\n",
       "      <th>1</th>\n",
       "      <td>1992</td>\n",
       "      <td>0.535643</td>\n",
       "      <td>256514000.0</td>\n",
       "      <td>1374.0</td>\n",
       "    </tr>\n",
       "    <tr>\n",
       "      <th>2</th>\n",
       "      <td>1993</td>\n",
       "      <td>0.630581</td>\n",
       "      <td>259919000.0</td>\n",
       "      <td>1639.0</td>\n",
       "    </tr>\n",
       "  </tbody>\n",
       "</table>\n",
       "</div>"
      ],
      "text/plain": [
       "   Year  Crime Rate   Population  Offense Count\n",
       "0  1991    0.493318  252981000.0         1248.0\n",
       "1  1992    0.535643  256514000.0         1374.0\n",
       "2  1993    0.630581  259919000.0         1639.0"
      ]
     },
     "execution_count": 37,
     "metadata": {},
     "output_type": "execute_result"
    }
   ],
   "source": [
    "CCATM_Fraud_withCR.head(3)"
   ]
  },
  {
   "cell_type": "code",
   "execution_count": 38,
   "id": "1a8b36fe-9c27-4b96-875e-88cca1cedf10",
   "metadata": {},
   "outputs": [
    {
     "data": {
      "text/html": [
       "<div>\n",
       "<style scoped>\n",
       "    .dataframe tbody tr th:only-of-type {\n",
       "        vertical-align: middle;\n",
       "    }\n",
       "\n",
       "    .dataframe tbody tr th {\n",
       "        vertical-align: top;\n",
       "    }\n",
       "\n",
       "    .dataframe thead th {\n",
       "        text-align: right;\n",
       "    }\n",
       "</style>\n",
       "<table border=\"1\" class=\"dataframe\">\n",
       "  <thead>\n",
       "    <tr style=\"text-align: right;\">\n",
       "      <th></th>\n",
       "      <th>Year</th>\n",
       "      <th>Crime Rate</th>\n",
       "      <th>Population</th>\n",
       "    </tr>\n",
       "  </thead>\n",
       "  <tbody>\n",
       "    <tr>\n",
       "      <th>0</th>\n",
       "      <td>1991</td>\n",
       "      <td>0.493318</td>\n",
       "      <td>252981000.0</td>\n",
       "    </tr>\n",
       "    <tr>\n",
       "      <th>1</th>\n",
       "      <td>1992</td>\n",
       "      <td>0.535643</td>\n",
       "      <td>256514000.0</td>\n",
       "    </tr>\n",
       "    <tr>\n",
       "      <th>2</th>\n",
       "      <td>1993</td>\n",
       "      <td>0.630581</td>\n",
       "      <td>259919000.0</td>\n",
       "    </tr>\n",
       "  </tbody>\n",
       "</table>\n",
       "</div>"
      ],
      "text/plain": [
       "   Year  Crime Rate   Population\n",
       "0  1991    0.493318  252981000.0\n",
       "1  1992    0.535643  256514000.0\n",
       "2  1993    0.630581  259919000.0"
      ]
     },
     "execution_count": 38,
     "metadata": {},
     "output_type": "execute_result"
    }
   ],
   "source": [
    "#drop irrelevant columns\n",
    "Only_pop_CR_df=CCATM_Fraud_withCR.drop(['Offense Count'],axis=1)\n",
    "Only_pop_CR_df.head(3)"
   ]
  },
  {
   "cell_type": "code",
   "execution_count": 39,
   "id": "8b1dc1cb-85d7-49f5-adfd-6085c3832aae",
   "metadata": {},
   "outputs": [
    {
     "data": {
      "text/html": [
       "<div>\n",
       "<style scoped>\n",
       "    .dataframe tbody tr th:only-of-type {\n",
       "        vertical-align: middle;\n",
       "    }\n",
       "\n",
       "    .dataframe tbody tr th {\n",
       "        vertical-align: top;\n",
       "    }\n",
       "\n",
       "    .dataframe thead th {\n",
       "        text-align: right;\n",
       "    }\n",
       "</style>\n",
       "<table border=\"1\" class=\"dataframe\">\n",
       "  <thead>\n",
       "    <tr style=\"text-align: right;\">\n",
       "      <th></th>\n",
       "      <th>Crime Rate</th>\n",
       "      <th>Population</th>\n",
       "    </tr>\n",
       "    <tr>\n",
       "      <th>Year</th>\n",
       "      <th></th>\n",
       "      <th></th>\n",
       "    </tr>\n",
       "  </thead>\n",
       "  <tbody>\n",
       "    <tr>\n",
       "      <th>1991</th>\n",
       "      <td>0.493318</td>\n",
       "      <td>252981000.0</td>\n",
       "    </tr>\n",
       "    <tr>\n",
       "      <th>1992</th>\n",
       "      <td>0.535643</td>\n",
       "      <td>256514000.0</td>\n",
       "    </tr>\n",
       "    <tr>\n",
       "      <th>1993</th>\n",
       "      <td>0.630581</td>\n",
       "      <td>259919000.0</td>\n",
       "    </tr>\n",
       "  </tbody>\n",
       "</table>\n",
       "</div>"
      ],
      "text/plain": [
       "      Crime Rate   Population\n",
       "Year                         \n",
       "1991    0.493318  252981000.0\n",
       "1992    0.535643  256514000.0\n",
       "1993    0.630581  259919000.0"
      ]
     },
     "execution_count": 39,
     "metadata": {},
     "output_type": "execute_result"
    }
   ],
   "source": [
    "Only_pop_CR_df=Only_pop_CR_df.set_index('Year')\n",
    "Only_pop_CR_df.head(3)"
   ]
  },
  {
   "cell_type": "code",
   "execution_count": 40,
   "id": "c5fcc85e-fc84-41d5-8628-94aebdb702bf",
   "metadata": {},
   "outputs": [
    {
     "data": {
      "text/html": [
       "<div>\n",
       "<style scoped>\n",
       "    .dataframe tbody tr th:only-of-type {\n",
       "        vertical-align: middle;\n",
       "    }\n",
       "\n",
       "    .dataframe tbody tr th {\n",
       "        vertical-align: top;\n",
       "    }\n",
       "\n",
       "    .dataframe thead th {\n",
       "        text-align: right;\n",
       "    }\n",
       "</style>\n",
       "<table border=\"1\" class=\"dataframe\">\n",
       "  <thead>\n",
       "    <tr style=\"text-align: right;\">\n",
       "      <th></th>\n",
       "      <th>Crime Rate</th>\n",
       "      <th>Population</th>\n",
       "    </tr>\n",
       "    <tr>\n",
       "      <th>Year</th>\n",
       "      <th></th>\n",
       "      <th></th>\n",
       "    </tr>\n",
       "  </thead>\n",
       "  <tbody>\n",
       "    <tr>\n",
       "      <th>1991</th>\n",
       "      <td>NaN</td>\n",
       "      <td>NaN</td>\n",
       "    </tr>\n",
       "    <tr>\n",
       "      <th>1992</th>\n",
       "      <td>0.085798</td>\n",
       "      <td>0.013965</td>\n",
       "    </tr>\n",
       "    <tr>\n",
       "      <th>1993</th>\n",
       "      <td>0.177241</td>\n",
       "      <td>0.013274</td>\n",
       "    </tr>\n",
       "  </tbody>\n",
       "</table>\n",
       "</div>"
      ],
      "text/plain": [
       "      Crime Rate  Population\n",
       "Year                        \n",
       "1991         NaN         NaN\n",
       "1992    0.085798    0.013965\n",
       "1993    0.177241    0.013274"
      ]
     },
     "execution_count": 40,
     "metadata": {},
     "output_type": "execute_result"
    }
   ],
   "source": [
    "#calculate perchentage change of Year and population to compare their trend in a graph using a similar scale\n",
    "Only_pop_CR_pctCH=Only_pop_CR_df.pct_change()\n",
    "Only_pop_CR_pctCH.head(3)"
   ]
  },
  {
   "cell_type": "code",
   "execution_count": 41,
   "id": "07574af5-fe83-4881-a9a8-5c1acdbe36a6",
   "metadata": {},
   "outputs": [
    {
     "data": {
      "text/html": [
       "<div>\n",
       "<style scoped>\n",
       "    .dataframe tbody tr th:only-of-type {\n",
       "        vertical-align: middle;\n",
       "    }\n",
       "\n",
       "    .dataframe tbody tr th {\n",
       "        vertical-align: top;\n",
       "    }\n",
       "\n",
       "    .dataframe thead th {\n",
       "        text-align: right;\n",
       "    }\n",
       "</style>\n",
       "<table border=\"1\" class=\"dataframe\">\n",
       "  <thead>\n",
       "    <tr style=\"text-align: right;\">\n",
       "      <th></th>\n",
       "      <th>Year</th>\n",
       "      <th>Crime Rate</th>\n",
       "      <th>Population</th>\n",
       "    </tr>\n",
       "  </thead>\n",
       "  <tbody>\n",
       "    <tr>\n",
       "      <th>0</th>\n",
       "      <td>1991</td>\n",
       "      <td>NaN</td>\n",
       "      <td>NaN</td>\n",
       "    </tr>\n",
       "    <tr>\n",
       "      <th>1</th>\n",
       "      <td>1992</td>\n",
       "      <td>0.085798</td>\n",
       "      <td>0.013965</td>\n",
       "    </tr>\n",
       "    <tr>\n",
       "      <th>2</th>\n",
       "      <td>1993</td>\n",
       "      <td>0.177241</td>\n",
       "      <td>0.013274</td>\n",
       "    </tr>\n",
       "  </tbody>\n",
       "</table>\n",
       "</div>"
      ],
      "text/plain": [
       "   Year  Crime Rate  Population\n",
       "0  1991         NaN         NaN\n",
       "1  1992    0.085798    0.013965\n",
       "2  1993    0.177241    0.013274"
      ]
     },
     "execution_count": 41,
     "metadata": {},
     "output_type": "execute_result"
    }
   ],
   "source": [
    "Only_pop_CR_pctCH.reset_index(inplace=True)\n",
    "Only_pop_CR_pctCH.head(3)"
   ]
  },
  {
   "cell_type": "code",
   "execution_count": 42,
   "id": "02c9c24a-0092-463b-8f5c-729b5eb6f2e5",
   "metadata": {},
   "outputs": [
    {
     "data": {
      "image/png": "[encoded data removed]",
      "text/plain": [
       "<Figure size 432x288 with 1 Axes>"
      ]
     },
     "metadata": {
      "needs_background": "light"
     },
     "output_type": "display_data"
    }
   ],
   "source": [
    "#create a lineplot to compare how changed in time population and CC and ATM crime rate \n",
    "fig,ax=plt.subplots()\n",
    "\n",
    "x=Only_pop_CR_pctCH['Year']\n",
    "y1=Only_pop_CR_pctCH['Crime Rate']\n",
    "y2=Only_pop_CR_pctCH['Population']\n",
    "\n",
    "ax.set_title(\"Crime Change vs. Population Change\",fontsize=10)\n",
    "ax.set_xlabel(\"Year\")\n",
    "ax.set_ylabel(\"Pct_Change\")\n",
    "ax.grid(visible=True)\n",
    "\n",
    "ax.plot(x,y1,color='dodgerblue',label=\"Crime Rate\")\n",
    "ax.plot(x,y2,color='blue',label=\"Population\")\n",
    "\n",
    "plt.legend()\n",
    "\n",
    "plt.show()"
   ]
  },
  {
   "cell_type": "markdown",
   "id": "7db7a58c-17e7-48d9-b0c4-0b6f01c50787",
   "metadata": {},
   "source": [
    "As we can see, while the Crime Rate has fluctuating trend, the population trend is almost constant: we can say that the trend of Crime Rate is not consequent to an increase of population.\n",
    "\n",
    "To go deeper we can restrict our analysis to the last 10 years or even less."
   ]
  },
  {
   "cell_type": "markdown",
   "id": "255975f0-1cb2-4cba-affe-b69d77812dcf",
   "metadata": {},
   "source": [
    "### How population and CC and ATM Crime rate changed in the last 10 years (2010-2020)"
   ]
  },
  {
   "cell_type": "code",
   "execution_count": 43,
   "id": "74f17551-0277-4e23-a036-f9efd24bc4c5",
   "metadata": {
    "tags": []
   },
   "outputs": [
    {
     "data": {
      "text/html": [
       "<div>\n",
       "<style scoped>\n",
       "    .dataframe tbody tr th:only-of-type {\n",
       "        vertical-align: middle;\n",
       "    }\n",
       "\n",
       "    .dataframe tbody tr th {\n",
       "        vertical-align: top;\n",
       "    }\n",
       "\n",
       "    .dataframe thead th {\n",
       "        text-align: right;\n",
       "    }\n",
       "</style>\n",
       "<table border=\"1\" class=\"dataframe\">\n",
       "  <thead>\n",
       "    <tr style=\"text-align: right;\">\n",
       "      <th></th>\n",
       "      <th>Year</th>\n",
       "      <th>Crime Rate</th>\n",
       "      <th>Population</th>\n",
       "    </tr>\n",
       "  </thead>\n",
       "  <tbody>\n",
       "    <tr>\n",
       "      <th>0</th>\n",
       "      <td>1991</td>\n",
       "      <td>NaN</td>\n",
       "      <td>NaN</td>\n",
       "    </tr>\n",
       "    <tr>\n",
       "      <th>1</th>\n",
       "      <td>1992</td>\n",
       "      <td>0.085798</td>\n",
       "      <td>0.013965</td>\n",
       "    </tr>\n",
       "    <tr>\n",
       "      <th>2</th>\n",
       "      <td>1993</td>\n",
       "      <td>0.177241</td>\n",
       "      <td>0.013274</td>\n",
       "    </tr>\n",
       "  </tbody>\n",
       "</table>\n",
       "</div>"
      ],
      "text/plain": [
       "   Year  Crime Rate  Population\n",
       "0  1991         NaN         NaN\n",
       "1  1992    0.085798    0.013965\n",
       "2  1993    0.177241    0.013274"
      ]
     },
     "execution_count": 43,
     "metadata": {},
     "output_type": "execute_result"
    }
   ],
   "source": [
    "Only_pop_CR_pctCH.head(3)"
   ]
  },
  {
   "cell_type": "code",
   "execution_count": 44,
   "id": "e2b38a59-f4cd-492b-b8bd-da1ed3acce79",
   "metadata": {},
   "outputs": [
    {
     "data": {
      "text/html": [
       "<div>\n",
       "<style scoped>\n",
       "    .dataframe tbody tr th:only-of-type {\n",
       "        vertical-align: middle;\n",
       "    }\n",
       "\n",
       "    .dataframe tbody tr th {\n",
       "        vertical-align: top;\n",
       "    }\n",
       "\n",
       "    .dataframe thead th {\n",
       "        text-align: right;\n",
       "    }\n",
       "</style>\n",
       "<table border=\"1\" class=\"dataframe\">\n",
       "  <thead>\n",
       "    <tr style=\"text-align: right;\">\n",
       "      <th></th>\n",
       "      <th>Year</th>\n",
       "      <th>Crime Rate</th>\n",
       "      <th>Population</th>\n",
       "    </tr>\n",
       "  </thead>\n",
       "  <tbody>\n",
       "    <tr>\n",
       "      <th>19</th>\n",
       "      <td>2010</td>\n",
       "      <td>0.048648</td>\n",
       "      <td>0.008331</td>\n",
       "    </tr>\n",
       "    <tr>\n",
       "      <th>20</th>\n",
       "      <td>2011</td>\n",
       "      <td>0.049231</td>\n",
       "      <td>0.007294</td>\n",
       "    </tr>\n",
       "    <tr>\n",
       "      <th>21</th>\n",
       "      <td>2012</td>\n",
       "      <td>0.008167</td>\n",
       "      <td>0.007363</td>\n",
       "    </tr>\n",
       "    <tr>\n",
       "      <th>22</th>\n",
       "      <td>2013</td>\n",
       "      <td>-0.007568</td>\n",
       "      <td>0.006953</td>\n",
       "    </tr>\n",
       "    <tr>\n",
       "      <th>23</th>\n",
       "      <td>2014</td>\n",
       "      <td>0.007683</td>\n",
       "      <td>0.007361</td>\n",
       "    </tr>\n",
       "    <tr>\n",
       "      <th>24</th>\n",
       "      <td>2015</td>\n",
       "      <td>0.076607</td>\n",
       "      <td>0.007389</td>\n",
       "    </tr>\n",
       "    <tr>\n",
       "      <th>25</th>\n",
       "      <td>2016</td>\n",
       "      <td>0.120880</td>\n",
       "      <td>0.007273</td>\n",
       "    </tr>\n",
       "    <tr>\n",
       "      <th>26</th>\n",
       "      <td>2017</td>\n",
       "      <td>0.005901</td>\n",
       "      <td>0.006346</td>\n",
       "    </tr>\n",
       "    <tr>\n",
       "      <th>27</th>\n",
       "      <td>2018</td>\n",
       "      <td>0.061725</td>\n",
       "      <td>0.005278</td>\n",
       "    </tr>\n",
       "    <tr>\n",
       "      <th>28</th>\n",
       "      <td>2019</td>\n",
       "      <td>0.175186</td>\n",
       "      <td>0.004564</td>\n",
       "    </tr>\n",
       "    <tr>\n",
       "      <th>29</th>\n",
       "      <td>2020</td>\n",
       "      <td>-0.000905</td>\n",
       "      <td>0.009658</td>\n",
       "    </tr>\n",
       "  </tbody>\n",
       "</table>\n",
       "</div>"
      ],
      "text/plain": [
       "    Year  Crime Rate  Population\n",
       "19  2010    0.048648    0.008331\n",
       "20  2011    0.049231    0.007294\n",
       "21  2012    0.008167    0.007363\n",
       "22  2013   -0.007568    0.006953\n",
       "23  2014    0.007683    0.007361\n",
       "24  2015    0.076607    0.007389\n",
       "25  2016    0.120880    0.007273\n",
       "26  2017    0.005901    0.006346\n",
       "27  2018    0.061725    0.005278\n",
       "28  2019    0.175186    0.004564\n",
       "29  2020   -0.000905    0.009658"
      ]
     },
     "execution_count": 44,
     "metadata": {},
     "output_type": "execute_result"
    }
   ],
   "source": [
    "#filter the dataset to get just the last 10 years\n",
    "CR_pct_change_10YRS=Only_pop_CR_pctCH[Only_pop_CR_pctCH['Year']>=2010]\n",
    "CR_pct_change_10YRS"
   ]
  },
  {
   "cell_type": "code",
   "execution_count": 45,
   "id": "64c6ad95-9bdc-451d-abcf-3c6bb6b33a18",
   "metadata": {},
   "outputs": [
    {
     "data": {
      "image/png": "[encoded data removed]",
      "text/plain": [
       "<Figure size 432x288 with 1 Axes>"
      ]
     },
     "metadata": {
      "needs_background": "light"
     },
     "output_type": "display_data"
    }
   ],
   "source": [
    "#create a lineplot to compare how changed population and CC and ATM crime rate in the last 10 years\n",
    "fig,ax=plt.subplots()\n",
    "\n",
    "x=CR_pct_change_10YRS['Year']\n",
    "y1=CR_pct_change_10YRS['Crime Rate']\n",
    "y2=CR_pct_change_10YRS['Population']\n",
    "\n",
    "ax.set_title(\"Crime Change vs. Population Change\",fontsize=10)\n",
    "ax.set_xlabel(\"Year\")\n",
    "ax.set_ylabel(\"Pct_Change\")\n",
    "ax.grid(visible=True)\n",
    "\n",
    "ax.plot(x,y1,color='dodgerblue',label=\"Crime Rate\")\n",
    "ax.plot(x,y2,color='blue',label=\"Population\")\n",
    "\n",
    "plt.legend()\n",
    "\n",
    "plt.show()"
   ]
  },
  {
   "cell_type": "markdown",
   "id": "5e2eaff8-0109-4c12-95ac-d0a85624d0fa",
   "metadata": {},
   "source": [
    "### How population and CC and ATM Crime rate changed in the last 3 years (2017-2020)"
   ]
  },
  {
   "cell_type": "code",
   "execution_count": 46,
   "id": "65700be3-7796-42a3-9f04-e93cd2b38cd0",
   "metadata": {},
   "outputs": [
    {
     "data": {
      "text/html": [
       "<div>\n",
       "<style scoped>\n",
       "    .dataframe tbody tr th:only-of-type {\n",
       "        vertical-align: middle;\n",
       "    }\n",
       "\n",
       "    .dataframe tbody tr th {\n",
       "        vertical-align: top;\n",
       "    }\n",
       "\n",
       "    .dataframe thead th {\n",
       "        text-align: right;\n",
       "    }\n",
       "</style>\n",
       "<table border=\"1\" class=\"dataframe\">\n",
       "  <thead>\n",
       "    <tr style=\"text-align: right;\">\n",
       "      <th></th>\n",
       "      <th>Year</th>\n",
       "      <th>Crime Rate</th>\n",
       "      <th>Population</th>\n",
       "    </tr>\n",
       "  </thead>\n",
       "  <tbody>\n",
       "    <tr>\n",
       "      <th>27</th>\n",
       "      <td>2018</td>\n",
       "      <td>0.061725</td>\n",
       "      <td>0.005278</td>\n",
       "    </tr>\n",
       "    <tr>\n",
       "      <th>28</th>\n",
       "      <td>2019</td>\n",
       "      <td>0.175186</td>\n",
       "      <td>0.004564</td>\n",
       "    </tr>\n",
       "    <tr>\n",
       "      <th>29</th>\n",
       "      <td>2020</td>\n",
       "      <td>-0.000905</td>\n",
       "      <td>0.009658</td>\n",
       "    </tr>\n",
       "  </tbody>\n",
       "</table>\n",
       "</div>"
      ],
      "text/plain": [
       "    Year  Crime Rate  Population\n",
       "27  2018    0.061725    0.005278\n",
       "28  2019    0.175186    0.004564\n",
       "29  2020   -0.000905    0.009658"
      ]
     },
     "execution_count": 46,
     "metadata": {},
     "output_type": "execute_result"
    }
   ],
   "source": [
    "#filter the dataset to get just the last 10 years\n",
    "CR_pct_change_3YRS=Only_pop_CR_pctCH[Only_pop_CR_pctCH['Year']>=2018]\n",
    "CR_pct_change_3YRS"
   ]
  },
  {
   "cell_type": "code",
   "execution_count": 47,
   "id": "91f0732c-f357-4314-b41a-45010638b095",
   "metadata": {},
   "outputs": [
    {
     "data": {
      "image/png": "[encoded data removed]",
      "text/plain": [
       "<Figure size 720x432 with 1 Axes>"
      ]
     },
     "metadata": {
      "needs_background": "light"
     },
     "output_type": "display_data"
    }
   ],
   "source": [
    "#create a lineplot to compare how changed population and CC and ATM crime rate in the last 10 years\n",
    "fig,ax=plt.subplots(figsize=(10,6))\n",
    "\n",
    "x=CR_pct_change_3YRS['Year']\n",
    "y1=CR_pct_change_3YRS['Crime Rate']\n",
    "y2=CR_pct_change_3YRS['Population']\n",
    "\n",
    "ax.set_title(\"Crime Change vs. Population Change\",fontsize=10)\n",
    "ax.set_xlabel(\"Year\",loc='center')\n",
    "ax.set_ylabel(\"Pct_Change\")\n",
    "\n",
    "ax.plot(x,y1,color='dodgerblue',label=\"Crime Rate\")\n",
    "ax.plot(x,y2,color='blue',label=\"Population\")\n",
    "plt.xticks(x)\n",
    "\n",
    "plt.legend()\n",
    "\n",
    "plt.show()"
   ]
  },
  {
   "cell_type": "markdown",
   "id": "b0fdff5c-06f8-41a3-99a9-fd380eb6833d",
   "metadata": {},
   "source": [
    "One of our questions was related to the hypothetic increase of Fraudulent transactions with lockdowns due to COVID. As we can see in the graph above, in the US, Crime rate related to CC and ATM frauds has increased in 2018 until the end of 2019, and dropped in 2020: this could be an effect of 2020 lockdowns, but unfortunately we don't have data after 2020 so we can't make other considerations about this.\n",
    "\n",
    "**Having data about 2020 and 2021 we could have visual data about the crime rate trend. What we can see from the graphs above is just that the trend of CC frauds isn't related to the trend of population.**"
   ]
  },
  {
   "cell_type": "markdown",
   "id": "da4247b9-a17a-498f-923a-d9ad29675d79",
   "metadata": {},
   "source": [
    "## Analysis of the composition of Transaction dataframe (Graph 4)"
   ]
  },
  {
   "cell_type": "markdown",
   "id": "c606f1e8-ca3d-4a28-9241-a2d93c7d27cd",
   "metadata": {
    "tags": []
   },
   "source": [
    "### Graph_2: Pie chart showing Fraudulent Transaction pct against Legitimate Transactions pct by year"
   ]
  },
  {
   "cell_type": "markdown",
   "id": "c24a1c51-80e5-4fae-92b3-e95cf4d9390d",
   "metadata": {},
   "source": [
    "We start by dividing the dataframe into Fraudulent Transactions and Legitimate Transactions, and then dividing each dataframe by year."
   ]
  },
  {
   "cell_type": "code",
   "execution_count": 48,
   "id": "2b90da0c-f7d8-4f9c-9c0f-871f96906244",
   "metadata": {},
   "outputs": [
    {
     "name": "stdout",
     "output_type": "stream",
     "text": [
      "(9982, 7)\n"
     ]
    }
   ],
   "source": [
    "#filter fraudulent transactions\n",
    "Fraudulent_trans=transaction_df[transaction_df['is_fraud']==1]\n",
    "pp(Fraudulent_trans.shape)"
   ]
  },
  {
   "cell_type": "code",
   "execution_count": 49,
   "id": "2004bd64-2152-4f9a-9ce6-44d590ef6dbc",
   "metadata": {},
   "outputs": [
    {
     "name": "stdout",
     "output_type": "stream",
     "text": [
      "(1909132, 7)\n"
     ]
    }
   ],
   "source": [
    "#filter legitimate transactions\n",
    "Legitimate_trans=transaction_df[transaction_df['is_fraud']==0]\n",
    "pp(Legitimate_trans.shape)"
   ]
  },
  {
   "cell_type": "code",
   "execution_count": 50,
   "id": "f30bee1c-e5be-4b68-813a-f2056f73109d",
   "metadata": {},
   "outputs": [
    {
     "name": "stdout",
     "output_type": "stream",
     "text": [
      "'2019: 5402, 2020: 4580'\n"
     ]
    }
   ],
   "source": [
    "#filter and count 2019 fraudulent transactions\n",
    "Fraudulent_trans2019=Fraudulent_trans[Fraudulent_trans['Year']==2019]\n",
    "FT2019_count=Fraudulent_trans2019['Transaction_number'].count()\n",
    "\n",
    "#filter and count 2020 fraudulent transactions\n",
    "Fraudulent_trans2020=Fraudulent_trans[Fraudulent_trans['Year']==2020]\n",
    "FT2020_count=Fraudulent_trans2020['Transaction_number'].count()\n",
    "\n",
    "pp(f'2019: {FT2019_count}, 2020: {FT2020_count}')"
   ]
  },
  {
   "cell_type": "code",
   "execution_count": 51,
   "id": "c8568ad9-148e-4c2f-819e-3037c95fc822",
   "metadata": {},
   "outputs": [
    {
     "name": "stdout",
     "output_type": "stream",
     "text": [
      "'2019: 952888, 2020: 956244'\n"
     ]
    }
   ],
   "source": [
    "#filter and count 2019 legitimate transactions\n",
    "Legitimate_trans2019=Legitimate_trans[Legitimate_trans['Year']==2019]\n",
    "LT2019_count=Legitimate_trans2019['Transaction_number'].count()\n",
    "\n",
    "#filter and count 2020 legitimate transactions\n",
    "Legitimate_trans2020=Legitimate_trans[Legitimate_trans['Year']==2020]\n",
    "LT2020_count=Legitimate_trans2020['Transaction_number'].count()\n",
    "\n",
    "pp(f'2019: {LT2019_count}, 2020: {LT2020_count}')"
   ]
  },
  {
   "cell_type": "markdown",
   "id": "cf3d70b4-ce37-46e2-95aa-41549470f4d2",
   "metadata": {},
   "source": [
    "Creating one pie chart for every year considered, so 2019 and 2020, showing the transactions classified by \"frauds\" and \"Not frauds\""
   ]
  },
  {
   "cell_type": "code",
   "execution_count": 52,
   "id": "30fcf394-ab01-4b69-9d9b-bdaae5a53e4b",
   "metadata": {},
   "outputs": [
    {
     "data": {
      "image/png": "[encoded data removed]",
      "text/plain": [
       "<Figure size 432x288 with 2 Axes>"
      ]
     },
     "metadata": {},
     "output_type": "display_data"
    }
   ],
   "source": [
    "#create a pie chart to show the dataframe composition by year\n",
    "\n",
    "fig, (pie1, pie2) = plt.subplots(1, 2)\n",
    "fig.suptitle('Transactions')\n",
    "\n",
    "explode = (0, 1)\n",
    "\n",
    "pie1_labels = 'Frauds', 'Not Frauds'\n",
    "pie1_sizes = [FT2019_count,LT2019_count]\n",
    "pie2_labels = 'Frauds', 'Not Frauds'\n",
    "pie2_sizes = [FT2020_count,LT2020_count]\n",
    "\n",
    "pie1.pie(pie1_sizes, explode=explode, labels=pie1_labels, autopct='%1.1f%%',pctdistance=0.7,labeldistance=1.1,colors=['dodgerblue','skyblue'],radius=8,\n",
    "        shadow=False, startangle=30,rotatelabels=False)\n",
    "pie1.set_title(\"2019\",fontsize=15,loc='center',horizontalalignment = \"center\", verticalalignment=\"baseline\")\n",
    "    \n",
    "pie2.pie(pie2_sizes, explode=explode, labels=pie2_labels, autopct='%1.1f%%',pctdistance=0.7,labeldistance=1.1,colors=['dodgerblue','skyblue'],radius=8,\n",
    "        shadow=False, startangle=30,rotatelabels=False)\n",
    "pie2.set_title(\"2020\",fontsize=15,loc='center',horizontalalignment = \"center\", verticalalignment=\"top\")\n",
    "\n",
    "plt.subplots_adjust(left=0.1,\n",
    "                    bottom=0.1, \n",
    "                    right=0.9, \n",
    "                    top=0.9, \n",
    "                    wspace=7, \n",
    "                    hspace=0.4)\n",
    "\n",
    "plt.show()"
   ]
  },
  {
   "cell_type": "markdown",
   "id": "65d61cd1-d061-4b01-9a59-2b4b6cc19180",
   "metadata": {},
   "source": [
    "As we can see, 99,4% and 99.5% of transactions respectively in 2019 and 2020 were legitimate, and we only have 0.6% of transactions in 2019 and 0.5% of transactions in 2020 classified as fraud. \n",
    "\n",
    "We decided to use a pie chart to show the data composition because a bar chart would have had a very high bar for legitimate transactions and almost just a line for fraudulent transactions."
   ]
  },
  {
   "cell_type": "markdown",
   "id": "96a1439d-c347-4729-bd21-ddcfe8ceca6b",
   "metadata": {
    "tags": []
   },
   "source": [
    "## Graph_3: Fraudulent transactions Rate vs. Crime rate for 2019 and 2020."
   ]
  },
  {
   "cell_type": "markdown",
   "id": "a1f81bbe-7597-47f5-af40-ccbbcf877534",
   "metadata": {},
   "source": [
    "To answer our second question we started from the same assumption we used for our simulated transactions dataset: we assume that our dataset is a representation of all the cc users in the US and calculate the CC Fraud Rate with the same formula resulting in the number of Fraudulent transactions every 100k citizens. "
   ]
  },
  {
   "cell_type": "code",
   "execution_count": 53,
   "id": "1a6efca2-da90-4602-b03a-10662622ec41",
   "metadata": {},
   "outputs": [
    {
     "name": "stdout",
     "output_type": "stream",
     "text": [
      "   Year  Crime Rate   Population  Offense Count\n",
      "0  1991    0.493318  252981000.0         1248.0\n",
      "1  1992    0.535643  256514000.0         1374.0\n",
      "2  1993    0.630581  259919000.0         1639.0\n",
      "3  1994    0.660140  263126000.0         1737.0\n",
      "4  1995    0.920091  266278000.0         2450.0\n",
      "    Year  Crime Rate   Population  Offense Count\n",
      "25  2016   33.938591  323071755.0       109646.0\n",
      "26  2017   34.138864  325122128.0       110993.0\n",
      "27  2018   36.246069  326838199.0       118466.0\n",
      "28  2019   42.595870  328329953.0       139855.0\n",
      "29  2020   42.557327  331501080.0       141078.0\n"
     ]
    }
   ],
   "source": [
    "print(CCATM_Fraud_withCR.head())\n",
    "print(CCATM_Fraud_withCR.tail())"
   ]
  },
  {
   "cell_type": "markdown",
   "id": "6b431dce-74b7-4512-86ae-d3bd4ca11119",
   "metadata": {},
   "source": [
    "#### The Fraud Rate"
   ]
  },
  {
   "cell_type": "code",
   "execution_count": 54,
   "id": "46d628e2-3bd9-46ba-9db1-3362daca73ac",
   "metadata": {},
   "outputs": [
    {
     "data": {
      "text/html": [
       "<div>\n",
       "<style scoped>\n",
       "    .dataframe tbody tr th:only-of-type {\n",
       "        vertical-align: middle;\n",
       "    }\n",
       "\n",
       "    .dataframe tbody tr th {\n",
       "        vertical-align: top;\n",
       "    }\n",
       "\n",
       "    .dataframe thead th {\n",
       "        text-align: right;\n",
       "    }\n",
       "</style>\n",
       "<table border=\"1\" class=\"dataframe\">\n",
       "  <thead>\n",
       "    <tr style=\"text-align: right;\">\n",
       "      <th></th>\n",
       "      <th>Year</th>\n",
       "      <th>Crime Rate</th>\n",
       "      <th>Population</th>\n",
       "      <th>Offense Count</th>\n",
       "    </tr>\n",
       "  </thead>\n",
       "  <tbody>\n",
       "    <tr>\n",
       "      <th>28</th>\n",
       "      <td>2019</td>\n",
       "      <td>42.595870</td>\n",
       "      <td>328329953.0</td>\n",
       "      <td>139855.0</td>\n",
       "    </tr>\n",
       "    <tr>\n",
       "      <th>29</th>\n",
       "      <td>2020</td>\n",
       "      <td>42.557327</td>\n",
       "      <td>331501080.0</td>\n",
       "      <td>141078.0</td>\n",
       "    </tr>\n",
       "  </tbody>\n",
       "</table>\n",
       "</div>"
      ],
      "text/plain": [
       "    Year  Crime Rate   Population  Offense Count\n",
       "28  2019   42.595870  328329953.0       139855.0\n",
       "29  2020   42.557327  331501080.0       141078.0"
      ]
     },
     "execution_count": 54,
     "metadata": {},
     "output_type": "execute_result"
    }
   ],
   "source": [
    "#filter CC and ATM crime rate for years 2019 and 2020\n",
    "CCATM_Fraud_withCR_2019_2020=CCATM_Fraud_withCR[CCATM_Fraud_withCR['Year']>=2019]\n",
    "CCATM_Fraud_withCR_2019_2020"
   ]
  },
  {
   "cell_type": "code",
   "execution_count": 55,
   "id": "f3340fff-260d-4b29-a7b6-15ba45b93ffe",
   "metadata": {},
   "outputs": [
    {
     "data": {
      "text/html": [
       "<div>\n",
       "<style scoped>\n",
       "    .dataframe tbody tr th:only-of-type {\n",
       "        vertical-align: middle;\n",
       "    }\n",
       "\n",
       "    .dataframe tbody tr th {\n",
       "        vertical-align: top;\n",
       "    }\n",
       "\n",
       "    .dataframe thead th {\n",
       "        text-align: right;\n",
       "    }\n",
       "</style>\n",
       "<table border=\"1\" class=\"dataframe\">\n",
       "  <thead>\n",
       "    <tr style=\"text-align: right;\">\n",
       "      <th></th>\n",
       "      <th>Date</th>\n",
       "      <th>Year</th>\n",
       "      <th>City</th>\n",
       "      <th>State</th>\n",
       "      <th>City_population</th>\n",
       "      <th>Transaction_number</th>\n",
       "      <th>is_fraud</th>\n",
       "    </tr>\n",
       "  </thead>\n",
       "  <tbody>\n",
       "    <tr>\n",
       "      <th>2533</th>\n",
       "      <td>2019-01-02 01:06:37</td>\n",
       "      <td>2019</td>\n",
       "      <td>Collettsville</td>\n",
       "      <td>NC</td>\n",
       "      <td>885</td>\n",
       "      <td>e8a81877ae9a0a7f883e15cb39dc4022</td>\n",
       "      <td>1</td>\n",
       "    </tr>\n",
       "    <tr>\n",
       "      <th>2556</th>\n",
       "      <td>2019-01-02 01:47:29</td>\n",
       "      <td>2019</td>\n",
       "      <td>San Antonio</td>\n",
       "      <td>TX</td>\n",
       "      <td>1595797</td>\n",
       "      <td>bc7d41c41103877b03232f03f1f8d3f5</td>\n",
       "      <td>1</td>\n",
       "    </tr>\n",
       "    <tr>\n",
       "      <th>2609</th>\n",
       "      <td>2019-01-02 03:05:23</td>\n",
       "      <td>2019</td>\n",
       "      <td>San Antonio</td>\n",
       "      <td>TX</td>\n",
       "      <td>1595797</td>\n",
       "      <td>b98f12f4168391b2203238813df5aa8c</td>\n",
       "      <td>1</td>\n",
       "    </tr>\n",
       "    <tr>\n",
       "      <th>2634</th>\n",
       "      <td>2019-01-02 03:38:03</td>\n",
       "      <td>2019</td>\n",
       "      <td>Collettsville</td>\n",
       "      <td>NC</td>\n",
       "      <td>885</td>\n",
       "      <td>397894a5c4c02e3c61c784001f0f14e4</td>\n",
       "      <td>1</td>\n",
       "    </tr>\n",
       "    <tr>\n",
       "      <th>2641</th>\n",
       "      <td>2019-01-02 03:55:47</td>\n",
       "      <td>2019</td>\n",
       "      <td>San Antonio</td>\n",
       "      <td>TX</td>\n",
       "      <td>1595797</td>\n",
       "      <td>7863235a750d73a244c07f1fb7f0185a</td>\n",
       "      <td>1</td>\n",
       "    </tr>\n",
       "    <tr>\n",
       "      <th>...</th>\n",
       "      <td>...</td>\n",
       "      <td>...</td>\n",
       "      <td>...</td>\n",
       "      <td>...</td>\n",
       "      <td>...</td>\n",
       "      <td>...</td>\n",
       "      <td>...</td>\n",
       "    </tr>\n",
       "    <tr>\n",
       "      <th>1878595</th>\n",
       "      <td>2020-12-22 22:18:07</td>\n",
       "      <td>2020</td>\n",
       "      <td>Senatobia</td>\n",
       "      <td>MS</td>\n",
       "      <td>14462</td>\n",
       "      <td>da7f67d7375f10a054a3d919448c45dd</td>\n",
       "      <td>1</td>\n",
       "    </tr>\n",
       "    <tr>\n",
       "      <th>1878672</th>\n",
       "      <td>2020-12-22 22:31:48</td>\n",
       "      <td>2020</td>\n",
       "      <td>Senatobia</td>\n",
       "      <td>MS</td>\n",
       "      <td>14462</td>\n",
       "      <td>25b076c7bcd70f272c1c5326bb234f4b</td>\n",
       "      <td>1</td>\n",
       "    </tr>\n",
       "    <tr>\n",
       "      <th>1878884</th>\n",
       "      <td>2020-12-22 23:06:03</td>\n",
       "      <td>2020</td>\n",
       "      <td>Senatobia</td>\n",
       "      <td>MS</td>\n",
       "      <td>14462</td>\n",
       "      <td>2df7d894868fbc99ec1d8b055585fc9d</td>\n",
       "      <td>1</td>\n",
       "    </tr>\n",
       "    <tr>\n",
       "      <th>1878932</th>\n",
       "      <td>2020-12-22 23:13:39</td>\n",
       "      <td>2020</td>\n",
       "      <td>Senatobia</td>\n",
       "      <td>MS</td>\n",
       "      <td>14462</td>\n",
       "      <td>44292cbc51e37dc018ee6a988a4bc426</td>\n",
       "      <td>1</td>\n",
       "    </tr>\n",
       "    <tr>\n",
       "      <th>1878934</th>\n",
       "      <td>2020-12-22 23:13:39</td>\n",
       "      <td>2020</td>\n",
       "      <td>Senatobia</td>\n",
       "      <td>MS</td>\n",
       "      <td>14462</td>\n",
       "      <td>44292cbc51e37dc018ee6a988a4bc426</td>\n",
       "      <td>1</td>\n",
       "    </tr>\n",
       "  </tbody>\n",
       "</table>\n",
       "<p>9982 rows × 7 columns</p>\n",
       "</div>"
      ],
      "text/plain": [
       "                       Date  Year           City State  City_population  \\\n",
       "2533    2019-01-02 01:06:37  2019  Collettsville    NC              885   \n",
       "2556    2019-01-02 01:47:29  2019    San Antonio    TX          1595797   \n",
       "2609    2019-01-02 03:05:23  2019    San Antonio    TX          1595797   \n",
       "2634    2019-01-02 03:38:03  2019  Collettsville    NC              885   \n",
       "2641    2019-01-02 03:55:47  2019    San Antonio    TX          1595797   \n",
       "...                     ...   ...            ...   ...              ...   \n",
       "1878595 2020-12-22 22:18:07  2020      Senatobia    MS            14462   \n",
       "1878672 2020-12-22 22:31:48  2020      Senatobia    MS            14462   \n",
       "1878884 2020-12-22 23:06:03  2020      Senatobia    MS            14462   \n",
       "1878932 2020-12-22 23:13:39  2020      Senatobia    MS            14462   \n",
       "1878934 2020-12-22 23:13:39  2020      Senatobia    MS            14462   \n",
       "\n",
       "                       Transaction_number  is_fraud  \n",
       "2533     e8a81877ae9a0a7f883e15cb39dc4022         1  \n",
       "2556     bc7d41c41103877b03232f03f1f8d3f5         1  \n",
       "2609     b98f12f4168391b2203238813df5aa8c         1  \n",
       "2634     397894a5c4c02e3c61c784001f0f14e4         1  \n",
       "2641     7863235a750d73a244c07f1fb7f0185a         1  \n",
       "...                                   ...       ...  \n",
       "1878595  da7f67d7375f10a054a3d919448c45dd         1  \n",
       "1878672  25b076c7bcd70f272c1c5326bb234f4b         1  \n",
       "1878884  2df7d894868fbc99ec1d8b055585fc9d         1  \n",
       "1878932  44292cbc51e37dc018ee6a988a4bc426         1  \n",
       "1878934  44292cbc51e37dc018ee6a988a4bc426         1  \n",
       "\n",
       "[9982 rows x 7 columns]"
      ]
     },
     "execution_count": 55,
     "metadata": {},
     "output_type": "execute_result"
    }
   ],
   "source": [
    "#filter fraudulent transactions for years 2019 and 2020 (our transaction dataset ends on 21/06/2021)\n",
    "Fraudulent_trans_2019_2020=Fraudulent_trans[Fraudulent_trans['Year']<=2020]\n",
    "Fraudulent_trans_2019_2020"
   ]
  },
  {
   "cell_type": "code",
   "execution_count": 56,
   "id": "d03a41b3-8b5e-4b67-bd87-201595fce752",
   "metadata": {},
   "outputs": [
    {
     "data": {
      "text/html": [
       "<div>\n",
       "<style scoped>\n",
       "    .dataframe tbody tr th:only-of-type {\n",
       "        vertical-align: middle;\n",
       "    }\n",
       "\n",
       "    .dataframe tbody tr th {\n",
       "        vertical-align: top;\n",
       "    }\n",
       "\n",
       "    .dataframe thead th {\n",
       "        text-align: right;\n",
       "    }\n",
       "</style>\n",
       "<table border=\"1\" class=\"dataframe\">\n",
       "  <thead>\n",
       "    <tr style=\"text-align: right;\">\n",
       "      <th></th>\n",
       "      <th>is_fraud</th>\n",
       "    </tr>\n",
       "    <tr>\n",
       "      <th>Year</th>\n",
       "      <th></th>\n",
       "    </tr>\n",
       "  </thead>\n",
       "  <tbody>\n",
       "    <tr>\n",
       "      <th>2019</th>\n",
       "      <td>5402</td>\n",
       "    </tr>\n",
       "    <tr>\n",
       "      <th>2020</th>\n",
       "      <td>4580</td>\n",
       "    </tr>\n",
       "  </tbody>\n",
       "</table>\n",
       "</div>"
      ],
      "text/plain": [
       "      is_fraud\n",
       "Year          \n",
       "2019      5402\n",
       "2020      4580"
      ]
     },
     "execution_count": 56,
     "metadata": {},
     "output_type": "execute_result"
    }
   ],
   "source": [
    "#group fraudulent transactions by year and count them, then convert it into a new dataframe\n",
    "Frauds_Count_2019_2020=Fraudulent_trans_2019_2020.groupby(['Year'])['is_fraud'].count()\n",
    "Frauds_Count_2019_2020=pd.DataFrame(Frauds_Count_2019_2020)\n",
    "Frauds_Count_2019_2020.head(3)"
   ]
  },
  {
   "cell_type": "code",
   "execution_count": 57,
   "id": "a9eefbf6-b57a-4f27-a150-655de0ef2ffd",
   "metadata": {},
   "outputs": [
    {
     "data": {
      "text/html": [
       "<div>\n",
       "<style scoped>\n",
       "    .dataframe tbody tr th:only-of-type {\n",
       "        vertical-align: middle;\n",
       "    }\n",
       "\n",
       "    .dataframe tbody tr th {\n",
       "        vertical-align: top;\n",
       "    }\n",
       "\n",
       "    .dataframe thead th {\n",
       "        text-align: right;\n",
       "    }\n",
       "</style>\n",
       "<table border=\"1\" class=\"dataframe\">\n",
       "  <thead>\n",
       "    <tr style=\"text-align: right;\">\n",
       "      <th></th>\n",
       "      <th>Year</th>\n",
       "      <th>is_fraud</th>\n",
       "    </tr>\n",
       "  </thead>\n",
       "  <tbody>\n",
       "    <tr>\n",
       "      <th>0</th>\n",
       "      <td>2019</td>\n",
       "      <td>5402</td>\n",
       "    </tr>\n",
       "    <tr>\n",
       "      <th>1</th>\n",
       "      <td>2020</td>\n",
       "      <td>4580</td>\n",
       "    </tr>\n",
       "  </tbody>\n",
       "</table>\n",
       "</div>"
      ],
      "text/plain": [
       "   Year  is_fraud\n",
       "0  2019      5402\n",
       "1  2020      4580"
      ]
     },
     "execution_count": 57,
     "metadata": {},
     "output_type": "execute_result"
    }
   ],
   "source": [
    "Frauds_Count_2019_2020.reset_index(inplace=True)\n",
    "Frauds_Count_2019_2020.head(3)"
   ]
  },
  {
   "cell_type": "code",
   "execution_count": 58,
   "id": "28dae53e-94f7-40a7-bc01-f4db020207e2",
   "metadata": {},
   "outputs": [
    {
     "data": {
      "text/html": [
       "<div>\n",
       "<style scoped>\n",
       "    .dataframe tbody tr th:only-of-type {\n",
       "        vertical-align: middle;\n",
       "    }\n",
       "\n",
       "    .dataframe tbody tr th {\n",
       "        vertical-align: top;\n",
       "    }\n",
       "\n",
       "    .dataframe thead th {\n",
       "        text-align: right;\n",
       "    }\n",
       "</style>\n",
       "<table border=\"1\" class=\"dataframe\">\n",
       "  <thead>\n",
       "    <tr style=\"text-align: right;\">\n",
       "      <th></th>\n",
       "      <th>is_fraud</th>\n",
       "      <th>Crime Rate</th>\n",
       "      <th>Population</th>\n",
       "      <th>Offense Count</th>\n",
       "    </tr>\n",
       "    <tr>\n",
       "      <th>Year</th>\n",
       "      <th></th>\n",
       "      <th></th>\n",
       "      <th></th>\n",
       "      <th></th>\n",
       "    </tr>\n",
       "  </thead>\n",
       "  <tbody>\n",
       "    <tr>\n",
       "      <th>2019</th>\n",
       "      <td>5402</td>\n",
       "      <td>42.595870</td>\n",
       "      <td>328329953.0</td>\n",
       "      <td>139855.0</td>\n",
       "    </tr>\n",
       "    <tr>\n",
       "      <th>2020</th>\n",
       "      <td>4580</td>\n",
       "      <td>42.557327</td>\n",
       "      <td>331501080.0</td>\n",
       "      <td>141078.0</td>\n",
       "    </tr>\n",
       "  </tbody>\n",
       "</table>\n",
       "</div>"
      ],
      "text/plain": [
       "      is_fraud  Crime Rate   Population  Offense Count\n",
       "Year                                                  \n",
       "2019      5402   42.595870  328329953.0       139855.0\n",
       "2020      4580   42.557327  331501080.0       141078.0"
      ]
     },
     "execution_count": 58,
     "metadata": {},
     "output_type": "execute_result"
    }
   ],
   "source": [
    "#join the fraudulent transactions count by year to the CC and ATM crime rate dataframe\n",
    "CCATM_Fraud_withCR_2019_2020=Frauds_Count_2019_2020.set_index('Year').join(CCATM_Fraud_withCR_2019_2020.set_index('Year'))\n",
    "CCATM_Fraud_withCR_2019_2020.head()"
   ]
  },
  {
   "cell_type": "code",
   "execution_count": 59,
   "id": "b1b9d80f-312b-400d-b0be-55571be5f69c",
   "metadata": {},
   "outputs": [
    {
     "data": {
      "text/html": [
       "<div>\n",
       "<style scoped>\n",
       "    .dataframe tbody tr th:only-of-type {\n",
       "        vertical-align: middle;\n",
       "    }\n",
       "\n",
       "    .dataframe tbody tr th {\n",
       "        vertical-align: top;\n",
       "    }\n",
       "\n",
       "    .dataframe thead th {\n",
       "        text-align: right;\n",
       "    }\n",
       "</style>\n",
       "<table border=\"1\" class=\"dataframe\">\n",
       "  <thead>\n",
       "    <tr style=\"text-align: right;\">\n",
       "      <th></th>\n",
       "      <th>Fraudulent Transactions</th>\n",
       "      <th>Crime Rate</th>\n",
       "      <th>Population</th>\n",
       "      <th>Overall US Offenses</th>\n",
       "    </tr>\n",
       "    <tr>\n",
       "      <th>Year</th>\n",
       "      <th></th>\n",
       "      <th></th>\n",
       "      <th></th>\n",
       "      <th></th>\n",
       "    </tr>\n",
       "  </thead>\n",
       "  <tbody>\n",
       "    <tr>\n",
       "      <th>2019</th>\n",
       "      <td>5402</td>\n",
       "      <td>42.595870</td>\n",
       "      <td>328329953.0</td>\n",
       "      <td>139855.0</td>\n",
       "    </tr>\n",
       "    <tr>\n",
       "      <th>2020</th>\n",
       "      <td>4580</td>\n",
       "      <td>42.557327</td>\n",
       "      <td>331501080.0</td>\n",
       "      <td>141078.0</td>\n",
       "    </tr>\n",
       "  </tbody>\n",
       "</table>\n",
       "</div>"
      ],
      "text/plain": [
       "      Fraudulent Transactions  Crime Rate   Population  Overall US Offenses\n",
       "Year                                                                       \n",
       "2019                     5402   42.595870  328329953.0             139855.0\n",
       "2020                     4580   42.557327  331501080.0             141078.0"
      ]
     },
     "execution_count": 59,
     "metadata": {},
     "output_type": "execute_result"
    }
   ],
   "source": [
    "#rename columns\n",
    "CCATM_Fraud_withCR_2019_2020.rename(columns={'is_fraud':'Fraudulent Transactions','Offense Count':'Overall US Offenses'},inplace=True)\n",
    "CCATM_Fraud_withCR_2019_2020"
   ]
  },
  {
   "cell_type": "code",
   "execution_count": 60,
   "id": "75c6f750-1120-45ed-861e-423168478f9b",
   "metadata": {},
   "outputs": [
    {
     "data": {
      "text/html": [
       "<div>\n",
       "<style scoped>\n",
       "    .dataframe tbody tr th:only-of-type {\n",
       "        vertical-align: middle;\n",
       "    }\n",
       "\n",
       "    .dataframe tbody tr th {\n",
       "        vertical-align: top;\n",
       "    }\n",
       "\n",
       "    .dataframe thead th {\n",
       "        text-align: right;\n",
       "    }\n",
       "</style>\n",
       "<table border=\"1\" class=\"dataframe\">\n",
       "  <thead>\n",
       "    <tr style=\"text-align: right;\">\n",
       "      <th></th>\n",
       "      <th>Year</th>\n",
       "      <th>Fraudulent Transactions</th>\n",
       "      <th>Crime Rate</th>\n",
       "      <th>Population</th>\n",
       "      <th>Overall US Offenses</th>\n",
       "    </tr>\n",
       "  </thead>\n",
       "  <tbody>\n",
       "    <tr>\n",
       "      <th>0</th>\n",
       "      <td>2019</td>\n",
       "      <td>5402</td>\n",
       "      <td>42.595870</td>\n",
       "      <td>328329953.0</td>\n",
       "      <td>139855.0</td>\n",
       "    </tr>\n",
       "    <tr>\n",
       "      <th>1</th>\n",
       "      <td>2020</td>\n",
       "      <td>4580</td>\n",
       "      <td>42.557327</td>\n",
       "      <td>331501080.0</td>\n",
       "      <td>141078.0</td>\n",
       "    </tr>\n",
       "  </tbody>\n",
       "</table>\n",
       "</div>"
      ],
      "text/plain": [
       "   Year  Fraudulent Transactions  Crime Rate   Population  Overall US Offenses\n",
       "0  2019                     5402   42.595870  328329953.0             139855.0\n",
       "1  2020                     4580   42.557327  331501080.0             141078.0"
      ]
     },
     "execution_count": 60,
     "metadata": {},
     "output_type": "execute_result"
    }
   ],
   "source": [
    "CCATM_Fraud_withCR_2019_2020.reset_index(inplace=True)\n",
    "CCATM_Fraud_withCR_2019_2020"
   ]
  },
  {
   "cell_type": "code",
   "execution_count": 61,
   "id": "a3e43555-a40c-4192-b6fc-7a9b3c736a5d",
   "metadata": {},
   "outputs": [
    {
     "data": {
      "text/html": [
       "<div>\n",
       "<style scoped>\n",
       "    .dataframe tbody tr th:only-of-type {\n",
       "        vertical-align: middle;\n",
       "    }\n",
       "\n",
       "    .dataframe tbody tr th {\n",
       "        vertical-align: top;\n",
       "    }\n",
       "\n",
       "    .dataframe thead th {\n",
       "        text-align: right;\n",
       "    }\n",
       "</style>\n",
       "<table border=\"1\" class=\"dataframe\">\n",
       "  <thead>\n",
       "    <tr style=\"text-align: right;\">\n",
       "      <th></th>\n",
       "      <th>0</th>\n",
       "    </tr>\n",
       "  </thead>\n",
       "  <tbody>\n",
       "    <tr>\n",
       "      <th>0</th>\n",
       "      <td>1.645296</td>\n",
       "    </tr>\n",
       "    <tr>\n",
       "      <th>1</th>\n",
       "      <td>1.381594</td>\n",
       "    </tr>\n",
       "  </tbody>\n",
       "</table>\n",
       "</div>"
      ],
      "text/plain": [
       "          0\n",
       "0  1.645296\n",
       "1  1.381594"
      ]
     },
     "execution_count": 61,
     "metadata": {},
     "output_type": "execute_result"
    }
   ],
   "source": [
    "#calculate fraud rate every 100.000 citizens to compare it to the CC and ATM crime rate, and store the results in a new dataframe\n",
    "FraudsRate=pd.DataFrame(100000*CCATM_Fraud_withCR_2019_2020['Fraudulent Transactions']/CCATM_Fraud_withCR_2019_2020['Population'])\n",
    "FraudsRate"
   ]
  },
  {
   "cell_type": "code",
   "execution_count": 62,
   "id": "69f43349-77ee-4ea3-aad6-3c8d82e34952",
   "metadata": {},
   "outputs": [
    {
     "data": {
      "text/html": [
       "<div>\n",
       "<style scoped>\n",
       "    .dataframe tbody tr th:only-of-type {\n",
       "        vertical-align: middle;\n",
       "    }\n",
       "\n",
       "    .dataframe tbody tr th {\n",
       "        vertical-align: top;\n",
       "    }\n",
       "\n",
       "    .dataframe thead th {\n",
       "        text-align: right;\n",
       "    }\n",
       "</style>\n",
       "<table border=\"1\" class=\"dataframe\">\n",
       "  <thead>\n",
       "    <tr style=\"text-align: right;\">\n",
       "      <th></th>\n",
       "      <th>DF Frauds Rate</th>\n",
       "    </tr>\n",
       "  </thead>\n",
       "  <tbody>\n",
       "    <tr>\n",
       "      <th>0</th>\n",
       "      <td>1.645296</td>\n",
       "    </tr>\n",
       "    <tr>\n",
       "      <th>1</th>\n",
       "      <td>1.381594</td>\n",
       "    </tr>\n",
       "  </tbody>\n",
       "</table>\n",
       "</div>"
      ],
      "text/plain": [
       "   DF Frauds Rate\n",
       "0        1.645296\n",
       "1        1.381594"
      ]
     },
     "execution_count": 62,
     "metadata": {},
     "output_type": "execute_result"
    }
   ],
   "source": [
    "#rename column\n",
    "FraudsRate.rename(columns={0:'DF Frauds Rate'},inplace=True)\n",
    "FraudsRate"
   ]
  },
  {
   "cell_type": "code",
   "execution_count": 63,
   "id": "57856ad8-e2bf-4629-adc0-ac96252dd790",
   "metadata": {},
   "outputs": [
    {
     "data": {
      "text/html": [
       "<div>\n",
       "<style scoped>\n",
       "    .dataframe tbody tr th:only-of-type {\n",
       "        vertical-align: middle;\n",
       "    }\n",
       "\n",
       "    .dataframe tbody tr th {\n",
       "        vertical-align: top;\n",
       "    }\n",
       "\n",
       "    .dataframe thead th {\n",
       "        text-align: right;\n",
       "    }\n",
       "</style>\n",
       "<table border=\"1\" class=\"dataframe\">\n",
       "  <thead>\n",
       "    <tr style=\"text-align: right;\">\n",
       "      <th></th>\n",
       "      <th>Year</th>\n",
       "      <th>Fraudulent Transactions</th>\n",
       "      <th>Crime Rate</th>\n",
       "      <th>Population</th>\n",
       "      <th>Overall US Offenses</th>\n",
       "      <th>DF Frauds Rate</th>\n",
       "    </tr>\n",
       "  </thead>\n",
       "  <tbody>\n",
       "    <tr>\n",
       "      <th>0</th>\n",
       "      <td>2019</td>\n",
       "      <td>5402</td>\n",
       "      <td>42.595870</td>\n",
       "      <td>328329953.0</td>\n",
       "      <td>139855.0</td>\n",
       "      <td>1.645296</td>\n",
       "    </tr>\n",
       "    <tr>\n",
       "      <th>1</th>\n",
       "      <td>2020</td>\n",
       "      <td>4580</td>\n",
       "      <td>42.557327</td>\n",
       "      <td>331501080.0</td>\n",
       "      <td>141078.0</td>\n",
       "      <td>1.381594</td>\n",
       "    </tr>\n",
       "  </tbody>\n",
       "</table>\n",
       "</div>"
      ],
      "text/plain": [
       "   Year  Fraudulent Transactions  Crime Rate   Population  \\\n",
       "0  2019                     5402   42.595870  328329953.0   \n",
       "1  2020                     4580   42.557327  331501080.0   \n",
       "\n",
       "   Overall US Offenses  DF Frauds Rate  \n",
       "0             139855.0        1.645296  \n",
       "1             141078.0        1.381594  "
      ]
     },
     "execution_count": 63,
     "metadata": {},
     "output_type": "execute_result"
    }
   ],
   "source": [
    "# join the new fraud rate dataframe to the CC and ATM crime rate dataframe\n",
    "CCATM_Fraud_withCR_2019_2020=CCATM_Fraud_withCR_2019_2020.join(FraudsRate)\n",
    "CCATM_Fraud_withCR_2019_2020.head()"
   ]
  },
  {
   "cell_type": "code",
   "execution_count": 64,
   "id": "896651f2-5008-4642-8138-33e08229e09e",
   "metadata": {},
   "outputs": [
    {
     "data": {
      "image/png": "[encoded data removed]",
      "text/plain": [
       "<Figure size 576x288 with 1 Axes>"
      ]
     },
     "metadata": {
      "needs_background": "light"
     },
     "output_type": "display_data"
    }
   ],
   "source": [
    "#create a bar plot to visualise the comparison between fraud rate and CC and ATM crime rate every 100.000 citizens\n",
    "CCATM_Fraud_withCR_2019_2020[['Year', 'Crime Rate','DF Frauds Rate']].plot(x='Year',kind='bar',width=0.8,figsize=(8,4),title='US Crime Rate vs DF Fraud Rate', color=['skyblue','dodgerblue'])\n",
    "\n",
    "plt.ylabel('Rate')\n",
    "plt.legend(loc='upper right')\n",
    "\n",
    "plt.show()"
   ]
  },
  {
   "cell_type": "markdown",
   "id": "4d1a8f4e-b822-421c-9058-bd1a602557d0",
   "metadata": {},
   "source": [
    "As we can see, in both 2019 and 2020 we have a Rate of more than 40 CC or ATM frauds in the US, and in our dataset the Frauds Rate is slightly above 1, but the offense count used to calculate the crime rate comprehends CC AND ATM frauds: we don't have enough data to understand in which proportion.\n",
    "Looking at our graph we could say that the Fraud Rate reflects in some way the Us Crime frate for CC and ATM fraud. However, the great difference between the two rates in both years make it clear that we don't have enough data and not good enough to proceed further with the analysis and formulate a significant hypothesis."
   ]
  },
  {
   "cell_type": "markdown",
   "id": "842ad518-3f20-4ccc-a48a-1008e4e3c51e",
   "metadata": {},
   "source": [
    "## Conclusions\n",
    "\n",
    "With this analysis we tried to answer the following questions:\n",
    "1. Do areas with higher crime rate commit more CC frauds? \n",
    "2. What are crime rates in comparison to the CC Frauds rate?\n",
    "\n",
    "For what concerns the first question, unfortunately we didn't have the crime rate at state or city level, so we couldn't proceed further with the analysis.\n",
    "\n",
    "As for the second question, if we look at the last graph with the assumption that both dataframes are representative of US population behaviour, we can see that in 2019 and 2020 Crime rate and Fraud rate had the same trend. However we must consider that the Crime Rate takes into consideration both CC frauds and ATM frauds, so our result doesn't probably reflect the reality or at least doesn't consider all the variables."
   ]
  }
 ],
 "metadata": {
  "kernelspec": {
   "display_name": "Python 3 (ipykernel)",
   "language": "python",
   "name": "python3"
  },
  "language_info": {
   "codemirror_mode": {
    "name": "ipython",
    "version": 3
   },
   "file_extension": ".py",
   "mimetype": "text/x-python",
   "name": "python",
   "nbconvert_exporter": "python",
   "pygments_lexer": "ipython3",
   "version": "3.10.4"
  }
 },
 "nbformat": 4,
 "nbformat_minor": 5
}
