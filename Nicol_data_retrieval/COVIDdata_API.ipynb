{
 "cells": [
  {
   "cell_type": "markdown",
   "metadata": {
    "id": "N2H20S1PRkni"
   },
   "source": [
    "# Oxford COVID-19 Government Response Tracker API"
   ]
  },
  {
   "cell_type": "markdown",
   "metadata": {},
   "source": [
    "The Oxford Coronavirus Government Response Tracker (OxCGRT) project calculate a Stringency Index, a composite measure of nine of the response metrics (or individual indicators).\n",
    "\n",
    "The individual indicators capture all government measures related to a specific domain, including formally adopted laws, policies promulgated by executive or regulatory authorities, and softer guidance or advice.\n",
    "\n",
    "They are categorized into 5 groups:\n",
    "* **C** - containment and closure policies\n",
    "* **E** - economic policies\n",
    "* **H** - health system policies\n",
    "* **M** - miscellaneous policies\n",
    "* **V** - vaccination policies\n",
    "\n",
    "To make it easier to describe government responses in aggregate, OxCGRT calculates simple indices that combine individual indicators to provide an overall measure of the intensity of government response across a family of indicators. These indices are designed to provide a simple snapshot of the number and degree of government responses in a particular domain.\n",
    "\n",
    "OxCGRT publishes four indices that group different families of policy indicators:\n",
    "\n",
    "* Government response index or \"GRI\" (all categories)\n",
    "* Stringency index (containment and closure policies, sometimes referred to as lockdown policies)\n",
    "* Containment and health index or \"CHI\" (containment and closure and health policies)\n",
    "* Economic support index or \"ESI\" (economic support measures)\n",
    "\n",
    "Each index is composed of a series of individual policy response indicators. \n",
    "\n",
    "For each indicator, the authors created a score by taking the ordinal value and subtracting half a point if the policy is targeted rather than general, if applicable.\n",
    "\n",
    "Then they rescaled each of these by their maximum value to create a score between 0 and 100, with a missing value contributing 0. These scores are then averaged to obtain the composite indices. \n",
    "This calculation is described in equation (1) below:\n",
    "\n",
    "$index = \\frac{1}{k}\\sum \\limits _{j=1} ^{k} I_{j}$\n",
    "\n",
    "where k is the number of component indicators in an index and $I_{j}$ is the sub-index score of an individual indicator.\n",
    "\n",
    "Each subindex score (I) for any given indicator (j) on any given day (t) is calculated by the function described in equation below based on the following parameters:\n",
    "* The maximum value of the indicator $N_{j}$\n",
    "* Whether that indicator has a flag ($F_{j} =1 $ if the indicator has a flag variable and $F_{j} =0 $  if the indicator does not have a flag variable)\n",
    "* The recorded policy value on the ordinal scale ($v_{j,t}$)\n",
    "* The recorded binary flag for that indicator ($f_{j,t}$)\n",
    "\n",
    "This normalizes the different ordinal scales to produce a subindex score between 0 and 100, where each full point on the ordinal scale is equally spaced. For indicators that do have a flag variable, if this flag is recorded as 0 (so measures are targeted) this is treated as a half-step between ordinal values.\n",
    "\n",
    "$I_{j,t} = 100 \\frac{v_{j,t} - 0,5(F_{j}-f_{j,t})}{N_{j}}$\n",
    "\n",
    "N.B. The database only contains flag values if the indicator has a non-zero value. If a government has no policy for a given indicator (that is, the indicator equals zero), the corresponding flag is blank/null in the database. For the purpose of calculating the index, this is equivalent to a subindex score of zero. In other words, $ I_{j,t}=0 $ if $ v_{j,t}=0 $ ( if $v_{j,t}=0$, the function $F_{j}-f_{j,t}$ is also treated as 0. "
   ]
  },
  {
   "cell_type": "markdown",
   "metadata": {},
   "source": [
    "For the Stringency Index the considered metrics are:\n",
    "\n",
    "- **C - CONTAINMENT AND CLOSURE POLICIES**\n",
    "\n",
    "    * **C1 - School Closures**: it closings of schools and universities. This indicator uses ordinal values and ranks the policies on a simple numerical scale that goes from 0 (no measures) to 3 (require closing all levels). It has an additional flag variable that can be either 0 (targeted - valid for individual school districts) or 1 (general - all schools in a jurisdiction are closed).\n",
    "    * **C2- Workplace closing**: it records closings of workplaces. Its values can go from 0 (no measures) to 3 ( require closing (or work from home) for all-but-essential workplaces (eg grocery stores, doctors)). It has an additional flag variable that can be either 0 (targeted) or 1 (general).\n",
    "    * **C3 - Cancel public events**: it records cancelling public events. Its values can go from 0 (no measures) to 2 (require cancelling). It has an additional flag variable that can be either 0 (targeted) or 1 (general).\n",
    "    * **C4 - Restrictions on gatherings**: it records limits on gatherings. Its values can go from 0 (no restrictions) to 4 (restrictions on gatherings of 10 people or less). It has an additional flag variable that can be either 0 (targeted) or 1 (general).\n",
    "    * **C5 - Close public transport**: it records closing of public transport. Its values can go from 0 (no measures) to 2 (require closing (or prohibit most citizens from using it)). It has an additional flag variable that can be either 0 (targeted) or 1 (general).\n",
    "    * **C6 - Stay at home requirements**: it records orders to \"shelter-in-place\" and otherwise confine to the home. Its values can go from 0 (no measures) to 3 (require not leaving house with minimal exceptions (eg allowed to leave once a week, or only one person can leave at a time, etc)). It has an additional flag variable that can be either 0 (targeted) or 1 (general).\n",
    "    * **C7 - Restrictions on internal movement**: it records restrictions on internal movement between cities/regions. Its values can go from 0 (no measures) to 2 (internal movement restrictions in place). It has an additional flag variable that can be either 0 (targeted) or 1 (general).\n",
    "    * **C8 - International travel controls**: it records restrictions on international travel (for foreign travellers, not citizens). Its values can go from 0 (no measures) to 4 (ban on all regions or total border closure). It has an additional flag variable that can be either 0 (targeted) or 1 (general).\n",
    "\n",
    "- **H - HEALTH SYSTEM POLICIES**\n",
    "\n",
    "    * **H1 - Public information campaigns**: it records presence of public info campaigns. Its values can go from 0 (no Covid-19 public information campaign) to 2 (coordinated public information campaign (eg across traditional and social media)). It has an additional flag variable that can be either 0 (targeted) or 1 (general).\n",
    "\n",
    "The API outputs two values for the stringency index – the actual index `stringency_actual`\n",
    "which is the calculated value, `null` if the index has been rejected for that date for having insufficient\n",
    "data, and a ‘smoothed’ value `stringency`.\n",
    "\n",
    "The smoothed value is only different in the past week, and is equal to the most recent valid index (if there is one, else null). The motivation for this is to provide a stabilized value for display purposes.\n",
    "\n",
    "The API also outputs `legacy stringency` index that approximates the logic of the former version of the Stringency Index, which only had seven components. This legacy indicator should only be used for continuity purposes.\n",
    "The legacy indicator is calculated through the logic above, but only uses seven of the nine indicators.\n",
    "Specifically, it chooses between C3 and C4, and between C6 and C7, selecting whichever of those\n",
    "pairs provides a higher sub-index score. "
   ]
  },
  {
   "cell_type": "markdown",
   "metadata": {},
   "source": [
    "# Bibliography\n",
    "\n",
    "https://www.nature.com/articles/s41562-021-01079-8#Sec6\n",
    "https://ourworldindata.org/metrics-explained-covid19-stringency-index\n",
    "https://www.bsg.ox.ac.uk/research/research-projects/covid-19-government-response-tracker\n",
    "https://github.com/OxCGRT/covid-policy-tracker/blob/master/documentation/index_methodology.md\n",
    "https://github.com/OxCGRT/covid-policy-tracker/blob/master/documentation/codebook.md\n",
    "https://github.com/OxCGRT/covid-policy-tracker/blob/master/documentation/interpretation_guide.md\n",
    "https://www.bsg.ox.ac.uk/sites/default/files/2022-04/BSG-WP-2020-032-v13.pdf\n",
    "https://www.bsg.ox.ac.uk/sites/default/files/Calculation%20and%20presentation%20of%20the%20Stringency%20Index.pdf"
   ]
  },
  {
   "cell_type": "markdown",
   "metadata": {},
   "source": [
    "### CODE FOR DATA RETRIEVAL"
   ]
  },
  {
   "cell_type": "markdown",
   "metadata": {},
   "source": [
    "#### Necessary Libraries"
   ]
  },
  {
   "cell_type": "code",
   "execution_count": 1,
   "metadata": {
    "id": "xvDWcov8g5Lj"
   },
   "outputs": [],
   "source": [
    "import requests\n",
    "import pandas as pd"
   ]
  },
  {
   "cell_type": "markdown",
   "metadata": {},
   "source": [
    "#### Choice of period of time and set URL for request\n",
    "\n",
    "Input the desired start date and end date in the format `YYYY-MM-DD`.\n",
    "\n",
    "To match transactions dataset we need Start date= `2020-01-01` and End Date= `2020-06-21`."
   ]
  },
  {
   "cell_type": "code",
   "execution_count": 2,
   "metadata": {},
   "outputs": [
    {
     "name": "stdout",
     "output_type": "stream",
     "text": [
      "Set the start date(YYYY-MM-DD): 2020-01-01\n",
      "Set the end date(YYYY-MM-DD): 2021-06-21\n"
     ]
    }
   ],
   "source": [
    "start_date= input('Set the start date(YYYY-MM-DD): ') \n",
    "end_date= input('Set the end date(YYYY-MM-DD): ')\n",
    "\n",
    "url = 'https://covidtrackerapi.bsg.ox.ac.uk/api/v2/stringency/date-range/{}/{}'.format(start_date,end_date)"
   ]
  },
  {
   "cell_type": "markdown",
   "metadata": {},
   "source": [
    "#### Data Request"
   ]
  },
  {
   "cell_type": "code",
   "execution_count": 4,
   "metadata": {},
   "outputs": [
    {
     "name": "stdout",
     "output_type": "stream",
     "text": [
      "200\n"
     ]
    }
   ],
   "source": [
    "response = requests.get(url)\n",
    "my_data = response.json()\n",
    "print(response.status_code)"
   ]
  },
  {
   "cell_type": "markdown",
   "metadata": {},
   "source": [
    "#### Get dictionary keys\n",
    "\n",
    "As we can see, the keys of the dictionary containing the data correspond to the dates of each day of the chosen period. Consequently we can create a list called `dates` that we will use in the next step to extract the corresponding values from the json file, to be able then to convert them into a DataFrame.\n",
    "\n",
    "We create then a list with all the country codes, to be used in the next steps."
   ]
  },
  {
   "cell_type": "code",
   "execution_count": 5,
   "metadata": {},
   "outputs": [],
   "source": [
    "dates=list(my_data[\"data\"].keys())\n",
    "dates\n",
    "countries= my_data['countries']"
   ]
  },
  {
   "cell_type": "markdown",
   "metadata": {},
   "source": [
    "#### Data split by date\n",
    "\n",
    "Now we use the dates list to get the corresponding values, which are actually nested dictionaries: doing this we create a list of dictionaries, each having the data of just one day for all countries."
   ]
  },
  {
   "cell_type": "code",
   "execution_count": 6,
   "metadata": {},
   "outputs": [],
   "source": [
    "daily_json=[]\n",
    "\n",
    "for i in range(len(dates)):\n",
    "  d=my_data[\"data\"][dates[i]]\n",
    "  daily_json.append(d)"
   ]
  },
  {
   "cell_type": "markdown",
   "metadata": {},
   "source": [
    "#### Creating dataframe\n",
    "\n",
    "Converting the data of the first element of the `daily_json` list, we create a dataframe to which we will append the data of the following elements to create one unique dataset.\n",
    "The dataframe was transposed to have \"date_value\", \"country_code\", \"confirmed\", \"deaths\" etc... as column names."
   ]
  },
  {
   "cell_type": "code",
   "execution_count": 7,
   "metadata": {
    "scrolled": true
   },
   "outputs": [
    {
     "data": {
      "text/html": [
       "<div>\n",
       "<style scoped>\n",
       "    .dataframe tbody tr th:only-of-type {\n",
       "        vertical-align: middle;\n",
       "    }\n",
       "\n",
       "    .dataframe tbody tr th {\n",
       "        vertical-align: top;\n",
       "    }\n",
       "\n",
       "    .dataframe thead th {\n",
       "        text-align: right;\n",
       "    }\n",
       "</style>\n",
       "<table border=\"1\" class=\"dataframe\">\n",
       "  <thead>\n",
       "    <tr style=\"text-align: right;\">\n",
       "      <th></th>\n",
       "      <th>date_value</th>\n",
       "      <th>country_code</th>\n",
       "      <th>confirmed</th>\n",
       "      <th>deaths</th>\n",
       "      <th>stringency_actual</th>\n",
       "      <th>stringency</th>\n",
       "      <th>stringency_legacy</th>\n",
       "      <th>stringency_legacy_disp</th>\n",
       "    </tr>\n",
       "  </thead>\n",
       "  <tbody>\n",
       "    <tr>\n",
       "      <th>CUB</th>\n",
       "      <td>2020-01-01</td>\n",
       "      <td>CUB</td>\n",
       "      <td>None</td>\n",
       "      <td>None</td>\n",
       "      <td>0</td>\n",
       "      <td>0</td>\n",
       "      <td>0</td>\n",
       "      <td>0</td>\n",
       "    </tr>\n",
       "    <tr>\n",
       "      <th>MWI</th>\n",
       "      <td>2020-01-01</td>\n",
       "      <td>MWI</td>\n",
       "      <td>None</td>\n",
       "      <td>None</td>\n",
       "      <td>0</td>\n",
       "      <td>0</td>\n",
       "      <td>0</td>\n",
       "      <td>0</td>\n",
       "    </tr>\n",
       "    <tr>\n",
       "      <th>BIH</th>\n",
       "      <td>2020-01-01</td>\n",
       "      <td>BIH</td>\n",
       "      <td>None</td>\n",
       "      <td>None</td>\n",
       "      <td>0</td>\n",
       "      <td>0</td>\n",
       "      <td>0</td>\n",
       "      <td>0</td>\n",
       "    </tr>\n",
       "    <tr>\n",
       "      <th>PNG</th>\n",
       "      <td>2020-01-01</td>\n",
       "      <td>PNG</td>\n",
       "      <td>None</td>\n",
       "      <td>None</td>\n",
       "      <td>0</td>\n",
       "      <td>0</td>\n",
       "      <td>0</td>\n",
       "      <td>0</td>\n",
       "    </tr>\n",
       "    <tr>\n",
       "      <th>PRI</th>\n",
       "      <td>2020-01-01</td>\n",
       "      <td>PRI</td>\n",
       "      <td>None</td>\n",
       "      <td>None</td>\n",
       "      <td>0</td>\n",
       "      <td>0</td>\n",
       "      <td>0</td>\n",
       "      <td>0</td>\n",
       "    </tr>\n",
       "  </tbody>\n",
       "</table>\n",
       "</div>"
      ],
      "text/plain": [
       "     date_value country_code confirmed deaths stringency_actual stringency  \\\n",
       "CUB  2020-01-01          CUB      None   None                 0          0   \n",
       "MWI  2020-01-01          MWI      None   None                 0          0   \n",
       "BIH  2020-01-01          BIH      None   None                 0          0   \n",
       "PNG  2020-01-01          PNG      None   None                 0          0   \n",
       "PRI  2020-01-01          PRI      None   None                 0          0   \n",
       "\n",
       "    stringency_legacy stringency_legacy_disp  \n",
       "CUB                 0                      0  \n",
       "MWI                 0                      0  \n",
       "BIH                 0                      0  \n",
       "PNG                 0                      0  \n",
       "PRI                 0                      0  "
      ]
     },
     "execution_count": 7,
     "metadata": {},
     "output_type": "execute_result"
    }
   ],
   "source": [
    "df= pd.DataFrame(daily_json[0],).transpose()\n",
    "df.head()"
   ]
  },
  {
   "cell_type": "markdown",
   "metadata": {},
   "source": [
    "#### Import all data into the created dataframe\n",
    "\n",
    "Starting by the second element of the `daily_json` list, we convert json element into a dataframe that will be attached at the end of the one we've already created.\n",
    "\n",
    "The resulting DataFrame has the country code as index: as we already have the country code in the dataset as a column, we can drop the index to avoid redundancy."
   ]
  },
  {
   "cell_type": "code",
   "execution_count": 8,
   "metadata": {},
   "outputs": [
    {
     "data": {
      "text/html": [
       "<div>\n",
       "<style scoped>\n",
       "    .dataframe tbody tr th:only-of-type {\n",
       "        vertical-align: middle;\n",
       "    }\n",
       "\n",
       "    .dataframe tbody tr th {\n",
       "        vertical-align: top;\n",
       "    }\n",
       "\n",
       "    .dataframe thead th {\n",
       "        text-align: right;\n",
       "    }\n",
       "</style>\n",
       "<table border=\"1\" class=\"dataframe\">\n",
       "  <thead>\n",
       "    <tr style=\"text-align: right;\">\n",
       "      <th></th>\n",
       "      <th>date_value</th>\n",
       "      <th>country_code</th>\n",
       "      <th>confirmed</th>\n",
       "      <th>deaths</th>\n",
       "      <th>stringency_actual</th>\n",
       "      <th>stringency</th>\n",
       "      <th>stringency_legacy</th>\n",
       "      <th>stringency_legacy_disp</th>\n",
       "    </tr>\n",
       "  </thead>\n",
       "  <tbody>\n",
       "    <tr>\n",
       "      <th>0</th>\n",
       "      <td>2020-01-01</td>\n",
       "      <td>CUB</td>\n",
       "      <td>None</td>\n",
       "      <td>None</td>\n",
       "      <td>0</td>\n",
       "      <td>0</td>\n",
       "      <td>0</td>\n",
       "      <td>0</td>\n",
       "    </tr>\n",
       "    <tr>\n",
       "      <th>1</th>\n",
       "      <td>2020-01-01</td>\n",
       "      <td>MWI</td>\n",
       "      <td>None</td>\n",
       "      <td>None</td>\n",
       "      <td>0</td>\n",
       "      <td>0</td>\n",
       "      <td>0</td>\n",
       "      <td>0</td>\n",
       "    </tr>\n",
       "    <tr>\n",
       "      <th>2</th>\n",
       "      <td>2020-01-01</td>\n",
       "      <td>BIH</td>\n",
       "      <td>None</td>\n",
       "      <td>None</td>\n",
       "      <td>0</td>\n",
       "      <td>0</td>\n",
       "      <td>0</td>\n",
       "      <td>0</td>\n",
       "    </tr>\n",
       "    <tr>\n",
       "      <th>3</th>\n",
       "      <td>2020-01-01</td>\n",
       "      <td>PNG</td>\n",
       "      <td>None</td>\n",
       "      <td>None</td>\n",
       "      <td>0</td>\n",
       "      <td>0</td>\n",
       "      <td>0</td>\n",
       "      <td>0</td>\n",
       "    </tr>\n",
       "    <tr>\n",
       "      <th>4</th>\n",
       "      <td>2020-01-01</td>\n",
       "      <td>PRI</td>\n",
       "      <td>None</td>\n",
       "      <td>None</td>\n",
       "      <td>0</td>\n",
       "      <td>0</td>\n",
       "      <td>0</td>\n",
       "      <td>0</td>\n",
       "    </tr>\n",
       "    <tr>\n",
       "      <th>...</th>\n",
       "      <td>...</td>\n",
       "      <td>...</td>\n",
       "      <td>...</td>\n",
       "      <td>...</td>\n",
       "      <td>...</td>\n",
       "      <td>...</td>\n",
       "      <td>...</td>\n",
       "      <td>...</td>\n",
       "    </tr>\n",
       "    <tr>\n",
       "      <th>99525</th>\n",
       "      <td>2021-06-21</td>\n",
       "      <td>IRL</td>\n",
       "      <td>269321</td>\n",
       "      <td>4979</td>\n",
       "      <td>50</td>\n",
       "      <td>50</td>\n",
       "      <td>63.81</td>\n",
       "      <td>63.81</td>\n",
       "    </tr>\n",
       "    <tr>\n",
       "      <th>99526</th>\n",
       "      <td>2021-06-21</td>\n",
       "      <td>BTN</td>\n",
       "      <td>1939</td>\n",
       "      <td>1</td>\n",
       "      <td>65.28</td>\n",
       "      <td>65.28</td>\n",
       "      <td>69.76</td>\n",
       "      <td>69.76</td>\n",
       "    </tr>\n",
       "    <tr>\n",
       "      <th>99527</th>\n",
       "      <td>2021-06-21</td>\n",
       "      <td>MNG</td>\n",
       "      <td>95819</td>\n",
       "      <td>459</td>\n",
       "      <td>59.26</td>\n",
       "      <td>59.26</td>\n",
       "      <td>60.71</td>\n",
       "      <td>60.71</td>\n",
       "    </tr>\n",
       "    <tr>\n",
       "      <th>99528</th>\n",
       "      <td>2021-06-21</td>\n",
       "      <td>EST</td>\n",
       "      <td>130818</td>\n",
       "      <td>1268</td>\n",
       "      <td>35.19</td>\n",
       "      <td>35.19</td>\n",
       "      <td>45.24</td>\n",
       "      <td>45.24</td>\n",
       "    </tr>\n",
       "    <tr>\n",
       "      <th>99529</th>\n",
       "      <td>2021-06-21</td>\n",
       "      <td>CZE</td>\n",
       "      <td>1666082</td>\n",
       "      <td>30280</td>\n",
       "      <td>41.67</td>\n",
       "      <td>41.67</td>\n",
       "      <td>52.38</td>\n",
       "      <td>52.38</td>\n",
       "    </tr>\n",
       "  </tbody>\n",
       "</table>\n",
       "<p>99530 rows × 8 columns</p>\n",
       "</div>"
      ],
      "text/plain": [
       "       date_value country_code confirmed deaths stringency_actual stringency  \\\n",
       "0      2020-01-01          CUB      None   None                 0          0   \n",
       "1      2020-01-01          MWI      None   None                 0          0   \n",
       "2      2020-01-01          BIH      None   None                 0          0   \n",
       "3      2020-01-01          PNG      None   None                 0          0   \n",
       "4      2020-01-01          PRI      None   None                 0          0   \n",
       "...           ...          ...       ...    ...               ...        ...   \n",
       "99525  2021-06-21          IRL    269321   4979                50         50   \n",
       "99526  2021-06-21          BTN      1939      1             65.28      65.28   \n",
       "99527  2021-06-21          MNG     95819    459             59.26      59.26   \n",
       "99528  2021-06-21          EST    130818   1268             35.19      35.19   \n",
       "99529  2021-06-21          CZE   1666082  30280             41.67      41.67   \n",
       "\n",
       "      stringency_legacy stringency_legacy_disp  \n",
       "0                     0                      0  \n",
       "1                     0                      0  \n",
       "2                     0                      0  \n",
       "3                     0                      0  \n",
       "4                     0                      0  \n",
       "...                 ...                    ...  \n",
       "99525             63.81                  63.81  \n",
       "99526             69.76                  69.76  \n",
       "99527             60.71                  60.71  \n",
       "99528             45.24                  45.24  \n",
       "99529             52.38                  52.38  \n",
       "\n",
       "[99530 rows x 8 columns]"
      ]
     },
     "execution_count": 8,
     "metadata": {},
     "output_type": "execute_result"
    }
   ],
   "source": [
    "for i in range(1,len(daily_json)):\n",
    "  dataframe=pd.DataFrame(daily_json[i],).transpose()\n",
    "  df= pd.concat([df, dataframe])\n",
    "\n",
    "df.reset_index(drop=True)"
   ]
  },
  {
   "cell_type": "markdown",
   "metadata": {},
   "source": [
    "#### DataFrame check\n",
    "\n",
    "To check if all the data have been converted and put into the unique DataFrame, we can calculate the number of the days considered in the given period of time (total number of dates) and the number of countries present in the dataset (which should be always equal to 185).\n",
    "\n",
    "If the number of dates multipled by the number of countries is equal to the total number of rows, we have reasonable certainty to have all the data."
   ]
  },
  {
   "cell_type": "code",
   "execution_count": 9,
   "metadata": {
    "colab": {
     "base_uri": "https://localhost:8080/"
    },
    "id": "pzv_-JF0hDbv",
    "outputId": "ee62f844-f2d3-4f44-f9f5-e9a832701ba5"
   },
   "outputs": [
    {
     "name": "stdout",
     "output_type": "stream",
     "text": [
      "538\n",
      "185\n",
      "99530\n"
     ]
    }
   ],
   "source": [
    "#total number of dates\n",
    "dates_number=len(dates)\n",
    "print(dates_number)\n",
    "\n",
    "#total number of countries\n",
    "countries_number=len(countries)\n",
    "print(countries_number)\n",
    "\n",
    "#total number of rows\n",
    "total_rows=len(df.index)\n",
    "print(total_rows)"
   ]
  },
  {
   "cell_type": "code",
   "execution_count": 10,
   "metadata": {
    "colab": {
     "base_uri": "https://localhost:8080/"
    },
    "id": "Qtm16HVXQQkn",
    "outputId": "dcc15059-702f-46ff-d9f2-0c9625544061"
   },
   "outputs": [
    {
     "name": "stdout",
     "output_type": "stream",
     "text": [
      "True\n"
     ]
    }
   ],
   "source": [
    "check_value= dates_number*countries_number\n",
    "is_check_ok= check_value==total_rows\n",
    "print(is_check_ok)"
   ]
  },
  {
   "cell_type": "markdown",
   "metadata": {},
   "source": [
    "#### Export raw data into csv\n",
    "\n",
    "If the row check is OK, we can now export the DataFrame into a csv file, which will have in the name the start date and the end date."
   ]
  },
  {
   "cell_type": "code",
   "execution_count": 13,
   "metadata": {
    "id": "aNi7tCL8oIsv"
   },
   "outputs": [],
   "source": [
    "df.to_csv(f'data\\Raw_data_COVID19API_{start_date}_{end_date}.csv', na_rep='na', index=False)"
   ]
  }
 ],
 "metadata": {
  "colab": {
   "collapsed_sections": [],
   "name": "COVIDdata_API.ipynb",
   "provenance": [],
   "toc_visible": true
  },
  "kernelspec": {
   "display_name": "Python 3 (ipykernel)",
   "language": "python",
   "name": "python3"
  },
  "language_info": {
   "codemirror_mode": {
    "name": "ipython",
    "version": 3
   },
   "file_extension": ".py",
   "mimetype": "text/x-python",
   "name": "python",
   "nbconvert_exporter": "python",
   "pygments_lexer": "ipython3",
   "version": "3.10.4"
  }
 },
 "nbformat": 4,
 "nbformat_minor": 4
}
